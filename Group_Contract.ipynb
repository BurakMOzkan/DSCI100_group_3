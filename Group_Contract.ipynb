{
 "cells": [
  {
   "cell_type": "markdown",
   "id": "5e46c819-9326-403d-afb3-4d8c71334466",
   "metadata": {},
   "source": [
    "**Group 009-03 Contract**\n",
    "\n",
    "**GOALS:**\n",
    "\n",
    "**What are our team goals for this project?**\n",
    "\n",
    "choose a data set, work together to complete the model, analyze the model, and complete the report\n",
    "regular meetings closer to the deadline\n",
    "set-up a group chat on Instagram\n",
    "help each other and communicate any frustrations or criticism in a positive manner that doesn't target the individual\n",
    "**What do we want to accomplish?**\n",
    "\n",
    "complete the project and learn from it\n",
    "make sure to put the necessary effort into it to maximize our grade\n",
    "keep it simple while fulfilling all the requirements\n",
    "What skills do we want to develop or refine?\n",
    "\n",
    "make sure we can code in R\n",
    "communication skills \n",
    "analyzing data\n",
    "**EXPECTATIONS**\n",
    "\n",
    "**What do we expect of one another regarding attendance at meetings, participation, frequency of communication, quality of work, etc.?**\n",
    "\n",
    "to participate and pull your own weight\n",
    "make sure that the contribution from each student is equal and meaningful\n",
    "to communicate via the group chat and attend scheduled meetings \n",
    "to try your best and ask for help when needed, and to help others\n",
    "**POLICIES & PROCEDURES**\n",
    "\n",
    "**What rules can we agree on to help us meet our goals and expectations?**\n",
    "\n",
    "any criticism should be directed at the project and not the individual (i.e. use 'I' statements)\n",
    "set deadlines and accomplish work well before the due date\n",
    "be ready to contribute and keep up with the work\n",
    "CONSEQUENCES:\n",
    "\n",
    "**How will we address non-performance regarding these goals, expectations, policies and procedures?**\n",
    "\n",
    "to address on an individual basis while directing criticism towards the situation and not the person\n",
    "respond with compassion and make an effort to understand each others predicament\n",
    "try to approach with a helping and rescuing mindset\n",
    "This is a working document.\n",
    "\n",
    "Adeesh Devanand, Eddie Han, Connor Law, Burak Ozkan"
   ]
  },
  {
   "cell_type": "code",
   "execution_count": null,
   "id": "d42e53ea-36b4-456c-99c7-021138080955",
   "metadata": {},
   "outputs": [],
   "source": []
  }
 ],
 "metadata": {
  "kernelspec": {
   "display_name": "R",
   "language": "R",
   "name": "ir"
  },
  "language_info": {
   "codemirror_mode": "r",
   "file_extension": ".r",
   "mimetype": "text/x-r-source",
   "name": "R",
   "pygments_lexer": "r",
   "version": "4.2.2"
  }
 },
 "nbformat": 4,
 "nbformat_minor": 5
}
