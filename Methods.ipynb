{
 "cells": [
  {
   "cell_type": "markdown",
   "id": "28fb6864-00fc-4670-bfc2-e75de14413d4",
   "metadata": {
    "tags": []
   },
   "source": [
    "### Methods :"
   ]
  },
  {
   "cell_type": "markdown",
   "id": "358b93cb-f5f1-4726-8adb-7169b36ce97c",
   "metadata": {
    "tags": []
   },
   "source": [
    "#### Selecting Columns:"
   ]
  },
  {
   "cell_type": "markdown",
   "id": "2a62f0c1-09f2-4181-98e5-7d1970ea70e8",
   "metadata": {},
   "source": [
    "After reading and Tidying the data, we start by analyzing which columns we might be able to use as predictors in classifying the type of Chest Pain an observation might have. "
   ]
  },
  {
   "cell_type": "markdown",
   "id": "cdb749b6-1acd-498c-9aa1-b982669dcac7",
   "metadata": {},
   "source": [
    "Out of our 14 columns in the Heart Disease Data:"
   ]
  },
  {
   "cell_type": "markdown",
   "id": "5cf31a64-39bd-4f72-ac7a-88274974d6df",
   "metadata": {
    "tags": []
   },
   "source": [
    "```\n",
    "1 - age\n",
    "2 - sex\n",
    "3 - cp - chest pain type (4 values)\n",
    "4 - trestbps - resting blood pressure\n",
    "5 - chol - serum cholestoral in mg/dl\n",
    "6 - fbs - fasting blood sugar > 120 mg/dl\n",
    "7 - restecg - resting electrocardiographic results (values 0,1,2)\n",
    "8 - thalach - maximum heart rate achieved\n",
    "9 - exang - exercise induced angina\n",
    "10 - oldpeak = ST depression induced by exercise relative to rest\n",
    "11 - slope - the slope of the peak exercise ST segment\n",
    "12 - ca - number of major vessels (0-3) colored by flourosopy\n",
    "13 - thal: 0 = normal; 1 = fixed defect; 2 = reversable defect\n",
    "14 - target: refers to presence of heart disease in the patient\n",
    "```\n"
   ]
  },
  {
   "cell_type": "markdown",
   "id": "8272f5c2-3d0b-4d8d-911b-74bd7979a06b",
   "metadata": {},
   "source": [
    "Using ```3 - chest pain type (4 values)``` as our categorical class, we eliminated all the other categorical columns: ```sex, fbs, restecg, exang, target``` as well as columns that do not apply to the general public (our applicable audience): ```oldpeak, slope, ca, thal ```"
   ]
  },
  {
   "cell_type": "markdown",
   "id": "7664a8e2-fafe-47ce-945b-1758f2d2beab",
   "metadata": {},
   "source": [
    "This leaves us with our 4 Predictors that will be used in classifying our type of Chest Pain in our observations:\n",
    "\n",
    "1 - `age` \n",
    "2 - `trestbps (renamed resting_bp)`\n",
    "3 - `chol (renamed serum_cholesterol)`\n",
    "4 - `thalach (renamed max_heart_rate)`\n"
   ]
  },
  {
   "cell_type": "markdown",
   "id": "6cd37187-52c2-4e70-a56c-94d5db658ad1",
   "metadata": {},
   "source": [
    "With these 4 predictors, all containing numerical data, as well as all researched indicators of a patient's overall health (specifically in respect to the heart) we use the K-nearest-neighbors formula classifying new observations.\n",
    "\n",
    "Once we center and scale all of our predictors to a comparable value, we will calculate the distance between our 4 predictors, and find the K-nearest-neighbors to our training set to classify our new observations."
   ]
  },
  {
   "cell_type": "markdown",
   "id": "201ace7d-7641-4c65-8b54-55cedb78de2a",
   "metadata": {},
   "source": [
    "#### Visualizing Our Data"
   ]
  },
  {
   "cell_type": "markdown",
   "id": "4d844568-a8aa-442f-b548-de8ebb61c948",
   "metadata": {},
   "source": [
    "After having split our data into the training and testing data, we visualize the distribution of the Chest Pain types in patients. Using a bar plot, we can clearly see the distribution comparing the heights of the bars correlated to the number of patients with that type of chest pain."
   ]
  },
  {
   "cell_type": "markdown",
   "id": "906665e2-f129-4ffa-bf95-db475cc0d0d9",
   "metadata": {},
   "source": [
    "Visualization #2:   ?  "
   ]
  },
  {
   "cell_type": "code",
   "execution_count": null,
   "id": "bda7fb66-6700-4baa-a323-f7a09ac309cf",
   "metadata": {},
   "outputs": [],
   "source": []
  }
 ],
 "metadata": {
  "kernelspec": {
   "display_name": "R",
   "language": "R",
   "name": "ir"
  },
  "language_info": {
   "codemirror_mode": "r",
   "file_extension": ".r",
   "mimetype": "text/x-r-source",
   "name": "R",
   "pygments_lexer": "r",
   "version": "4.2.2"
  }
 },
 "nbformat": 4,
 "nbformat_minor": 5
}
