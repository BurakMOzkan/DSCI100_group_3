{
 "cells": [
  {
   "cell_type": "markdown",
   "id": "3bfa3089-0c94-4645-a146-14ff84c5f32b",
   "metadata": {},
   "source": [
    "# Wrangling Code"
   ]
  },
  {
   "cell_type": "code",
   "execution_count": 2,
   "id": "b34c1d05-be83-4594-aba3-92c90b17678b",
   "metadata": {},
   "outputs": [],
   "source": [
    "options(repr.matrix.max.rows = 6)\n",
    "library(tidyverse)\n",
    "library(rvest)\n",
    "library(repr)\n",
    "library(tidymodels)"
   ]
  },
  {
   "cell_type": "code",
   "execution_count": 4,
   "id": "c2a17423-541f-4fea-98ed-6d3ac8d87826",
   "metadata": {
    "tags": []
   },
   "outputs": [
    {
     "name": "stderr",
     "output_type": "stream",
     "text": [
      "\u001b[1mRows: \u001b[22m\u001b[34m1025\u001b[39m \u001b[1mColumns: \u001b[22m\u001b[34m14\u001b[39m\n",
      "\u001b[36m──\u001b[39m \u001b[1mColumn specification\u001b[22m \u001b[36m────────────────────────────────────────────────────────\u001b[39m\n",
      "\u001b[1mDelimiter:\u001b[22m \",\"\n",
      "\u001b[32mdbl\u001b[39m (14): age, sex, cp, trestbps, chol, fbs, restecg, thalach, exang, oldpea...\n",
      "\n",
      "\u001b[36mℹ\u001b[39m Use `spec()` to retrieve the full column specification for this data.\n",
      "\u001b[36mℹ\u001b[39m Specify the column types or set `show_col_types = FALSE` to quiet this message.\n"
     ]
    },
    {
     "data": {
      "text/html": [
       "<table class=\"dataframe\">\n",
       "<caption>A spec_tbl_df: 1025 × 14</caption>\n",
       "<thead>\n",
       "\t<tr><th scope=col>age</th><th scope=col>sex</th><th scope=col>cp</th><th scope=col>trestbps</th><th scope=col>chol</th><th scope=col>fbs</th><th scope=col>restecg</th><th scope=col>thalach</th><th scope=col>exang</th><th scope=col>oldpeak</th><th scope=col>slope</th><th scope=col>ca</th><th scope=col>thal</th><th scope=col>target</th></tr>\n",
       "\t<tr><th scope=col>&lt;dbl&gt;</th><th scope=col>&lt;dbl&gt;</th><th scope=col>&lt;dbl&gt;</th><th scope=col>&lt;dbl&gt;</th><th scope=col>&lt;dbl&gt;</th><th scope=col>&lt;dbl&gt;</th><th scope=col>&lt;dbl&gt;</th><th scope=col>&lt;dbl&gt;</th><th scope=col>&lt;dbl&gt;</th><th scope=col>&lt;dbl&gt;</th><th scope=col>&lt;dbl&gt;</th><th scope=col>&lt;dbl&gt;</th><th scope=col>&lt;dbl&gt;</th><th scope=col>&lt;dbl&gt;</th></tr>\n",
       "</thead>\n",
       "<tbody>\n",
       "\t<tr><td>52</td><td>1</td><td>0</td><td>125</td><td>212</td><td>0</td><td>1</td><td>168</td><td>0</td><td>1.0</td><td>2</td><td>2</td><td>3</td><td>0</td></tr>\n",
       "\t<tr><td>53</td><td>1</td><td>0</td><td>140</td><td>203</td><td>1</td><td>0</td><td>155</td><td>1</td><td>3.1</td><td>0</td><td>0</td><td>3</td><td>0</td></tr>\n",
       "\t<tr><td>70</td><td>1</td><td>0</td><td>145</td><td>174</td><td>0</td><td>1</td><td>125</td><td>1</td><td>2.6</td><td>0</td><td>0</td><td>3</td><td>0</td></tr>\n",
       "\t<tr><td>⋮</td><td>⋮</td><td>⋮</td><td>⋮</td><td>⋮</td><td>⋮</td><td>⋮</td><td>⋮</td><td>⋮</td><td>⋮</td><td>⋮</td><td>⋮</td><td>⋮</td><td>⋮</td></tr>\n",
       "\t<tr><td>47</td><td>1</td><td>0</td><td>110</td><td>275</td><td>0</td><td>0</td><td>118</td><td>1</td><td>1.0</td><td>1</td><td>1</td><td>2</td><td>0</td></tr>\n",
       "\t<tr><td>50</td><td>0</td><td>0</td><td>110</td><td>254</td><td>0</td><td>0</td><td>159</td><td>0</td><td>0.0</td><td>2</td><td>0</td><td>2</td><td>1</td></tr>\n",
       "\t<tr><td>54</td><td>1</td><td>0</td><td>120</td><td>188</td><td>0</td><td>1</td><td>113</td><td>0</td><td>1.4</td><td>1</td><td>1</td><td>3</td><td>0</td></tr>\n",
       "</tbody>\n",
       "</table>\n"
      ],
      "text/latex": [
       "A spec\\_tbl\\_df: 1025 × 14\n",
       "\\begin{tabular}{llllllllllllll}\n",
       " age & sex & cp & trestbps & chol & fbs & restecg & thalach & exang & oldpeak & slope & ca & thal & target\\\\\n",
       " <dbl> & <dbl> & <dbl> & <dbl> & <dbl> & <dbl> & <dbl> & <dbl> & <dbl> & <dbl> & <dbl> & <dbl> & <dbl> & <dbl>\\\\\n",
       "\\hline\n",
       "\t 52 & 1 & 0 & 125 & 212 & 0 & 1 & 168 & 0 & 1.0 & 2 & 2 & 3 & 0\\\\\n",
       "\t 53 & 1 & 0 & 140 & 203 & 1 & 0 & 155 & 1 & 3.1 & 0 & 0 & 3 & 0\\\\\n",
       "\t 70 & 1 & 0 & 145 & 174 & 0 & 1 & 125 & 1 & 2.6 & 0 & 0 & 3 & 0\\\\\n",
       "\t ⋮ & ⋮ & ⋮ & ⋮ & ⋮ & ⋮ & ⋮ & ⋮ & ⋮ & ⋮ & ⋮ & ⋮ & ⋮ & ⋮\\\\\n",
       "\t 47 & 1 & 0 & 110 & 275 & 0 & 0 & 118 & 1 & 1.0 & 1 & 1 & 2 & 0\\\\\n",
       "\t 50 & 0 & 0 & 110 & 254 & 0 & 0 & 159 & 0 & 0.0 & 2 & 0 & 2 & 1\\\\\n",
       "\t 54 & 1 & 0 & 120 & 188 & 0 & 1 & 113 & 0 & 1.4 & 1 & 1 & 3 & 0\\\\\n",
       "\\end{tabular}\n"
      ],
      "text/markdown": [
       "\n",
       "A spec_tbl_df: 1025 × 14\n",
       "\n",
       "| age &lt;dbl&gt; | sex &lt;dbl&gt; | cp &lt;dbl&gt; | trestbps &lt;dbl&gt; | chol &lt;dbl&gt; | fbs &lt;dbl&gt; | restecg &lt;dbl&gt; | thalach &lt;dbl&gt; | exang &lt;dbl&gt; | oldpeak &lt;dbl&gt; | slope &lt;dbl&gt; | ca &lt;dbl&gt; | thal &lt;dbl&gt; | target &lt;dbl&gt; |\n",
       "|---|---|---|---|---|---|---|---|---|---|---|---|---|---|\n",
       "| 52 | 1 | 0 | 125 | 212 | 0 | 1 | 168 | 0 | 1.0 | 2 | 2 | 3 | 0 |\n",
       "| 53 | 1 | 0 | 140 | 203 | 1 | 0 | 155 | 1 | 3.1 | 0 | 0 | 3 | 0 |\n",
       "| 70 | 1 | 0 | 145 | 174 | 0 | 1 | 125 | 1 | 2.6 | 0 | 0 | 3 | 0 |\n",
       "| ⋮ | ⋮ | ⋮ | ⋮ | ⋮ | ⋮ | ⋮ | ⋮ | ⋮ | ⋮ | ⋮ | ⋮ | ⋮ | ⋮ |\n",
       "| 47 | 1 | 0 | 110 | 275 | 0 | 0 | 118 | 1 | 1.0 | 1 | 1 | 2 | 0 |\n",
       "| 50 | 0 | 0 | 110 | 254 | 0 | 0 | 159 | 0 | 0.0 | 2 | 0 | 2 | 1 |\n",
       "| 54 | 1 | 0 | 120 | 188 | 0 | 1 | 113 | 0 | 1.4 | 1 | 1 | 3 | 0 |\n",
       "\n"
      ],
      "text/plain": [
       "     age sex cp trestbps chol fbs restecg thalach exang oldpeak slope ca thal\n",
       "1    52  1   0  125      212  0   1       168     0     1.0     2     2  3   \n",
       "2    53  1   0  140      203  1   0       155     1     3.1     0     0  3   \n",
       "3    70  1   0  145      174  0   1       125     1     2.6     0     0  3   \n",
       "⋮    ⋮   ⋮   ⋮  ⋮        ⋮    ⋮   ⋮       ⋮       ⋮     ⋮       ⋮     ⋮  ⋮   \n",
       "1023 47  1   0  110      275  0   0       118     1     1.0     1     1  2   \n",
       "1024 50  0   0  110      254  0   0       159     0     0.0     2     0  2   \n",
       "1025 54  1   0  120      188  0   1       113     0     1.4     1     1  3   \n",
       "     target\n",
       "1    0     \n",
       "2    0     \n",
       "3    0     \n",
       "⋮    ⋮     \n",
       "1023 0     \n",
       "1024 1     \n",
       "1025 0     "
      ]
     },
     "metadata": {},
     "output_type": "display_data"
    }
   ],
   "source": [
    "url <- read_csv(\"https://raw.githubusercontent.com/BurakMOzkan/DSCI100_group_3/main/heart.csv?token=GHSAT0AAAAAACJLJJFX6MODRMZYMQVYRZCMZJZYLWQ\")\n",
    "url"
   ]
  },
  {
   "cell_type": "code",
   "execution_count": 5,
   "id": "20c9dfae-d073-40c9-8193-63d6ae83e1cb",
   "metadata": {
    "tags": []
   },
   "outputs": [
    {
     "data": {
      "text/html": [
       "<table class=\"dataframe\">\n",
       "<caption>A tibble: 1025 × 5</caption>\n",
       "<thead>\n",
       "\t<tr><th scope=col>age</th><th scope=col>chest_pain_type</th><th scope=col>resting_bp</th><th scope=col>serum_cholesterol</th><th scope=col>max_heart_rate</th></tr>\n",
       "\t<tr><th scope=col>&lt;dbl&gt;</th><th scope=col>&lt;dbl&gt;</th><th scope=col>&lt;dbl&gt;</th><th scope=col>&lt;dbl&gt;</th><th scope=col>&lt;dbl&gt;</th></tr>\n",
       "</thead>\n",
       "<tbody>\n",
       "\t<tr><td>52</td><td>0</td><td>125</td><td>212</td><td>168</td></tr>\n",
       "\t<tr><td>53</td><td>0</td><td>140</td><td>203</td><td>155</td></tr>\n",
       "\t<tr><td>70</td><td>0</td><td>145</td><td>174</td><td>125</td></tr>\n",
       "\t<tr><td>⋮</td><td>⋮</td><td>⋮</td><td>⋮</td><td>⋮</td></tr>\n",
       "\t<tr><td>47</td><td>0</td><td>110</td><td>275</td><td>118</td></tr>\n",
       "\t<tr><td>50</td><td>0</td><td>110</td><td>254</td><td>159</td></tr>\n",
       "\t<tr><td>54</td><td>0</td><td>120</td><td>188</td><td>113</td></tr>\n",
       "</tbody>\n",
       "</table>\n"
      ],
      "text/latex": [
       "A tibble: 1025 × 5\n",
       "\\begin{tabular}{lllll}\n",
       " age & chest\\_pain\\_type & resting\\_bp & serum\\_cholesterol & max\\_heart\\_rate\\\\\n",
       " <dbl> & <dbl> & <dbl> & <dbl> & <dbl>\\\\\n",
       "\\hline\n",
       "\t 52 & 0 & 125 & 212 & 168\\\\\n",
       "\t 53 & 0 & 140 & 203 & 155\\\\\n",
       "\t 70 & 0 & 145 & 174 & 125\\\\\n",
       "\t ⋮ & ⋮ & ⋮ & ⋮ & ⋮\\\\\n",
       "\t 47 & 0 & 110 & 275 & 118\\\\\n",
       "\t 50 & 0 & 110 & 254 & 159\\\\\n",
       "\t 54 & 0 & 120 & 188 & 113\\\\\n",
       "\\end{tabular}\n"
      ],
      "text/markdown": [
       "\n",
       "A tibble: 1025 × 5\n",
       "\n",
       "| age &lt;dbl&gt; | chest_pain_type &lt;dbl&gt; | resting_bp &lt;dbl&gt; | serum_cholesterol &lt;dbl&gt; | max_heart_rate &lt;dbl&gt; |\n",
       "|---|---|---|---|---|\n",
       "| 52 | 0 | 125 | 212 | 168 |\n",
       "| 53 | 0 | 140 | 203 | 155 |\n",
       "| 70 | 0 | 145 | 174 | 125 |\n",
       "| ⋮ | ⋮ | ⋮ | ⋮ | ⋮ |\n",
       "| 47 | 0 | 110 | 275 | 118 |\n",
       "| 50 | 0 | 110 | 254 | 159 |\n",
       "| 54 | 0 | 120 | 188 | 113 |\n",
       "\n"
      ],
      "text/plain": [
       "     age chest_pain_type resting_bp serum_cholesterol max_heart_rate\n",
       "1    52  0               125        212               168           \n",
       "2    53  0               140        203               155           \n",
       "3    70  0               145        174               125           \n",
       "⋮    ⋮   ⋮               ⋮          ⋮                 ⋮             \n",
       "1023 47  0               110        275               118           \n",
       "1024 50  0               110        254               159           \n",
       "1025 54  0               120        188               113           "
      ]
     },
     "metadata": {},
     "output_type": "display_data"
    }
   ],
   "source": [
    "heart_disease <- url |>\n",
    "                 select(age, cp, trestbps, chol, thalach) |>\n",
    "                 rename(chest_pain_type = cp,\n",
    "                        resting_bp = trestbps,\n",
    "                        serum_cholesterol = chol,\n",
    "                        max_heart_rate = thalach)\n",
    "heart_disease   "
   ]
  },
  {
   "cell_type": "code",
   "execution_count": null,
   "id": "75ccf59c-73d6-48b5-a9e6-013ffaa0e9dd",
   "metadata": {},
   "outputs": [],
   "source": []
  }
 ],
 "metadata": {
  "kernelspec": {
   "display_name": "R",
   "language": "R",
   "name": "ir"
  },
  "language_info": {
   "codemirror_mode": "r",
   "file_extension": ".r",
   "mimetype": "text/x-r-source",
   "name": "R",
   "pygments_lexer": "r",
   "version": "4.2.2"
  }
 },
 "nbformat": 4,
 "nbformat_minor": 5
}
