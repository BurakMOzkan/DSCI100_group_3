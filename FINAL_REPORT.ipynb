{
 "cells": [
  {
   "cell_type": "markdown",
   "id": "04fd2b52-4f0d-422a-ba7e-7f8e175cdca8",
   "metadata": {},
   "source": [
    "# Group Project Report: Diagnostic Model for Chest Pain"
   ]
  },
  {
   "cell_type": "markdown",
   "id": "5c2a4e19-1fc5-45fb-bbad-8f0a24eae11b",
   "metadata": {},
   "source": [
    "### Section 009 Group 3 (Adeesh Devanand, Eddie Han, Connor Law, Burak Ozkan)"
   ]
  },
  {
   "cell_type": "code",
   "execution_count": null,
   "id": "34ec8ff9-6d2c-4feb-9bfd-5c516269c94e",
   "metadata": {},
   "outputs": [],
   "source": []
  }
 ],
 "metadata": {
  "kernelspec": {
   "display_name": "R",
   "language": "R",
   "name": "ir"
  },
  "language_info": {
   "codemirror_mode": "r",
   "file_extension": ".r",
   "mimetype": "text/x-r-source",
   "name": "R",
   "pygments_lexer": "r",
   "version": "4.2.2"
  }
 },
 "nbformat": 4,
 "nbformat_minor": 5
}
