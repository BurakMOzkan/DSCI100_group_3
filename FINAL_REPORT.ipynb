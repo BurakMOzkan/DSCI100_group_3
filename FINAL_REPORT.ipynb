{
 "cells": [
  {
   "cell_type": "markdown",
   "id": "04fd2b52-4f0d-422a-ba7e-7f8e175cdca8",
   "metadata": {},
   "source": [
    "# Group Project Report: Diagnostic Model for Chest Pain"
   ]
  },
  {
   "cell_type": "markdown",
   "id": "5c2a4e19-1fc5-45fb-bbad-8f0a24eae11b",
   "metadata": {},
   "source": [
    "### Section 009 Group 3 (Adeesh Devanand, Eddie Han, Connor Law, Burak Ozkan)"
   ]
  },
  {
   "cell_type": "markdown",
   "id": "f2f9bee2-c202-451c-8974-ef88a3fb8075",
   "metadata": {},
   "source": [
    "## 1) Introduction"
   ]
  },
  {
   "cell_type": "markdown",
   "id": "8e44e643-6c1a-4224-b371-9e3a2283ca8a",
   "metadata": {},
   "source": [
    "Heart disease is an umbrella term used to define a range of health conditions that **negatively affect** the health of **the heart** or more generally the cardiovascular system, such as **coronary artery disease** which is the narrowing of blood vessels by cholesterol deposits that, especially when it occurs in coronary arteries, **can lead to a heart attack** and sudden death (CDC, 2021). **Chest pain** is a symptom of a heart attack and indicates to the patient that they should seek immediate primary care (NHS, 2023). \n",
    "\n",
    "For our project, we would like to explore the following question: **can variables measured during the diagnosis of a heart disease be used to predict the type of chest pain a patient with heart disease might experience during a future heart attack?** We are using the \"**Heart Disease Dataset**\" by David Lapp, obtained from the Kaggle website (https://www.kaggle.com/datasets/johnsmith88/heart-disease-dataset/data) which contains data regarding patients' health predictors, specifically acquired from the **Cleveland data set**, for our model."
   ]
  },
  {
   "cell_type": "markdown",
   "id": "b9d44e1c-ba9d-444c-8d79-55b6551fec03",
   "metadata": {},
   "source": [
    "## 2) Methods & Results"
   ]
  },
  {
   "cell_type": "markdown",
   "id": "1ece658a-80e9-4ecd-bc4c-afca7e3cba9b",
   "metadata": {},
   "source": [
    "#### **a) First, we minimize the number of rows for the tables and call the libraries.**"
   ]
  },
  {
   "cell_type": "code",
   "execution_count": 5,
   "id": "3f641385-e8f7-4e21-8327-d1c5ad82b962",
   "metadata": {
    "tags": []
   },
   "outputs": [
    {
     "name": "stderr",
     "output_type": "stream",
     "text": [
      "Updating HTML index of packages in '.Library'\n",
      "\n",
      "Making 'packages.html' ...\n",
      " done\n",
      "\n"
     ]
    }
   ],
   "source": [
    "options(repr.matrix.max.rows = 6)\n",
    "library(repr)\n",
    "library(tidyverse)\n",
    "library(tidymodels)\n",
    "library(RColorBrewer)\n",
    "library(rvest)\n",
    "install.packages(\"kknn\")\n",
    "library(\"kknn\")"
   ]
  },
  {
   "cell_type": "markdown",
   "id": "6f61ce86-ac41-4328-a0a1-fcefa9f5801d",
   "metadata": {},
   "source": [
    "#### **b) Secondly, we import the data from the heart.csv file that we have uploaded to our GitHub server by looking at the raw data and inputting the link into the read_csv function which yields the data.**"
   ]
  },
  {
   "cell_type": "code",
   "execution_count": 6,
   "id": "6de9f251-98ec-47a5-8321-1f82baee2d9a",
   "metadata": {
    "tags": []
   },
   "outputs": [
    {
     "name": "stderr",
     "output_type": "stream",
     "text": [
      "\u001b[1mRows: \u001b[22m\u001b[34m1025\u001b[39m \u001b[1mColumns: \u001b[22m\u001b[34m14\u001b[39m\n",
      "\u001b[36m──\u001b[39m \u001b[1mColumn specification\u001b[22m \u001b[36m────────────────────────────────────────────────────────\u001b[39m\n",
      "\u001b[1mDelimiter:\u001b[22m \",\"\n",
      "\u001b[32mdbl\u001b[39m (14): age, sex, cp, trestbps, chol, fbs, restecg, thalach, exang, oldpea...\n",
      "\n",
      "\u001b[36mℹ\u001b[39m Use `spec()` to retrieve the full column specification for this data.\n",
      "\u001b[36mℹ\u001b[39m Specify the column types or set `show_col_types = FALSE` to quiet this message.\n"
     ]
    },
    {
     "data": {
      "text/html": [
       "<table class=\"dataframe\">\n",
       "<caption>A spec_tbl_df: 1025 × 14</caption>\n",
       "<thead>\n",
       "\t<tr><th scope=col>age</th><th scope=col>sex</th><th scope=col>cp</th><th scope=col>trestbps</th><th scope=col>chol</th><th scope=col>fbs</th><th scope=col>restecg</th><th scope=col>thalach</th><th scope=col>exang</th><th scope=col>oldpeak</th><th scope=col>slope</th><th scope=col>ca</th><th scope=col>thal</th><th scope=col>target</th></tr>\n",
       "\t<tr><th scope=col>&lt;dbl&gt;</th><th scope=col>&lt;dbl&gt;</th><th scope=col>&lt;dbl&gt;</th><th scope=col>&lt;dbl&gt;</th><th scope=col>&lt;dbl&gt;</th><th scope=col>&lt;dbl&gt;</th><th scope=col>&lt;dbl&gt;</th><th scope=col>&lt;dbl&gt;</th><th scope=col>&lt;dbl&gt;</th><th scope=col>&lt;dbl&gt;</th><th scope=col>&lt;dbl&gt;</th><th scope=col>&lt;dbl&gt;</th><th scope=col>&lt;dbl&gt;</th><th scope=col>&lt;dbl&gt;</th></tr>\n",
       "</thead>\n",
       "<tbody>\n",
       "\t<tr><td>52</td><td>1</td><td>0</td><td>125</td><td>212</td><td>0</td><td>1</td><td>168</td><td>0</td><td>1.0</td><td>2</td><td>2</td><td>3</td><td>0</td></tr>\n",
       "\t<tr><td>53</td><td>1</td><td>0</td><td>140</td><td>203</td><td>1</td><td>0</td><td>155</td><td>1</td><td>3.1</td><td>0</td><td>0</td><td>3</td><td>0</td></tr>\n",
       "\t<tr><td>70</td><td>1</td><td>0</td><td>145</td><td>174</td><td>0</td><td>1</td><td>125</td><td>1</td><td>2.6</td><td>0</td><td>0</td><td>3</td><td>0</td></tr>\n",
       "\t<tr><td>⋮</td><td>⋮</td><td>⋮</td><td>⋮</td><td>⋮</td><td>⋮</td><td>⋮</td><td>⋮</td><td>⋮</td><td>⋮</td><td>⋮</td><td>⋮</td><td>⋮</td><td>⋮</td></tr>\n",
       "\t<tr><td>47</td><td>1</td><td>0</td><td>110</td><td>275</td><td>0</td><td>0</td><td>118</td><td>1</td><td>1.0</td><td>1</td><td>1</td><td>2</td><td>0</td></tr>\n",
       "\t<tr><td>50</td><td>0</td><td>0</td><td>110</td><td>254</td><td>0</td><td>0</td><td>159</td><td>0</td><td>0.0</td><td>2</td><td>0</td><td>2</td><td>1</td></tr>\n",
       "\t<tr><td>54</td><td>1</td><td>0</td><td>120</td><td>188</td><td>0</td><td>1</td><td>113</td><td>0</td><td>1.4</td><td>1</td><td>1</td><td>3</td><td>0</td></tr>\n",
       "</tbody>\n",
       "</table>\n"
      ],
      "text/latex": [
       "A spec\\_tbl\\_df: 1025 × 14\n",
       "\\begin{tabular}{llllllllllllll}\n",
       " age & sex & cp & trestbps & chol & fbs & restecg & thalach & exang & oldpeak & slope & ca & thal & target\\\\\n",
       " <dbl> & <dbl> & <dbl> & <dbl> & <dbl> & <dbl> & <dbl> & <dbl> & <dbl> & <dbl> & <dbl> & <dbl> & <dbl> & <dbl>\\\\\n",
       "\\hline\n",
       "\t 52 & 1 & 0 & 125 & 212 & 0 & 1 & 168 & 0 & 1.0 & 2 & 2 & 3 & 0\\\\\n",
       "\t 53 & 1 & 0 & 140 & 203 & 1 & 0 & 155 & 1 & 3.1 & 0 & 0 & 3 & 0\\\\\n",
       "\t 70 & 1 & 0 & 145 & 174 & 0 & 1 & 125 & 1 & 2.6 & 0 & 0 & 3 & 0\\\\\n",
       "\t ⋮ & ⋮ & ⋮ & ⋮ & ⋮ & ⋮ & ⋮ & ⋮ & ⋮ & ⋮ & ⋮ & ⋮ & ⋮ & ⋮\\\\\n",
       "\t 47 & 1 & 0 & 110 & 275 & 0 & 0 & 118 & 1 & 1.0 & 1 & 1 & 2 & 0\\\\\n",
       "\t 50 & 0 & 0 & 110 & 254 & 0 & 0 & 159 & 0 & 0.0 & 2 & 0 & 2 & 1\\\\\n",
       "\t 54 & 1 & 0 & 120 & 188 & 0 & 1 & 113 & 0 & 1.4 & 1 & 1 & 3 & 0\\\\\n",
       "\\end{tabular}\n"
      ],
      "text/markdown": [
       "\n",
       "A spec_tbl_df: 1025 × 14\n",
       "\n",
       "| age &lt;dbl&gt; | sex &lt;dbl&gt; | cp &lt;dbl&gt; | trestbps &lt;dbl&gt; | chol &lt;dbl&gt; | fbs &lt;dbl&gt; | restecg &lt;dbl&gt; | thalach &lt;dbl&gt; | exang &lt;dbl&gt; | oldpeak &lt;dbl&gt; | slope &lt;dbl&gt; | ca &lt;dbl&gt; | thal &lt;dbl&gt; | target &lt;dbl&gt; |\n",
       "|---|---|---|---|---|---|---|---|---|---|---|---|---|---|\n",
       "| 52 | 1 | 0 | 125 | 212 | 0 | 1 | 168 | 0 | 1.0 | 2 | 2 | 3 | 0 |\n",
       "| 53 | 1 | 0 | 140 | 203 | 1 | 0 | 155 | 1 | 3.1 | 0 | 0 | 3 | 0 |\n",
       "| 70 | 1 | 0 | 145 | 174 | 0 | 1 | 125 | 1 | 2.6 | 0 | 0 | 3 | 0 |\n",
       "| ⋮ | ⋮ | ⋮ | ⋮ | ⋮ | ⋮ | ⋮ | ⋮ | ⋮ | ⋮ | ⋮ | ⋮ | ⋮ | ⋮ |\n",
       "| 47 | 1 | 0 | 110 | 275 | 0 | 0 | 118 | 1 | 1.0 | 1 | 1 | 2 | 0 |\n",
       "| 50 | 0 | 0 | 110 | 254 | 0 | 0 | 159 | 0 | 0.0 | 2 | 0 | 2 | 1 |\n",
       "| 54 | 1 | 0 | 120 | 188 | 0 | 1 | 113 | 0 | 1.4 | 1 | 1 | 3 | 0 |\n",
       "\n"
      ],
      "text/plain": [
       "     age sex cp trestbps chol fbs restecg thalach exang oldpeak slope ca thal\n",
       "1    52  1   0  125      212  0   1       168     0     1.0     2     2  3   \n",
       "2    53  1   0  140      203  1   0       155     1     3.1     0     0  3   \n",
       "3    70  1   0  145      174  0   1       125     1     2.6     0     0  3   \n",
       "⋮    ⋮   ⋮   ⋮  ⋮        ⋮    ⋮   ⋮       ⋮       ⋮     ⋮       ⋮     ⋮  ⋮   \n",
       "1023 47  1   0  110      275  0   0       118     1     1.0     1     1  2   \n",
       "1024 50  0   0  110      254  0   0       159     0     0.0     2     0  2   \n",
       "1025 54  1   0  120      188  0   1       113     0     1.4     1     1  3   \n",
       "     target\n",
       "1    0     \n",
       "2    0     \n",
       "3    0     \n",
       "⋮    ⋮     \n",
       "1023 0     \n",
       "1024 1     \n",
       "1025 0     "
      ]
     },
     "metadata": {},
     "output_type": "display_data"
    }
   ],
   "source": [
    "url <- read_csv(\"https://raw.githubusercontent.com/BurakMOzkan/DSCI100_group_3/main/heart.csv?token=GHSAT0AAAAAACKF3K3PIG64BRMTXAP2L4EEZKTB5CA\")\n",
    "url"
   ]
  },
  {
   "cell_type": "markdown",
   "id": "3ec90308-6946-445e-8281-b85e7fa01829",
   "metadata": {},
   "source": [
    "#### **c) We then wrangle the data by making the response variable of factor data type, changing its name, selecting for the required variables and renaming the rest of the columns to render them comprehensible without additional metadata.**"
   ]
  },
  {
   "cell_type": "code",
   "execution_count": 7,
   "id": "2ce7964c-f41f-487c-9827-c4c91612c50a",
   "metadata": {
    "tags": []
   },
   "outputs": [
    {
     "data": {
      "text/html": [
       "<table class=\"dataframe\">\n",
       "<caption>A tibble: 1025 × 5</caption>\n",
       "<thead>\n",
       "\t<tr><th scope=col>age</th><th scope=col>resting_bp</th><th scope=col>serum_cholesterol</th><th scope=col>max_heart_rate</th><th scope=col>chest_pain_type</th></tr>\n",
       "\t<tr><th scope=col>&lt;dbl&gt;</th><th scope=col>&lt;dbl&gt;</th><th scope=col>&lt;dbl&gt;</th><th scope=col>&lt;dbl&gt;</th><th scope=col>&lt;fct&gt;</th></tr>\n",
       "</thead>\n",
       "<tbody>\n",
       "\t<tr><td>52</td><td>125</td><td>212</td><td>168</td><td>0</td></tr>\n",
       "\t<tr><td>53</td><td>140</td><td>203</td><td>155</td><td>0</td></tr>\n",
       "\t<tr><td>70</td><td>145</td><td>174</td><td>125</td><td>0</td></tr>\n",
       "\t<tr><td>⋮</td><td>⋮</td><td>⋮</td><td>⋮</td><td>⋮</td></tr>\n",
       "\t<tr><td>47</td><td>110</td><td>275</td><td>118</td><td>0</td></tr>\n",
       "\t<tr><td>50</td><td>110</td><td>254</td><td>159</td><td>0</td></tr>\n",
       "\t<tr><td>54</td><td>120</td><td>188</td><td>113</td><td>0</td></tr>\n",
       "</tbody>\n",
       "</table>\n"
      ],
      "text/latex": [
       "A tibble: 1025 × 5\n",
       "\\begin{tabular}{lllll}\n",
       " age & resting\\_bp & serum\\_cholesterol & max\\_heart\\_rate & chest\\_pain\\_type\\\\\n",
       " <dbl> & <dbl> & <dbl> & <dbl> & <fct>\\\\\n",
       "\\hline\n",
       "\t 52 & 125 & 212 & 168 & 0\\\\\n",
       "\t 53 & 140 & 203 & 155 & 0\\\\\n",
       "\t 70 & 145 & 174 & 125 & 0\\\\\n",
       "\t ⋮ & ⋮ & ⋮ & ⋮ & ⋮\\\\\n",
       "\t 47 & 110 & 275 & 118 & 0\\\\\n",
       "\t 50 & 110 & 254 & 159 & 0\\\\\n",
       "\t 54 & 120 & 188 & 113 & 0\\\\\n",
       "\\end{tabular}\n"
      ],
      "text/markdown": [
       "\n",
       "A tibble: 1025 × 5\n",
       "\n",
       "| age &lt;dbl&gt; | resting_bp &lt;dbl&gt; | serum_cholesterol &lt;dbl&gt; | max_heart_rate &lt;dbl&gt; | chest_pain_type &lt;fct&gt; |\n",
       "|---|---|---|---|---|\n",
       "| 52 | 125 | 212 | 168 | 0 |\n",
       "| 53 | 140 | 203 | 155 | 0 |\n",
       "| 70 | 145 | 174 | 125 | 0 |\n",
       "| ⋮ | ⋮ | ⋮ | ⋮ | ⋮ |\n",
       "| 47 | 110 | 275 | 118 | 0 |\n",
       "| 50 | 110 | 254 | 159 | 0 |\n",
       "| 54 | 120 | 188 | 113 | 0 |\n",
       "\n"
      ],
      "text/plain": [
       "     age resting_bp serum_cholesterol max_heart_rate chest_pain_type\n",
       "1    52  125        212               168            0              \n",
       "2    53  140        203               155            0              \n",
       "3    70  145        174               125            0              \n",
       "⋮    ⋮   ⋮          ⋮                 ⋮              ⋮              \n",
       "1023 47  110        275               118            0              \n",
       "1024 50  110        254               159            0              \n",
       "1025 54  120        188               113            0              "
      ]
     },
     "metadata": {},
     "output_type": "display_data"
    }
   ],
   "source": [
    "heart_disease <- url |>\n",
    "                 mutate(chest_pain_type = as_factor(cp)) |>\n",
    "                 select(age, trestbps, chol, thalach, chest_pain_type) |>\n",
    "                 rename(resting_bp = trestbps,\n",
    "                        serum_cholesterol = chol,\n",
    "                        max_heart_rate = thalach) \n",
    "heart_disease"
   ]
  },
  {
   "cell_type": "markdown",
   "id": "8d90d08b-40dc-431b-9a0a-d8893f9be31b",
   "metadata": {},
   "source": [
    "#### **d) Before we build our model, divide the data into training and testing data sets, as well as set the seed to make the data split reproducible.**"
   ]
  },
  {
   "cell_type": "code",
   "execution_count": 8,
   "id": "2639e890-5d98-4e8e-98fe-a3738caa2ea1",
   "metadata": {
    "tags": []
   },
   "outputs": [],
   "source": [
    "set.seed(1)\n",
    "hd_split <- initial_split(heart_disease, prop = 0.80, strata = chest_pain_type)\n",
    "hd_train <- training(hd_split)\n",
    "hd_test <- testing(hd_split) "
   ]
  },
  {
   "cell_type": "markdown",
   "id": "2d37f35b-c3ae-498e-9d52-fc46c862c295",
   "metadata": {
    "tags": []
   },
   "source": [
    "#### **e) Before we train the classifier, we should preprocess the data as it is sensitive to the scale of the predictors.**"
   ]
  },
  {
   "cell_type": "code",
   "execution_count": 9,
   "id": "3fb2b667-be03-4fcc-8655-728843f25948",
   "metadata": {
    "tags": []
   },
   "outputs": [],
   "source": [
    "hd_recipe <- recipe(chest_pain_type ~ ., data = hd_train) |>\n",
    "             step_scale(all_predictors()) |>\n",
    "             step_center(all_predictors())"
   ]
  },
  {
   "cell_type": "markdown",
   "id": "10923013-8580-4ce4-9e1e-b24b462630c8",
   "metadata": {},
   "source": [
    "#### **f) We can now train the classifier by randomly using K = 4.**"
   ]
  },
  {
   "cell_type": "code",
   "execution_count": 11,
   "id": "babe2578-6651-47b1-8497-dc862bb48fa5",
   "metadata": {
    "tags": []
   },
   "outputs": [],
   "source": [
    "hd_spec <- nearest_neighbor(weight_func = \"rectangular\", neighbors = 4) |>\n",
    "           set_engine(\"kknn\") |>\n",
    "           set_mode(\"classification\")\n",
    "\n",
    "hd_fit <- workflow() |>\n",
    "          add_recipe(hd_recipe) |>\n",
    "          add_model(hd_spec) |>\n",
    "          fit(data = hd_train)"
   ]
  },
  {
   "cell_type": "markdown",
   "id": "fbb2c8b1-aa72-44f9-a730-53f43188bd21",
   "metadata": {},
   "source": [
    "#### **g) Adding our predictions column to the data set.**"
   ]
  },
  {
   "cell_type": "code",
   "execution_count": 12,
   "id": "1f88a754-2f02-4bd4-82d4-df73d336d9e2",
   "metadata": {},
   "outputs": [
    {
     "data": {
      "text/html": [
       "<table class=\"dataframe\">\n",
       "<caption>A tibble: 207 × 6</caption>\n",
       "<thead>\n",
       "\t<tr><th scope=col>.pred_class</th><th scope=col>age</th><th scope=col>resting_bp</th><th scope=col>serum_cholesterol</th><th scope=col>max_heart_rate</th><th scope=col>chest_pain_type</th></tr>\n",
       "\t<tr><th scope=col>&lt;fct&gt;</th><th scope=col>&lt;dbl&gt;</th><th scope=col>&lt;dbl&gt;</th><th scope=col>&lt;dbl&gt;</th><th scope=col>&lt;dbl&gt;</th><th scope=col>&lt;fct&gt;</th></tr>\n",
       "</thead>\n",
       "<tbody>\n",
       "\t<tr><td>0</td><td>46</td><td>120</td><td>249</td><td>144</td><td>0</td></tr>\n",
       "\t<tr><td>0</td><td>71</td><td>112</td><td>149</td><td>125</td><td>0</td></tr>\n",
       "\t<tr><td>0</td><td>43</td><td>132</td><td>341</td><td>136</td><td>0</td></tr>\n",
       "\t<tr><td>⋮</td><td>⋮</td><td>⋮</td><td>⋮</td><td>⋮</td><td>⋮</td></tr>\n",
       "\t<tr><td>2</td><td>58</td><td>140</td><td>211</td><td>165</td><td>2</td></tr>\n",
       "\t<tr><td>3</td><td>65</td><td>138</td><td>282</td><td>174</td><td>3</td></tr>\n",
       "\t<tr><td>1</td><td>41</td><td>110</td><td>172</td><td>158</td><td>0</td></tr>\n",
       "</tbody>\n",
       "</table>\n"
      ],
      "text/latex": [
       "A tibble: 207 × 6\n",
       "\\begin{tabular}{llllll}\n",
       " .pred\\_class & age & resting\\_bp & serum\\_cholesterol & max\\_heart\\_rate & chest\\_pain\\_type\\\\\n",
       " <fct> & <dbl> & <dbl> & <dbl> & <dbl> & <fct>\\\\\n",
       "\\hline\n",
       "\t 0 & 46 & 120 & 249 & 144 & 0\\\\\n",
       "\t 0 & 71 & 112 & 149 & 125 & 0\\\\\n",
       "\t 0 & 43 & 132 & 341 & 136 & 0\\\\\n",
       "\t ⋮ & ⋮ & ⋮ & ⋮ & ⋮ & ⋮\\\\\n",
       "\t 2 & 58 & 140 & 211 & 165 & 2\\\\\n",
       "\t 3 & 65 & 138 & 282 & 174 & 3\\\\\n",
       "\t 1 & 41 & 110 & 172 & 158 & 0\\\\\n",
       "\\end{tabular}\n"
      ],
      "text/markdown": [
       "\n",
       "A tibble: 207 × 6\n",
       "\n",
       "| .pred_class &lt;fct&gt; | age &lt;dbl&gt; | resting_bp &lt;dbl&gt; | serum_cholesterol &lt;dbl&gt; | max_heart_rate &lt;dbl&gt; | chest_pain_type &lt;fct&gt; |\n",
       "|---|---|---|---|---|---|\n",
       "| 0 | 46 | 120 | 249 | 144 | 0 |\n",
       "| 0 | 71 | 112 | 149 | 125 | 0 |\n",
       "| 0 | 43 | 132 | 341 | 136 | 0 |\n",
       "| ⋮ | ⋮ | ⋮ | ⋮ | ⋮ | ⋮ |\n",
       "| 2 | 58 | 140 | 211 | 165 | 2 |\n",
       "| 3 | 65 | 138 | 282 | 174 | 3 |\n",
       "| 1 | 41 | 110 | 172 | 158 | 0 |\n",
       "\n"
      ],
      "text/plain": [
       "    .pred_class age resting_bp serum_cholesterol max_heart_rate chest_pain_type\n",
       "1   0           46  120        249               144            0              \n",
       "2   0           71  112        149               125            0              \n",
       "3   0           43  132        341               136            0              \n",
       "⋮   ⋮           ⋮   ⋮          ⋮                 ⋮              ⋮              \n",
       "205 2           58  140        211               165            2              \n",
       "206 3           65  138        282               174            3              \n",
       "207 1           41  110        172               158            0              "
      ]
     },
     "metadata": {},
     "output_type": "display_data"
    }
   ],
   "source": [
    "hd_predictions <- predict(hd_fit, hd_test) |>\n",
    "                  bind_cols(hd_test)\n",
    "hd_predictions"
   ]
  },
  {
   "cell_type": "markdown",
   "id": "0d2119ef-80e6-4d05-88be-b77f470aae15",
   "metadata": {},
   "source": [
    "#### **h) Let's assess the performance of the classifier and see if we need to choose a different K value.**"
   ]
  },
  {
   "cell_type": "code",
   "execution_count": 13,
   "id": "e94a0c9b-1b55-422a-9668-8b2ac0ebf63c",
   "metadata": {
    "tags": []
   },
   "outputs": [
    {
     "data": {
      "text/html": [
       "<table class=\"dataframe\">\n",
       "<caption>A tibble: 1 × 3</caption>\n",
       "<thead>\n",
       "\t<tr><th scope=col>.metric</th><th scope=col>.estimator</th><th scope=col>.estimate</th></tr>\n",
       "\t<tr><th scope=col>&lt;chr&gt;</th><th scope=col>&lt;chr&gt;</th><th scope=col>&lt;dbl&gt;</th></tr>\n",
       "</thead>\n",
       "<tbody>\n",
       "\t<tr><td>accuracy</td><td>multiclass</td><td>0.7391304</td></tr>\n",
       "</tbody>\n",
       "</table>\n"
      ],
      "text/latex": [
       "A tibble: 1 × 3\n",
       "\\begin{tabular}{lll}\n",
       " .metric & .estimator & .estimate\\\\\n",
       " <chr> & <chr> & <dbl>\\\\\n",
       "\\hline\n",
       "\t accuracy & multiclass & 0.7391304\\\\\n",
       "\\end{tabular}\n"
      ],
      "text/markdown": [
       "\n",
       "A tibble: 1 × 3\n",
       "\n",
       "| .metric &lt;chr&gt; | .estimator &lt;chr&gt; | .estimate &lt;dbl&gt; |\n",
       "|---|---|---|\n",
       "| accuracy | multiclass | 0.7391304 |\n",
       "\n"
      ],
      "text/plain": [
       "  .metric  .estimator .estimate\n",
       "1 accuracy multiclass 0.7391304"
      ]
     },
     "metadata": {},
     "output_type": "display_data"
    }
   ],
   "source": [
    "hd_accuracy <- hd_predictions |>\n",
    "               metrics(truth = chest_pain_type, estimate = .pred_class) |>\n",
    "               filter(.metric == \"accuracy\")\n",
    "hd_accuracy"
   ]
  },
  {
   "cell_type": "markdown",
   "id": "a1c7c035-1ae9-4f15-91b1-161976fa91dd",
   "metadata": {},
   "source": [
    "**The accuracy is not great at all for K = 4. We need to further evaluate our model to increase its accuracy if we hope to use it in clinical applications.**"
   ]
  },
  {
   "cell_type": "markdown",
   "id": "9ee69351-cbb9-4952-97e1-a4cef239f210",
   "metadata": {},
   "source": [
    "#### **i) Employing cross-validation, we can determine the best value for K.**"
   ]
  },
  {
   "cell_type": "code",
   "execution_count": null,
   "id": "4ee1e026-5a96-438a-919d-a0446572c509",
   "metadata": {
    "tags": []
   },
   "outputs": [],
   "source": [
    "hd_vfold <- vfold_cv(hd_train, v = 5, strata = chest_pain_type)\n",
    "\n",
    "hd_spec_2 <- nearest_neighbor(weight_func = \"rectangular\", neighbors = tune()) |>\n",
    "            set_engine(\"kknn\") |>\n",
    "            set_mode(\"classification\")\n",
    "\n",
    "hd_k_vals <- tibble(neighbors = seq(from = 1, to = 100, by = 5))\n",
    "\n",
    "hd_results <- workflow() |>\n",
    "              add_recipe(hd_recipe) |>\n",
    "              add_model(hd_spec_2) |>\n",
    "              tune_grid(resamples = hd_vfold, grid = hd_k_vals) |>\n",
    "              collect_metrics() \n",
    "\n",
    "hd_accuracies <- hd_results |>\n",
    "                filter(.metric == \"accuracy\")\n",
    "hd_accuracies"
   ]
  },
  {
   "cell_type": "markdown",
   "id": "7e376c7a-e543-476c-a36d-e5c99b2cfa7a",
   "metadata": {},
   "source": [
    "#### **j) Plot the accuracies to pick a value for K.**"
   ]
  },
  {
   "cell_type": "code",
   "execution_count": null,
   "id": "fc1b10b3-e2eb-4c5e-b3d7-8e1024fcf328",
   "metadata": {
    "tags": []
   },
   "outputs": [],
   "source": [
    "which_k <- hd_accuracies |>\n",
    "           ggplot(aes(x = neighbors, y = mean)) +\n",
    "           geom_point() +\n",
    "           geom_line() +\n",
    "           labs(x = \"Neighbors\", y = \"Accuracy\") + \n",
    "           theme(text = element_text(size = 12))\n",
    "which_k"
   ]
  },
  {
   "cell_type": "code",
   "execution_count": null,
   "id": "d65de654-cf48-4de7-9ab5-182c5b196e6e",
   "metadata": {},
   "outputs": [],
   "source": []
  }
 ],
 "metadata": {
  "kernelspec": {
   "display_name": "R",
   "language": "R",
   "name": "ir"
  },
  "language_info": {
   "codemirror_mode": "r",
   "file_extension": ".r",
   "mimetype": "text/x-r-source",
   "name": "R",
   "pygments_lexer": "r",
   "version": "4.2.2"
  }
 },
 "nbformat": 4,
 "nbformat_minor": 5
}
