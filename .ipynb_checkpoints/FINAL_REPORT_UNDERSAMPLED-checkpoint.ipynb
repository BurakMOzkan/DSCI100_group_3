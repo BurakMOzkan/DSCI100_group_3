{
 "cells": [
  {
   "cell_type": "markdown",
   "id": "04fd2b52-4f0d-422a-ba7e-7f8e175cdca8",
   "metadata": {},
   "source": [
    "# Group Project Report: Diagnostic Model for Chest Pain"
   ]
  },
  {
   "cell_type": "markdown",
   "id": "5c2a4e19-1fc5-45fb-bbad-8f0a24eae11b",
   "metadata": {},
   "source": [
    "### Section 009 Group 3 (Adeesh Devanand, Eddie Han, Connor Law, Burak Ozkan)"
   ]
  },
  {
   "cell_type": "markdown",
   "id": "f2f9bee2-c202-451c-8974-ef88a3fb8075",
   "metadata": {},
   "source": [
    "## 1) Introduction"
   ]
  },
  {
   "cell_type": "markdown",
   "id": "8e44e643-6c1a-4224-b371-9e3a2283ca8a",
   "metadata": {},
   "source": [
    "Heart disease is an umbrella term used to define a range of health conditions that **negatively affect** the health of **the heart** or more generally the cardiovascular system, such as **coronary artery disease** which is the narrowing of blood vessels by cholesterol deposits that, especially when it occurs in coronary arteries, **can lead to a heart attack** and sudden death (CDC, 2021). **Chest pain** is a symptom of a heart attack and indicates to the patient that they should seek immediate primary care (NHS, 2023). \n",
    "\n",
    "For our project, we would like to explore the following question: **can variables measured during the diagnosis of a heart disease be used to predict the type of chest pain a patient with heart disease might experience during a future heart attack?** We are using the \"**Heart Disease Dataset**\" by David Lapp, obtained from the Kaggle website (https://www.kaggle.com/datasets/johnsmith88/heart-disease-dataset/data) which contains data regarding patients' health predictors, specifically acquired from the **Cleveland data set**, for our model.\n",
    "\n",
    "We will be using ```cp - chest pain type (4 values)``` as the **response variable**. The classifications are zero to three and their descriptions are as follows:\n",
    "```\n",
    "0. non-cardiac causes OR no chest pain.\n",
    "1. mild or minor chest discomfort, usually of non-cardiac origin.\n",
    "2. moderate chest pain, which may have cardiac or non-cardiac origins.\n",
    "3. severe or intense chest pain requiring immediate medical attention.\n",
    "```\n",
    "\n",
    "We eliminated all other categorical variables and focused on predictors that are either measurable or well understood by the general public. The **four predictors** of chest pain type are:\n",
    "\n",
    "```\n",
    "1 - age        (age)\n",
    "2 - trestbps   (resting blood pressure)\n",
    "3 - chol       (cholesterol levels in the blood)\n",
    "4 - thalach    (maximum heart rate)\n",
    "```\n",
    "\n",
    "Some **limitations** of our model include: only incorporating into our model the data taken from patients in the Cleveland, Ohio region, so we cannot be certain that the accuracy of our model will be conserved when used for patients outside of this region; only a subset of clinical factors are being considered for our model, while there are other predictors that can be incorporated into future versions of our model.  "
   ]
  },
  {
   "cell_type": "markdown",
   "id": "b9d44e1c-ba9d-444c-8d79-55b6551fec03",
   "metadata": {},
   "source": [
    "## 2) Methods & Results"
   ]
  },
  {
   "cell_type": "markdown",
   "id": "1ece658a-80e9-4ecd-bc4c-afca7e3cba9b",
   "metadata": {},
   "source": [
    "#### **a) First, we minimize the number of rows for the tables and call the libraries.**"
   ]
  },
  {
   "cell_type": "code",
   "execution_count": 1,
   "id": "3f641385-e8f7-4e21-8327-d1c5ad82b962",
   "metadata": {
    "collapsed": true,
    "jupyter": {
     "outputs_hidden": true
    },
    "tags": [],
    "vscode": {
     "languageId": "r"
    }
   },
   "outputs": [
    {
     "name": "stderr",
     "output_type": "stream",
     "text": [
      "── \u001b[1mAttaching packages\u001b[22m ─────────────────────────────────────── tidyverse 1.3.2 ──\n",
      "\u001b[32m✔\u001b[39m \u001b[34mggplot2\u001b[39m 3.4.2     \u001b[32m✔\u001b[39m \u001b[34mpurrr  \u001b[39m 1.0.1\n",
      "\u001b[32m✔\u001b[39m \u001b[34mtibble \u001b[39m 3.2.1     \u001b[32m✔\u001b[39m \u001b[34mdplyr  \u001b[39m 1.1.1\n",
      "\u001b[32m✔\u001b[39m \u001b[34mtidyr  \u001b[39m 1.3.0     \u001b[32m✔\u001b[39m \u001b[34mstringr\u001b[39m 1.5.0\n",
      "\u001b[32m✔\u001b[39m \u001b[34mreadr  \u001b[39m 2.1.3     \u001b[32m✔\u001b[39m \u001b[34mforcats\u001b[39m 0.5.2\n",
      "── \u001b[1mConflicts\u001b[22m ────────────────────────────────────────── tidyverse_conflicts() ──\n",
      "\u001b[31m✖\u001b[39m \u001b[34mdplyr\u001b[39m::\u001b[32mfilter()\u001b[39m masks \u001b[34mstats\u001b[39m::filter()\n",
      "\u001b[31m✖\u001b[39m \u001b[34mdplyr\u001b[39m::\u001b[32mlag()\u001b[39m    masks \u001b[34mstats\u001b[39m::lag()\n",
      "── \u001b[1mAttaching packages\u001b[22m ────────────────────────────────────── tidymodels 1.0.0 ──\n",
      "\n",
      "\u001b[32m✔\u001b[39m \u001b[34mbroom       \u001b[39m 1.0.2     \u001b[32m✔\u001b[39m \u001b[34mrsample     \u001b[39m 1.1.1\n",
      "\u001b[32m✔\u001b[39m \u001b[34mdials       \u001b[39m 1.1.0     \u001b[32m✔\u001b[39m \u001b[34mtune        \u001b[39m 1.0.1\n",
      "\u001b[32m✔\u001b[39m \u001b[34minfer       \u001b[39m 1.0.4     \u001b[32m✔\u001b[39m \u001b[34mworkflows   \u001b[39m 1.1.2\n",
      "\u001b[32m✔\u001b[39m \u001b[34mmodeldata   \u001b[39m 1.0.1     \u001b[32m✔\u001b[39m \u001b[34mworkflowsets\u001b[39m 1.0.0\n",
      "\u001b[32m✔\u001b[39m \u001b[34mparsnip     \u001b[39m 1.0.3     \u001b[32m✔\u001b[39m \u001b[34myardstick   \u001b[39m 1.1.0\n",
      "\u001b[32m✔\u001b[39m \u001b[34mrecipes     \u001b[39m 1.0.4     \n",
      "\n",
      "── \u001b[1mConflicts\u001b[22m ───────────────────────────────────────── tidymodels_conflicts() ──\n",
      "\u001b[31m✖\u001b[39m \u001b[34mscales\u001b[39m::\u001b[32mdiscard()\u001b[39m masks \u001b[34mpurrr\u001b[39m::discard()\n",
      "\u001b[31m✖\u001b[39m \u001b[34mdplyr\u001b[39m::\u001b[32mfilter()\u001b[39m   masks \u001b[34mstats\u001b[39m::filter()\n",
      "\u001b[31m✖\u001b[39m \u001b[34mrecipes\u001b[39m::\u001b[32mfixed()\u001b[39m  masks \u001b[34mstringr\u001b[39m::fixed()\n",
      "\u001b[31m✖\u001b[39m \u001b[34mdplyr\u001b[39m::\u001b[32mlag()\u001b[39m      masks \u001b[34mstats\u001b[39m::lag()\n",
      "\u001b[31m✖\u001b[39m \u001b[34myardstick\u001b[39m::\u001b[32mspec()\u001b[39m masks \u001b[34mreadr\u001b[39m::spec()\n",
      "\u001b[31m✖\u001b[39m \u001b[34mrecipes\u001b[39m::\u001b[32mstep()\u001b[39m   masks \u001b[34mstats\u001b[39m::step()\n",
      "\u001b[34m•\u001b[39m Use \u001b[32mtidymodels_prefer()\u001b[39m to resolve common conflicts.\n",
      "\n",
      "\n",
      "Attaching package: ‘rvest’\n",
      "\n",
      "\n",
      "The following object is masked from ‘package:readr’:\n",
      "\n",
      "    guess_encoding\n",
      "\n",
      "\n",
      "Updating HTML index of packages in '.Library'\n",
      "\n",
      "Making 'packages.html' ...\n",
      " done\n",
      "\n"
     ]
    }
   ],
   "source": [
    "options(repr.matrix.max.rows = 6)\n",
    "library(repr)\n",
    "library(tidyverse)\n",
    "library(tidymodels)\n",
    "library(RColorBrewer)\n",
    "library(rvest)\n",
    "install.packages(\"kknn\")\n",
    "library(\"kknn\")"
   ]
  },
  {
   "cell_type": "code",
   "execution_count": 7,
   "id": "ea5c0c9e-2fb7-4830-afef-5e9fcc2f9353",
   "metadata": {
    "tags": [],
    "vscode": {
     "languageId": "r"
    }
   },
   "outputs": [],
   "source": [
    "set.seed(1)"
   ]
  },
  {
   "cell_type": "markdown",
   "id": "6f61ce86-ac41-4328-a0a1-fcefa9f5801d",
   "metadata": {},
   "source": [
    "#### **b) Secondly, we import the data from the heart.csv file that we have uploaded to our GitHub server by looking at the raw data and inputting the link into the read_csv function which yields the data.**"
   ]
  },
  {
   "cell_type": "code",
   "execution_count": 5,
   "id": "6de9f251-98ec-47a5-8321-1f82baee2d9a",
   "metadata": {
    "tags": [],
    "vscode": {
     "languageId": "r"
    }
   },
   "outputs": [
    {
     "name": "stderr",
     "output_type": "stream",
     "text": [
      "\u001b[1mRows: \u001b[22m\u001b[34m1025\u001b[39m \u001b[1mColumns: \u001b[22m\u001b[34m14\u001b[39m\n",
      "\u001b[36m──\u001b[39m \u001b[1mColumn specification\u001b[22m \u001b[36m────────────────────────────────────────────────────────\u001b[39m\n",
      "\u001b[1mDelimiter:\u001b[22m \",\"\n",
      "\u001b[32mdbl\u001b[39m (14): age, sex, cp, trestbps, chol, fbs, restecg, thalach, exang, oldpea...\n",
      "\n",
      "\u001b[36mℹ\u001b[39m Use `spec()` to retrieve the full column specification for this data.\n",
      "\u001b[36mℹ\u001b[39m Specify the column types or set `show_col_types = FALSE` to quiet this message.\n"
     ]
    },
    {
     "data": {
      "text/html": [
       "<table class=\"dataframe\">\n",
       "<caption>A spec_tbl_df: 1025 × 14</caption>\n",
       "<thead>\n",
       "\t<tr><th scope=col>age</th><th scope=col>sex</th><th scope=col>cp</th><th scope=col>trestbps</th><th scope=col>chol</th><th scope=col>fbs</th><th scope=col>restecg</th><th scope=col>thalach</th><th scope=col>exang</th><th scope=col>oldpeak</th><th scope=col>slope</th><th scope=col>ca</th><th scope=col>thal</th><th scope=col>target</th></tr>\n",
       "\t<tr><th scope=col>&lt;dbl&gt;</th><th scope=col>&lt;dbl&gt;</th><th scope=col>&lt;dbl&gt;</th><th scope=col>&lt;dbl&gt;</th><th scope=col>&lt;dbl&gt;</th><th scope=col>&lt;dbl&gt;</th><th scope=col>&lt;dbl&gt;</th><th scope=col>&lt;dbl&gt;</th><th scope=col>&lt;dbl&gt;</th><th scope=col>&lt;dbl&gt;</th><th scope=col>&lt;dbl&gt;</th><th scope=col>&lt;dbl&gt;</th><th scope=col>&lt;dbl&gt;</th><th scope=col>&lt;dbl&gt;</th></tr>\n",
       "</thead>\n",
       "<tbody>\n",
       "\t<tr><td>52</td><td>1</td><td>0</td><td>125</td><td>212</td><td>0</td><td>1</td><td>168</td><td>0</td><td>1.0</td><td>2</td><td>2</td><td>3</td><td>0</td></tr>\n",
       "\t<tr><td>53</td><td>1</td><td>0</td><td>140</td><td>203</td><td>1</td><td>0</td><td>155</td><td>1</td><td>3.1</td><td>0</td><td>0</td><td>3</td><td>0</td></tr>\n",
       "\t<tr><td>70</td><td>1</td><td>0</td><td>145</td><td>174</td><td>0</td><td>1</td><td>125</td><td>1</td><td>2.6</td><td>0</td><td>0</td><td>3</td><td>0</td></tr>\n",
       "\t<tr><td>⋮</td><td>⋮</td><td>⋮</td><td>⋮</td><td>⋮</td><td>⋮</td><td>⋮</td><td>⋮</td><td>⋮</td><td>⋮</td><td>⋮</td><td>⋮</td><td>⋮</td><td>⋮</td></tr>\n",
       "\t<tr><td>47</td><td>1</td><td>0</td><td>110</td><td>275</td><td>0</td><td>0</td><td>118</td><td>1</td><td>1.0</td><td>1</td><td>1</td><td>2</td><td>0</td></tr>\n",
       "\t<tr><td>50</td><td>0</td><td>0</td><td>110</td><td>254</td><td>0</td><td>0</td><td>159</td><td>0</td><td>0.0</td><td>2</td><td>0</td><td>2</td><td>1</td></tr>\n",
       "\t<tr><td>54</td><td>1</td><td>0</td><td>120</td><td>188</td><td>0</td><td>1</td><td>113</td><td>0</td><td>1.4</td><td>1</td><td>1</td><td>3</td><td>0</td></tr>\n",
       "</tbody>\n",
       "</table>\n"
      ],
      "text/latex": [
       "A spec\\_tbl\\_df: 1025 × 14\n",
       "\\begin{tabular}{llllllllllllll}\n",
       " age & sex & cp & trestbps & chol & fbs & restecg & thalach & exang & oldpeak & slope & ca & thal & target\\\\\n",
       " <dbl> & <dbl> & <dbl> & <dbl> & <dbl> & <dbl> & <dbl> & <dbl> & <dbl> & <dbl> & <dbl> & <dbl> & <dbl> & <dbl>\\\\\n",
       "\\hline\n",
       "\t 52 & 1 & 0 & 125 & 212 & 0 & 1 & 168 & 0 & 1.0 & 2 & 2 & 3 & 0\\\\\n",
       "\t 53 & 1 & 0 & 140 & 203 & 1 & 0 & 155 & 1 & 3.1 & 0 & 0 & 3 & 0\\\\\n",
       "\t 70 & 1 & 0 & 145 & 174 & 0 & 1 & 125 & 1 & 2.6 & 0 & 0 & 3 & 0\\\\\n",
       "\t ⋮ & ⋮ & ⋮ & ⋮ & ⋮ & ⋮ & ⋮ & ⋮ & ⋮ & ⋮ & ⋮ & ⋮ & ⋮ & ⋮\\\\\n",
       "\t 47 & 1 & 0 & 110 & 275 & 0 & 0 & 118 & 1 & 1.0 & 1 & 1 & 2 & 0\\\\\n",
       "\t 50 & 0 & 0 & 110 & 254 & 0 & 0 & 159 & 0 & 0.0 & 2 & 0 & 2 & 1\\\\\n",
       "\t 54 & 1 & 0 & 120 & 188 & 0 & 1 & 113 & 0 & 1.4 & 1 & 1 & 3 & 0\\\\\n",
       "\\end{tabular}\n"
      ],
      "text/markdown": [
       "\n",
       "A spec_tbl_df: 1025 × 14\n",
       "\n",
       "| age &lt;dbl&gt; | sex &lt;dbl&gt; | cp &lt;dbl&gt; | trestbps &lt;dbl&gt; | chol &lt;dbl&gt; | fbs &lt;dbl&gt; | restecg &lt;dbl&gt; | thalach &lt;dbl&gt; | exang &lt;dbl&gt; | oldpeak &lt;dbl&gt; | slope &lt;dbl&gt; | ca &lt;dbl&gt; | thal &lt;dbl&gt; | target &lt;dbl&gt; |\n",
       "|---|---|---|---|---|---|---|---|---|---|---|---|---|---|\n",
       "| 52 | 1 | 0 | 125 | 212 | 0 | 1 | 168 | 0 | 1.0 | 2 | 2 | 3 | 0 |\n",
       "| 53 | 1 | 0 | 140 | 203 | 1 | 0 | 155 | 1 | 3.1 | 0 | 0 | 3 | 0 |\n",
       "| 70 | 1 | 0 | 145 | 174 | 0 | 1 | 125 | 1 | 2.6 | 0 | 0 | 3 | 0 |\n",
       "| ⋮ | ⋮ | ⋮ | ⋮ | ⋮ | ⋮ | ⋮ | ⋮ | ⋮ | ⋮ | ⋮ | ⋮ | ⋮ | ⋮ |\n",
       "| 47 | 1 | 0 | 110 | 275 | 0 | 0 | 118 | 1 | 1.0 | 1 | 1 | 2 | 0 |\n",
       "| 50 | 0 | 0 | 110 | 254 | 0 | 0 | 159 | 0 | 0.0 | 2 | 0 | 2 | 1 |\n",
       "| 54 | 1 | 0 | 120 | 188 | 0 | 1 | 113 | 0 | 1.4 | 1 | 1 | 3 | 0 |\n",
       "\n"
      ],
      "text/plain": [
       "     age sex cp trestbps chol fbs restecg thalach exang oldpeak slope ca thal\n",
       "1    52  1   0  125      212  0   1       168     0     1.0     2     2  3   \n",
       "2    53  1   0  140      203  1   0       155     1     3.1     0     0  3   \n",
       "3    70  1   0  145      174  0   1       125     1     2.6     0     0  3   \n",
       "⋮    ⋮   ⋮   ⋮  ⋮        ⋮    ⋮   ⋮       ⋮       ⋮     ⋮       ⋮     ⋮  ⋮   \n",
       "1023 47  1   0  110      275  0   0       118     1     1.0     1     1  2   \n",
       "1024 50  0   0  110      254  0   0       159     0     0.0     2     0  2   \n",
       "1025 54  1   0  120      188  0   1       113     0     1.4     1     1  3   \n",
       "     target\n",
       "1    0     \n",
       "2    0     \n",
       "3    0     \n",
       "⋮    ⋮     \n",
       "1023 0     \n",
       "1024 1     \n",
       "1025 0     "
      ]
     },
     "metadata": {},
     "output_type": "display_data"
    }
   ],
   "source": [
    "url <- read_csv(\"https://raw.githubusercontent.com/BurakMOzkan/DSCI100_group_3/main/heart.csv?token=GHSAT0AAAAAACLARWE452AZBS4ZVBPYRRAKZLJCZIA\")\n",
    "url"
   ]
  },
  {
   "cell_type": "markdown",
   "id": "3ec90308-6946-445e-8281-b85e7fa01829",
   "metadata": {},
   "source": [
    "#### **c) We then wrangle the data by making the response variable of factor data type, changing its name, selecting for the required variables and renaming the rest of the columns to render them comprehensible without additional metadata.**"
   ]
  },
  {
   "cell_type": "code",
   "execution_count": 6,
   "id": "2ce7964c-f41f-487c-9827-c4c91612c50a",
   "metadata": {
    "tags": [],
    "vscode": {
     "languageId": "r"
    }
   },
   "outputs": [
    {
     "data": {
      "text/html": [
       "<table class=\"dataframe\">\n",
       "<caption>A tibble: 1025 × 5</caption>\n",
       "<thead>\n",
       "\t<tr><th scope=col>age</th><th scope=col>resting_bp</th><th scope=col>serum_cholesterol</th><th scope=col>max_heart_rate</th><th scope=col>chest_pain_type</th></tr>\n",
       "\t<tr><th scope=col>&lt;dbl&gt;</th><th scope=col>&lt;dbl&gt;</th><th scope=col>&lt;dbl&gt;</th><th scope=col>&lt;dbl&gt;</th><th scope=col>&lt;fct&gt;</th></tr>\n",
       "</thead>\n",
       "<tbody>\n",
       "\t<tr><td>52</td><td>125</td><td>212</td><td>168</td><td>0</td></tr>\n",
       "\t<tr><td>53</td><td>140</td><td>203</td><td>155</td><td>0</td></tr>\n",
       "\t<tr><td>70</td><td>145</td><td>174</td><td>125</td><td>0</td></tr>\n",
       "\t<tr><td>⋮</td><td>⋮</td><td>⋮</td><td>⋮</td><td>⋮</td></tr>\n",
       "\t<tr><td>47</td><td>110</td><td>275</td><td>118</td><td>0</td></tr>\n",
       "\t<tr><td>50</td><td>110</td><td>254</td><td>159</td><td>0</td></tr>\n",
       "\t<tr><td>54</td><td>120</td><td>188</td><td>113</td><td>0</td></tr>\n",
       "</tbody>\n",
       "</table>\n"
      ],
      "text/latex": [
       "A tibble: 1025 × 5\n",
       "\\begin{tabular}{lllll}\n",
       " age & resting\\_bp & serum\\_cholesterol & max\\_heart\\_rate & chest\\_pain\\_type\\\\\n",
       " <dbl> & <dbl> & <dbl> & <dbl> & <fct>\\\\\n",
       "\\hline\n",
       "\t 52 & 125 & 212 & 168 & 0\\\\\n",
       "\t 53 & 140 & 203 & 155 & 0\\\\\n",
       "\t 70 & 145 & 174 & 125 & 0\\\\\n",
       "\t ⋮ & ⋮ & ⋮ & ⋮ & ⋮\\\\\n",
       "\t 47 & 110 & 275 & 118 & 0\\\\\n",
       "\t 50 & 110 & 254 & 159 & 0\\\\\n",
       "\t 54 & 120 & 188 & 113 & 0\\\\\n",
       "\\end{tabular}\n"
      ],
      "text/markdown": [
       "\n",
       "A tibble: 1025 × 5\n",
       "\n",
       "| age &lt;dbl&gt; | resting_bp &lt;dbl&gt; | serum_cholesterol &lt;dbl&gt; | max_heart_rate &lt;dbl&gt; | chest_pain_type &lt;fct&gt; |\n",
       "|---|---|---|---|---|\n",
       "| 52 | 125 | 212 | 168 | 0 |\n",
       "| 53 | 140 | 203 | 155 | 0 |\n",
       "| 70 | 145 | 174 | 125 | 0 |\n",
       "| ⋮ | ⋮ | ⋮ | ⋮ | ⋮ |\n",
       "| 47 | 110 | 275 | 118 | 0 |\n",
       "| 50 | 110 | 254 | 159 | 0 |\n",
       "| 54 | 120 | 188 | 113 | 0 |\n",
       "\n"
      ],
      "text/plain": [
       "     age resting_bp serum_cholesterol max_heart_rate chest_pain_type\n",
       "1    52  125        212               168            0              \n",
       "2    53  140        203               155            0              \n",
       "3    70  145        174               125            0              \n",
       "⋮    ⋮   ⋮          ⋮                 ⋮              ⋮              \n",
       "1023 47  110        275               118            0              \n",
       "1024 50  110        254               159            0              \n",
       "1025 54  120        188               113            0              "
      ]
     },
     "metadata": {},
     "output_type": "display_data"
    }
   ],
   "source": [
    "heart_disease <- url |>\n",
    "                 mutate(chest_pain_type = as_factor(cp)) |>\n",
    "                 select(age, trestbps, chol, thalach, chest_pain_type) |>\n",
    "                 rename(resting_bp = trestbps,\n",
    "                        serum_cholesterol = chol,\n",
    "                        max_heart_rate = thalach) \n",
    "heart_disease"
   ]
  },
  {
   "cell_type": "markdown",
   "id": "8d90d08b-40dc-431b-9a0a-d8893f9be31b",
   "metadata": {},
   "source": [
    "#### **d) Before we build our model, divide the data into training and testing data sets, as well as set the seed to make the data split reproducible.**"
   ]
  },
  {
   "cell_type": "code",
   "execution_count": 7,
   "id": "2639e890-5d98-4e8e-98fe-a3738caa2ea1",
   "metadata": {
    "tags": [],
    "vscode": {
     "languageId": "r"
    }
   },
   "outputs": [],
   "source": [
    "hd_split <- initial_split(heart_disease, prop = 0.80, strata = chest_pain_type)\n",
    "hd_train <- training(hd_split)\n",
    "hd_test <- testing(hd_split) "
   ]
  },
  {
   "cell_type": "markdown",
   "metadata": {},
   "source": [
    "#### ***) Undersampled our data as we had a class imbalance and our model classified everything as one single class.**"
   ]
  },
  {
   "cell_type": "code",
   "execution_count": null,
   "metadata": {
    "vscode": {
     "languageId": "r"
    }
   },
   "outputs": [],
   "source": [
    "library(\"caret\")\n",
    "hd_train <- downSample(\n",
    "  x = hd_train[, c(\"age\", \"resting_bp\", \"serum_cholesterol\", \"max_heart_rate\")],\n",
    "  y = hd_train$chest_pain_type,\n",
    "  yname = \"chest_pain_type\"\n",
    ")"
   ]
  },
  {
   "cell_type": "markdown",
   "id": "2d37f35b-c3ae-498e-9d52-fc46c862c295",
   "metadata": {
    "tags": []
   },
   "source": [
    "#### **e) Before we train the classifier, we should preprocess the data as it is sensitive to the scale of the predictors.**"
   ]
  },
  {
   "cell_type": "code",
   "execution_count": 53,
   "id": "3fb2b667-be03-4fcc-8655-728843f25948",
   "metadata": {
    "tags": [],
    "vscode": {
     "languageId": "r"
    }
   },
   "outputs": [],
   "source": [
    "hd_recipe <- recipe(chest_pain_type ~ ., data = hd_train) |>\n",
    "             step_scale(all_predictors()) |>\n",
    "             step_center(all_predictors())"
   ]
  },
  {
   "cell_type": "markdown",
   "id": "10923013-8580-4ce4-9e1e-b24b462630c8",
   "metadata": {},
   "source": [
    "#### **f) We can now train the classifier by randomly using K = 4.**"
   ]
  },
  {
   "cell_type": "code",
   "execution_count": 9,
   "id": "babe2578-6651-47b1-8497-dc862bb48fa5",
   "metadata": {
    "tags": [],
    "vscode": {
     "languageId": "r"
    }
   },
   "outputs": [],
   "source": [
    "hd_spec <- nearest_neighbor(weight_func = \"rectangular\", neighbors = 4) |>\n",
    "           set_engine(\"kknn\") |>\n",
    "           set_mode(\"classification\")\n",
    "\n",
    "hd_fit <- workflow() |>\n",
    "          add_recipe(hd_recipe) |>\n",
    "          add_model(hd_spec) |>\n",
    "          fit(data = hd_train)"
   ]
  },
  {
   "cell_type": "markdown",
   "id": "fbb2c8b1-aa72-44f9-a730-53f43188bd21",
   "metadata": {},
   "source": [
    "#### **g) Adding our predictions column to the data set.**"
   ]
  },
  {
   "cell_type": "code",
   "execution_count": 10,
   "id": "1f88a754-2f02-4bd4-82d4-df73d336d9e2",
   "metadata": {
    "tags": [],
    "vscode": {
     "languageId": "r"
    }
   },
   "outputs": [
    {
     "data": {
      "text/html": [
       "<table class=\"dataframe\">\n",
       "<caption>A tibble: 207 × 6</caption>\n",
       "<thead>\n",
       "\t<tr><th scope=col>.pred_class</th><th scope=col>age</th><th scope=col>resting_bp</th><th scope=col>serum_cholesterol</th><th scope=col>max_heart_rate</th><th scope=col>chest_pain_type</th></tr>\n",
       "\t<tr><th scope=col>&lt;fct&gt;</th><th scope=col>&lt;dbl&gt;</th><th scope=col>&lt;dbl&gt;</th><th scope=col>&lt;dbl&gt;</th><th scope=col>&lt;dbl&gt;</th><th scope=col>&lt;fct&gt;</th></tr>\n",
       "</thead>\n",
       "<tbody>\n",
       "\t<tr><td>0</td><td>46</td><td>120</td><td>249</td><td>144</td><td>0</td></tr>\n",
       "\t<tr><td>0</td><td>71</td><td>112</td><td>149</td><td>125</td><td>0</td></tr>\n",
       "\t<tr><td>0</td><td>43</td><td>132</td><td>341</td><td>136</td><td>0</td></tr>\n",
       "\t<tr><td>⋮</td><td>⋮</td><td>⋮</td><td>⋮</td><td>⋮</td><td>⋮</td></tr>\n",
       "\t<tr><td>2</td><td>58</td><td>140</td><td>211</td><td>165</td><td>2</td></tr>\n",
       "\t<tr><td>3</td><td>65</td><td>138</td><td>282</td><td>174</td><td>3</td></tr>\n",
       "\t<tr><td>1</td><td>41</td><td>110</td><td>172</td><td>158</td><td>0</td></tr>\n",
       "</tbody>\n",
       "</table>\n"
      ],
      "text/latex": [
       "A tibble: 207 × 6\n",
       "\\begin{tabular}{llllll}\n",
       " .pred\\_class & age & resting\\_bp & serum\\_cholesterol & max\\_heart\\_rate & chest\\_pain\\_type\\\\\n",
       " <fct> & <dbl> & <dbl> & <dbl> & <dbl> & <fct>\\\\\n",
       "\\hline\n",
       "\t 0 & 46 & 120 & 249 & 144 & 0\\\\\n",
       "\t 0 & 71 & 112 & 149 & 125 & 0\\\\\n",
       "\t 0 & 43 & 132 & 341 & 136 & 0\\\\\n",
       "\t ⋮ & ⋮ & ⋮ & ⋮ & ⋮ & ⋮\\\\\n",
       "\t 2 & 58 & 140 & 211 & 165 & 2\\\\\n",
       "\t 3 & 65 & 138 & 282 & 174 & 3\\\\\n",
       "\t 1 & 41 & 110 & 172 & 158 & 0\\\\\n",
       "\\end{tabular}\n"
      ],
      "text/markdown": [
       "\n",
       "A tibble: 207 × 6\n",
       "\n",
       "| .pred_class &lt;fct&gt; | age &lt;dbl&gt; | resting_bp &lt;dbl&gt; | serum_cholesterol &lt;dbl&gt; | max_heart_rate &lt;dbl&gt; | chest_pain_type &lt;fct&gt; |\n",
       "|---|---|---|---|---|---|\n",
       "| 0 | 46 | 120 | 249 | 144 | 0 |\n",
       "| 0 | 71 | 112 | 149 | 125 | 0 |\n",
       "| 0 | 43 | 132 | 341 | 136 | 0 |\n",
       "| ⋮ | ⋮ | ⋮ | ⋮ | ⋮ | ⋮ |\n",
       "| 2 | 58 | 140 | 211 | 165 | 2 |\n",
       "| 3 | 65 | 138 | 282 | 174 | 3 |\n",
       "| 1 | 41 | 110 | 172 | 158 | 0 |\n",
       "\n"
      ],
      "text/plain": [
       "    .pred_class age resting_bp serum_cholesterol max_heart_rate chest_pain_type\n",
       "1   0           46  120        249               144            0              \n",
       "2   0           71  112        149               125            0              \n",
       "3   0           43  132        341               136            0              \n",
       "⋮   ⋮           ⋮   ⋮          ⋮                 ⋮              ⋮              \n",
       "205 2           58  140        211               165            2              \n",
       "206 3           65  138        282               174            3              \n",
       "207 1           41  110        172               158            0              "
      ]
     },
     "metadata": {},
     "output_type": "display_data"
    }
   ],
   "source": [
    "hd_predictions <- predict(hd_fit, hd_test) |>\n",
    "                  bind_cols(hd_test)\n",
    "hd_predictions"
   ]
  },
  {
   "cell_type": "markdown",
   "id": "0d2119ef-80e6-4d05-88be-b77f470aae15",
   "metadata": {},
   "source": [
    "#### **h) Let's assess the performance of the classifier and see if we need to choose a different K value.**"
   ]
  },
  {
   "cell_type": "code",
   "execution_count": 11,
   "id": "e94a0c9b-1b55-422a-9668-8b2ac0ebf63c",
   "metadata": {
    "tags": [],
    "vscode": {
     "languageId": "r"
    }
   },
   "outputs": [
    {
     "data": {
      "text/html": [
       "<table class=\"dataframe\">\n",
       "<caption>A tibble: 1 × 3</caption>\n",
       "<thead>\n",
       "\t<tr><th scope=col>.metric</th><th scope=col>.estimator</th><th scope=col>.estimate</th></tr>\n",
       "\t<tr><th scope=col>&lt;chr&gt;</th><th scope=col>&lt;chr&gt;</th><th scope=col>&lt;dbl&gt;</th></tr>\n",
       "</thead>\n",
       "<tbody>\n",
       "\t<tr><td>accuracy</td><td>multiclass</td><td>0.7391304</td></tr>\n",
       "</tbody>\n",
       "</table>\n"
      ],
      "text/latex": [
       "A tibble: 1 × 3\n",
       "\\begin{tabular}{lll}\n",
       " .metric & .estimator & .estimate\\\\\n",
       " <chr> & <chr> & <dbl>\\\\\n",
       "\\hline\n",
       "\t accuracy & multiclass & 0.7391304\\\\\n",
       "\\end{tabular}\n"
      ],
      "text/markdown": [
       "\n",
       "A tibble: 1 × 3\n",
       "\n",
       "| .metric &lt;chr&gt; | .estimator &lt;chr&gt; | .estimate &lt;dbl&gt; |\n",
       "|---|---|---|\n",
       "| accuracy | multiclass | 0.7391304 |\n",
       "\n"
      ],
      "text/plain": [
       "  .metric  .estimator .estimate\n",
       "1 accuracy multiclass 0.7391304"
      ]
     },
     "metadata": {},
     "output_type": "display_data"
    }
   ],
   "source": [
    "hd_accuracy <- hd_predictions |>\n",
    "               metrics(truth = chest_pain_type, estimate = .pred_class) |>\n",
    "               filter(.metric == \"accuracy\")\n",
    "hd_accuracy"
   ]
  },
  {
   "cell_type": "code",
   "execution_count": 30,
   "id": "28695f0e-4b9a-4d3a-a80e-a4e12acf7638",
   "metadata": {
    "tags": [],
    "vscode": {
     "languageId": "r"
    }
   },
   "outputs": [
    {
     "data": {
      "text/plain": [
       "          Truth\n",
       "Prediction  0  1  2  3\n",
       "         0 78  5  0  7\n",
       "         1 10 15  4  0\n",
       "         2 11  9 47  0\n",
       "         3  0  2  6 13"
      ]
     },
     "metadata": {},
     "output_type": "display_data"
    }
   ],
   "source": [
    "matrix <- hd_predictions |>\n",
    "    conf_mat(truth = chest_pain_type, estimate = .pred_class)\n",
    "matrix"
   ]
  },
  {
   "cell_type": "markdown",
   "id": "a1c7c035-1ae9-4f15-91b1-161976fa91dd",
   "metadata": {},
   "source": [
    "**The accuracy is not great at all for K = 4. We need to further evaluate our model to increase its accuracy if we hope to use it in clinical applications.**"
   ]
  },
  {
   "cell_type": "markdown",
   "id": "9ee69351-cbb9-4952-97e1-a4cef239f210",
   "metadata": {},
   "source": [
    "#### **i) Employing cross-validation, we can determine the best value for K.**"
   ]
  },
  {
   "cell_type": "code",
   "execution_count": 33,
   "id": "4ee1e026-5a96-438a-919d-a0446572c509",
   "metadata": {
    "tags": [],
    "vscode": {
     "languageId": "r"
    }
   },
   "outputs": [
    {
     "data": {
      "text/html": [
       "<table class=\"dataframe\">\n",
       "<caption>A tibble: 30 × 7</caption>\n",
       "<thead>\n",
       "\t<tr><th scope=col>neighbors</th><th scope=col>.metric</th><th scope=col>.estimator</th><th scope=col>mean</th><th scope=col>n</th><th scope=col>std_err</th><th scope=col>.config</th></tr>\n",
       "\t<tr><th scope=col>&lt;dbl&gt;</th><th scope=col>&lt;chr&gt;</th><th scope=col>&lt;chr&gt;</th><th scope=col>&lt;dbl&gt;</th><th scope=col>&lt;int&gt;</th><th scope=col>&lt;dbl&gt;</th><th scope=col>&lt;chr&gt;</th></tr>\n",
       "</thead>\n",
       "<tbody>\n",
       "\t<tr><td>1</td><td>accuracy</td><td>multiclass</td><td>0.9413131</td><td>5</td><td>0.004978037</td><td>Preprocessor1_Model01</td></tr>\n",
       "\t<tr><td>2</td><td>accuracy</td><td>multiclass</td><td>0.9413131</td><td>5</td><td>0.004978037</td><td>Preprocessor1_Model02</td></tr>\n",
       "\t<tr><td>3</td><td>accuracy</td><td>multiclass</td><td>0.7445495</td><td>5</td><td>0.011354819</td><td>Preprocessor1_Model03</td></tr>\n",
       "\t<tr><td>⋮</td><td>⋮</td><td>⋮</td><td>⋮</td><td>⋮</td><td>⋮</td><td>⋮</td></tr>\n",
       "\t<tr><td>28</td><td>accuracy</td><td>multiclass</td><td>0.5109614</td><td>5</td><td>0.017181186</td><td>Preprocessor1_Model28</td></tr>\n",
       "\t<tr><td>29</td><td>accuracy</td><td>multiclass</td><td>0.5170887</td><td>5</td><td>0.011973082</td><td>Preprocessor1_Model29</td></tr>\n",
       "\t<tr><td>30</td><td>accuracy</td><td>multiclass</td><td>0.5085666</td><td>5</td><td>0.008138567</td><td>Preprocessor1_Model30</td></tr>\n",
       "</tbody>\n",
       "</table>\n"
      ],
      "text/latex": [
       "A tibble: 30 × 7\n",
       "\\begin{tabular}{lllllll}\n",
       " neighbors & .metric & .estimator & mean & n & std\\_err & .config\\\\\n",
       " <dbl> & <chr> & <chr> & <dbl> & <int> & <dbl> & <chr>\\\\\n",
       "\\hline\n",
       "\t 1 & accuracy & multiclass & 0.9413131 & 5 & 0.004978037 & Preprocessor1\\_Model01\\\\\n",
       "\t 2 & accuracy & multiclass & 0.9413131 & 5 & 0.004978037 & Preprocessor1\\_Model02\\\\\n",
       "\t 3 & accuracy & multiclass & 0.7445495 & 5 & 0.011354819 & Preprocessor1\\_Model03\\\\\n",
       "\t ⋮ & ⋮ & ⋮ & ⋮ & ⋮ & ⋮ & ⋮\\\\\n",
       "\t 28 & accuracy & multiclass & 0.5109614 & 5 & 0.017181186 & Preprocessor1\\_Model28\\\\\n",
       "\t 29 & accuracy & multiclass & 0.5170887 & 5 & 0.011973082 & Preprocessor1\\_Model29\\\\\n",
       "\t 30 & accuracy & multiclass & 0.5085666 & 5 & 0.008138567 & Preprocessor1\\_Model30\\\\\n",
       "\\end{tabular}\n"
      ],
      "text/markdown": [
       "\n",
       "A tibble: 30 × 7\n",
       "\n",
       "| neighbors &lt;dbl&gt; | .metric &lt;chr&gt; | .estimator &lt;chr&gt; | mean &lt;dbl&gt; | n &lt;int&gt; | std_err &lt;dbl&gt; | .config &lt;chr&gt; |\n",
       "|---|---|---|---|---|---|---|\n",
       "| 1 | accuracy | multiclass | 0.9413131 | 5 | 0.004978037 | Preprocessor1_Model01 |\n",
       "| 2 | accuracy | multiclass | 0.9413131 | 5 | 0.004978037 | Preprocessor1_Model02 |\n",
       "| 3 | accuracy | multiclass | 0.7445495 | 5 | 0.011354819 | Preprocessor1_Model03 |\n",
       "| ⋮ | ⋮ | ⋮ | ⋮ | ⋮ | ⋮ | ⋮ |\n",
       "| 28 | accuracy | multiclass | 0.5109614 | 5 | 0.017181186 | Preprocessor1_Model28 |\n",
       "| 29 | accuracy | multiclass | 0.5170887 | 5 | 0.011973082 | Preprocessor1_Model29 |\n",
       "| 30 | accuracy | multiclass | 0.5085666 | 5 | 0.008138567 | Preprocessor1_Model30 |\n",
       "\n"
      ],
      "text/plain": [
       "   neighbors .metric  .estimator mean      n std_err     .config              \n",
       "1  1         accuracy multiclass 0.9413131 5 0.004978037 Preprocessor1_Model01\n",
       "2  2         accuracy multiclass 0.9413131 5 0.004978037 Preprocessor1_Model02\n",
       "3  3         accuracy multiclass 0.7445495 5 0.011354819 Preprocessor1_Model03\n",
       "⋮  ⋮         ⋮        ⋮          ⋮         ⋮ ⋮           ⋮                    \n",
       "28 28        accuracy multiclass 0.5109614 5 0.017181186 Preprocessor1_Model28\n",
       "29 29        accuracy multiclass 0.5170887 5 0.011973082 Preprocessor1_Model29\n",
       "30 30        accuracy multiclass 0.5085666 5 0.008138567 Preprocessor1_Model30"
      ]
     },
     "metadata": {},
     "output_type": "display_data"
    }
   ],
   "source": [
    "hd_vfold <- vfold_cv(hd_train, v = 5, strata = chest_pain_type)\n",
    "\n",
    "hd_spec_2 <- nearest_neighbor(weight_func = \"rectangular\", neighbors = tune()) |>\n",
    "             set_engine(\"kknn\") |>\n",
    "             set_mode(\"classification\")\n",
    "\n",
    "hd_k_vals <- tibble(neighbors = seq(from = 1, to = 20, by = 1))\n",
    "\n",
    "hd_results <- workflow() |>\n",
    "              add_recipe(hd_recipe) |>\n",
    "              add_model(hd_spec_2) |>\n",
    "              tune_grid(resamples = hd_vfold, grid = hd_k_vals) |>\n",
    "              collect_metrics() \n",
    "\n",
    "hd_accuracies <- hd_results |>\n",
    "                 filter(.metric == \"accuracy\")\n",
    "hd_accuracies"
   ]
  },
  {
   "cell_type": "markdown",
   "id": "7e376c7a-e543-476c-a36d-e5c99b2cfa7a",
   "metadata": {},
   "source": [
    "#### **j) Plot the accuracies to pick a value for K.**"
   ]
  },
  {
   "cell_type": "code",
   "execution_count": 49,
   "id": "fc1b10b3-e2eb-4c5e-b3d7-8e1024fcf328",
   "metadata": {
    "tags": [],
    "vscode": {
     "languageId": "r"
    }
   },
   "outputs": [
    {
     "data": {
      "application/pdf": "[encoded data removed]",
      "image/jpeg": "[encoded data removed]",
      "image/png": "[encoded data removed]",
      "image/svg+xml": [
       "<?xml version=\"1.0\" encoding=\"UTF-8\"?>\n",
       "<svg xmlns=\"http://www.w3.org/2000/svg\" xmlns:xlink=\"http://www.w3.org/1999/xlink\" width=\"504pt\" height=\"504pt\" viewBox=\"0 0 504 504\" version=\"1.1\">\n",
       "<defs>\n",
       "<g>\n",
       "<symbol overflow=\"visible\" id=\"glyph0-0\">\n",
       "<path style=\"stroke:none;\" d=\"M 0.3125 0 L 0.3125 -6.390625 L 2.859375 -6.390625 L 2.859375 0 Z M 0.640625 -0.3125 L 2.546875 -0.3125 L 2.546875 -6.078125 L 0.640625 -6.078125 Z M 0.640625 -0.3125 \"/>\n",
       "</symbol>\n",
       "<symbol overflow=\"visible\" id=\"glyph0-1\">\n",
       "<path style=\"stroke:none;\" d=\"M 4.953125 -3.296875 C 4.953125 -2.671875 4.890625 -2.140625 4.765625 -1.703125 C 4.648438 -1.265625 4.488281 -0.910156 4.28125 -0.640625 C 4.082031 -0.378906 3.84375 -0.191406 3.5625 -0.078125 C 3.28125 0.0351562 2.976562 0.09375 2.65625 0.09375 C 2.332031 0.09375 2.03125 0.0351562 1.75 -0.078125 C 1.476562 -0.191406 1.238281 -0.378906 1.03125 -0.640625 C 0.820312 -0.910156 0.660156 -1.257812 0.546875 -1.6875 C 0.429688 -2.125 0.375 -2.660156 0.375 -3.296875 C 0.375 -3.960938 0.429688 -4.515625 0.546875 -4.953125 C 0.660156 -5.390625 0.820312 -5.738281 1.03125 -6 C 1.238281 -6.257812 1.484375 -6.441406 1.765625 -6.546875 C 2.046875 -6.648438 2.351562 -6.703125 2.6875 -6.703125 C 3 -6.703125 3.289062 -6.648438 3.5625 -6.546875 C 3.84375 -6.441406 4.085938 -6.257812 4.296875 -6 C 4.503906 -5.738281 4.664062 -5.390625 4.78125 -4.953125 C 4.894531 -4.515625 4.953125 -3.960938 4.953125 -3.296875 Z M 4.109375 -3.296875 C 4.109375 -3.828125 4.078125 -4.265625 4.015625 -4.609375 C 3.953125 -4.960938 3.859375 -5.238281 3.734375 -5.4375 C 3.609375 -5.644531 3.457031 -5.789062 3.28125 -5.875 C 3.101562 -5.96875 2.90625 -6.015625 2.6875 -6.015625 C 2.445312 -6.015625 2.234375 -5.96875 2.046875 -5.875 C 1.867188 -5.789062 1.71875 -5.644531 1.59375 -5.4375 C 1.476562 -5.226562 1.390625 -4.945312 1.328125 -4.59375 C 1.265625 -4.25 1.234375 -3.816406 1.234375 -3.296875 C 1.234375 -2.796875 1.265625 -2.367188 1.328125 -2.015625 C 1.390625 -1.671875 1.484375 -1.394531 1.609375 -1.1875 C 1.734375 -0.976562 1.882812 -0.828125 2.0625 -0.734375 C 2.238281 -0.640625 2.441406 -0.59375 2.671875 -0.59375 C 2.890625 -0.59375 3.085938 -0.640625 3.265625 -0.734375 C 3.441406 -0.828125 3.59375 -0.976562 3.71875 -1.1875 C 3.84375 -1.394531 3.9375 -1.671875 4 -2.015625 C 4.070312 -2.367188 4.109375 -2.796875 4.109375 -3.296875 Z M 4.109375 -3.296875 \"/>\n",
       "</symbol>\n",
       "<symbol overflow=\"visible\" id=\"glyph0-2\">\n",
       "<path style=\"stroke:none;\" d=\"M 0.875 0 L 0.875 -1.03125 L 1.796875 -1.03125 L 1.796875 0 Z M 0.875 0 \"/>\n",
       "</symbol>\n",
       "<symbol overflow=\"visible\" id=\"glyph0-3\">\n",
       "<path style=\"stroke:none;\" d=\"M 4.9375 -2.15625 C 4.9375 -1.820312 4.882812 -1.515625 4.78125 -1.234375 C 4.6875 -0.960938 4.539062 -0.726562 4.34375 -0.53125 C 4.144531 -0.332031 3.898438 -0.175781 3.609375 -0.0625 C 3.316406 0.0390625 2.976562 0.09375 2.59375 0.09375 C 2.25 0.09375 1.945312 0.0507812 1.6875 -0.03125 C 1.425781 -0.113281 1.207031 -0.222656 1.03125 -0.359375 C 0.851562 -0.503906 0.710938 -0.671875 0.609375 -0.859375 C 0.503906 -1.046875 0.429688 -1.25 0.390625 -1.46875 L 1.234375 -1.578125 C 1.265625 -1.453125 1.3125 -1.328125 1.375 -1.203125 C 1.4375 -1.085938 1.519531 -0.984375 1.625 -0.890625 C 1.738281 -0.804688 1.875 -0.734375 2.03125 -0.671875 C 2.1875 -0.617188 2.378906 -0.59375 2.609375 -0.59375 C 2.828125 -0.59375 3.023438 -0.625 3.203125 -0.6875 C 3.378906 -0.757812 3.53125 -0.859375 3.65625 -0.984375 C 3.78125 -1.117188 3.878906 -1.28125 3.953125 -1.46875 C 4.023438 -1.664062 4.0625 -1.882812 4.0625 -2.125 C 4.0625 -2.332031 4.023438 -2.519531 3.953125 -2.6875 C 3.890625 -2.863281 3.796875 -3.007812 3.671875 -3.125 C 3.554688 -3.25 3.410156 -3.34375 3.234375 -3.40625 C 3.054688 -3.476562 2.851562 -3.515625 2.625 -3.515625 C 2.488281 -3.515625 2.359375 -3.503906 2.234375 -3.484375 C 2.117188 -3.460938 2.007812 -3.425781 1.90625 -3.375 C 1.800781 -3.332031 1.707031 -3.28125 1.625 -3.21875 C 1.550781 -3.164062 1.476562 -3.109375 1.40625 -3.046875 L 0.578125 -3.046875 L 0.796875 -6.59375 L 4.546875 -6.59375 L 4.546875 -5.890625 L 1.5625 -5.890625 L 1.4375 -3.796875 C 1.582031 -3.910156 1.769531 -4.007812 2 -4.09375 C 2.226562 -4.175781 2.492188 -4.21875 2.796875 -4.21875 C 3.128906 -4.21875 3.425781 -4.164062 3.6875 -4.0625 C 3.945312 -3.957031 4.171875 -3.8125 4.359375 -3.625 C 4.546875 -3.445312 4.6875 -3.234375 4.78125 -2.984375 C 4.882812 -2.734375 4.9375 -2.457031 4.9375 -2.15625 Z M 4.9375 -2.15625 \"/>\n",
       "</symbol>\n",
       "<symbol overflow=\"visible\" id=\"glyph0-4\">\n",
       "<path style=\"stroke:none;\" d=\"M 4.90625 -2.15625 C 4.90625 -1.820312 4.859375 -1.515625 4.765625 -1.234375 C 4.679688 -0.960938 4.546875 -0.726562 4.359375 -0.53125 C 4.179688 -0.332031 3.957031 -0.175781 3.6875 -0.0625 C 3.425781 0.0390625 3.125 0.09375 2.78125 0.09375 C 2.394531 0.09375 2.054688 0.0195312 1.765625 -0.125 C 1.484375 -0.269531 1.242188 -0.476562 1.046875 -0.75 C 0.859375 -1.03125 0.71875 -1.367188 0.625 -1.765625 C 0.53125 -2.171875 0.484375 -2.628906 0.484375 -3.140625 C 0.484375 -3.734375 0.535156 -4.25 0.640625 -4.6875 C 0.753906 -5.132812 0.910156 -5.503906 1.109375 -5.796875 C 1.316406 -6.097656 1.566406 -6.320312 1.859375 -6.46875 C 2.148438 -6.625 2.476562 -6.703125 2.84375 -6.703125 C 3.070312 -6.703125 3.285156 -6.675781 3.484375 -6.625 C 3.679688 -6.582031 3.859375 -6.507812 4.015625 -6.40625 C 4.179688 -6.300781 4.320312 -6.160156 4.4375 -5.984375 C 4.5625 -5.816406 4.660156 -5.609375 4.734375 -5.359375 L 3.921875 -5.203125 C 3.835938 -5.492188 3.695312 -5.703125 3.5 -5.828125 C 3.3125 -5.953125 3.09375 -6.015625 2.84375 -6.015625 C 2.601562 -6.015625 2.390625 -5.957031 2.203125 -5.84375 C 2.023438 -5.738281 1.867188 -5.578125 1.734375 -5.359375 C 1.597656 -5.140625 1.492188 -4.863281 1.421875 -4.53125 C 1.359375 -4.207031 1.328125 -3.828125 1.328125 -3.390625 C 1.484375 -3.679688 1.695312 -3.898438 1.96875 -4.046875 C 2.25 -4.191406 2.566406 -4.265625 2.921875 -4.265625 C 3.222656 -4.265625 3.492188 -4.21875 3.734375 -4.125 C 3.984375 -4.03125 4.191406 -3.890625 4.359375 -3.703125 C 4.535156 -3.515625 4.671875 -3.289062 4.765625 -3.03125 C 4.859375 -2.769531 4.90625 -2.476562 4.90625 -2.15625 Z M 4.0625 -2.125 C 4.0625 -2.351562 4.03125 -2.554688 3.96875 -2.734375 C 3.914062 -2.921875 3.832031 -3.078125 3.71875 -3.203125 C 3.601562 -3.335938 3.460938 -3.4375 3.296875 -3.5 C 3.128906 -3.570312 2.9375 -3.609375 2.71875 -3.609375 C 2.570312 -3.609375 2.421875 -3.585938 2.265625 -3.546875 C 2.109375 -3.503906 1.96875 -3.429688 1.84375 -3.328125 C 1.71875 -3.222656 1.613281 -3.085938 1.53125 -2.921875 C 1.445312 -2.753906 1.40625 -2.554688 1.40625 -2.328125 C 1.40625 -2.078125 1.4375 -1.847656 1.5 -1.640625 C 1.5625 -1.429688 1.648438 -1.25 1.765625 -1.09375 C 1.890625 -0.9375 2.03125 -0.8125 2.1875 -0.71875 C 2.351562 -0.625 2.539062 -0.578125 2.75 -0.578125 C 2.957031 -0.578125 3.140625 -0.613281 3.296875 -0.6875 C 3.460938 -0.757812 3.597656 -0.859375 3.703125 -0.984375 C 3.816406 -1.117188 3.90625 -1.28125 3.96875 -1.46875 C 4.03125 -1.664062 4.0625 -1.882812 4.0625 -2.125 Z M 4.0625 -2.125 \"/>\n",
       "</symbol>\n",
       "<symbol overflow=\"visible\" id=\"glyph0-5\">\n",
       "<path style=\"stroke:none;\" d=\"M 4.859375 -5.921875 C 4.523438 -5.410156 4.21875 -4.921875 3.9375 -4.453125 C 3.65625 -3.984375 3.414062 -3.515625 3.21875 -3.046875 C 3.019531 -2.578125 2.863281 -2.09375 2.75 -1.59375 C 2.644531 -1.09375 2.59375 -0.5625 2.59375 0 L 1.703125 0 C 1.703125 -0.53125 1.765625 -1.046875 1.890625 -1.546875 C 2.015625 -2.054688 2.179688 -2.554688 2.390625 -3.046875 C 2.609375 -3.535156 2.859375 -4.015625 3.140625 -4.484375 C 3.421875 -4.953125 3.71875 -5.421875 4.03125 -5.890625 L 0.484375 -5.890625 L 0.484375 -6.59375 L 4.859375 -6.59375 Z M 4.859375 -5.921875 \"/>\n",
       "</symbol>\n",
       "<symbol overflow=\"visible\" id=\"glyph0-6\">\n",
       "<path style=\"stroke:none;\" d=\"M 4.921875 -1.84375 C 4.921875 -1.5625 4.875 -1.300781 4.78125 -1.0625 C 4.695312 -0.832031 4.5625 -0.628906 4.375 -0.453125 C 4.195312 -0.285156 3.960938 -0.148438 3.671875 -0.046875 C 3.390625 0.046875 3.054688 0.09375 2.671875 0.09375 C 2.285156 0.09375 1.945312 0.046875 1.65625 -0.046875 C 1.375 -0.148438 1.140625 -0.285156 0.953125 -0.453125 C 0.773438 -0.617188 0.640625 -0.820312 0.546875 -1.0625 C 0.460938 -1.300781 0.421875 -1.554688 0.421875 -1.828125 C 0.421875 -2.066406 0.457031 -2.28125 0.53125 -2.46875 C 0.601562 -2.65625 0.695312 -2.816406 0.8125 -2.953125 C 0.9375 -3.085938 1.078125 -3.195312 1.234375 -3.28125 C 1.398438 -3.363281 1.566406 -3.421875 1.734375 -3.453125 L 1.734375 -3.46875 C 1.546875 -3.507812 1.378906 -3.578125 1.234375 -3.671875 C 1.085938 -3.773438 0.960938 -3.894531 0.859375 -4.03125 C 0.765625 -4.164062 0.691406 -4.316406 0.640625 -4.484375 C 0.597656 -4.648438 0.578125 -4.820312 0.578125 -5 C 0.578125 -5.238281 0.617188 -5.457031 0.703125 -5.65625 C 0.796875 -5.863281 0.925781 -6.046875 1.09375 -6.203125 C 1.269531 -6.359375 1.488281 -6.476562 1.75 -6.5625 C 2.007812 -6.65625 2.3125 -6.703125 2.65625 -6.703125 C 3.007812 -6.703125 3.316406 -6.65625 3.578125 -6.5625 C 3.847656 -6.46875 4.066406 -6.34375 4.234375 -6.1875 C 4.410156 -6.039062 4.539062 -5.863281 4.625 -5.65625 C 4.707031 -5.445312 4.75 -5.226562 4.75 -5 C 4.75 -4.820312 4.722656 -4.648438 4.671875 -4.484375 C 4.617188 -4.316406 4.546875 -4.164062 4.453125 -4.03125 C 4.359375 -3.894531 4.238281 -3.773438 4.09375 -3.671875 C 3.945312 -3.578125 3.773438 -3.515625 3.578125 -3.484375 L 3.578125 -3.46875 C 3.773438 -3.4375 3.953125 -3.378906 4.109375 -3.296875 C 4.273438 -3.210938 4.414062 -3.101562 4.53125 -2.96875 C 4.65625 -2.832031 4.75 -2.671875 4.8125 -2.484375 C 4.882812 -2.296875 4.921875 -2.082031 4.921875 -1.84375 Z M 3.875 -4.953125 C 3.875 -5.117188 3.851562 -5.269531 3.8125 -5.40625 C 3.769531 -5.539062 3.703125 -5.65625 3.609375 -5.75 C 3.515625 -5.851562 3.390625 -5.929688 3.234375 -5.984375 C 3.078125 -6.046875 2.882812 -6.078125 2.65625 -6.078125 C 2.425781 -6.078125 2.234375 -6.046875 2.078125 -5.984375 C 1.929688 -5.929688 1.804688 -5.851562 1.703125 -5.75 C 1.609375 -5.65625 1.539062 -5.539062 1.5 -5.40625 C 1.457031 -5.269531 1.4375 -5.117188 1.4375 -4.953125 C 1.4375 -4.816406 1.453125 -4.679688 1.484375 -4.546875 C 1.515625 -4.410156 1.578125 -4.285156 1.671875 -4.171875 C 1.765625 -4.054688 1.890625 -3.960938 2.046875 -3.890625 C 2.203125 -3.828125 2.40625 -3.796875 2.65625 -3.796875 C 2.925781 -3.796875 3.140625 -3.828125 3.296875 -3.890625 C 3.460938 -3.960938 3.585938 -4.054688 3.671875 -4.171875 C 3.753906 -4.285156 3.804688 -4.410156 3.828125 -4.546875 C 3.859375 -4.679688 3.875 -4.816406 3.875 -4.953125 Z M 4.046875 -1.921875 C 4.046875 -2.078125 4.019531 -2.226562 3.96875 -2.375 C 3.925781 -2.53125 3.851562 -2.664062 3.75 -2.78125 C 3.644531 -2.894531 3.5 -2.984375 3.3125 -3.046875 C 3.132812 -3.117188 2.914062 -3.15625 2.65625 -3.15625 C 2.40625 -3.15625 2.191406 -3.117188 2.015625 -3.046875 C 1.847656 -2.984375 1.707031 -2.890625 1.59375 -2.765625 C 1.488281 -2.648438 1.410156 -2.515625 1.359375 -2.359375 C 1.304688 -2.210938 1.28125 -2.0625 1.28125 -1.90625 C 1.28125 -1.695312 1.304688 -1.507812 1.359375 -1.34375 C 1.410156 -1.175781 1.488281 -1.03125 1.59375 -0.90625 C 1.707031 -0.789062 1.851562 -0.695312 2.03125 -0.625 C 2.207031 -0.5625 2.421875 -0.53125 2.671875 -0.53125 C 2.929688 -0.53125 3.148438 -0.5625 3.328125 -0.625 C 3.503906 -0.695312 3.644531 -0.789062 3.75 -0.90625 C 3.851562 -1.03125 3.925781 -1.175781 3.96875 -1.34375 C 4.019531 -1.519531 4.046875 -1.710938 4.046875 -1.921875 Z M 4.046875 -1.921875 \"/>\n",
       "</symbol>\n",
       "<symbol overflow=\"visible\" id=\"glyph0-7\">\n",
       "<path style=\"stroke:none;\" d=\"M 4.875 -3.4375 C 4.875 -2.84375 4.816406 -2.328125 4.703125 -1.890625 C 4.597656 -1.453125 4.441406 -1.082031 4.234375 -0.78125 C 4.035156 -0.488281 3.785156 -0.269531 3.484375 -0.125 C 3.191406 0.0195312 2.859375 0.09375 2.484375 0.09375 C 2.234375 0.09375 2.003906 0.0664062 1.796875 0.015625 C 1.597656 -0.0351562 1.421875 -0.113281 1.265625 -0.21875 C 1.109375 -0.332031 0.972656 -0.472656 0.859375 -0.640625 C 0.742188 -0.816406 0.648438 -1.03125 0.578125 -1.28125 L 1.390625 -1.40625 C 1.472656 -1.125 1.609375 -0.914062 1.796875 -0.78125 C 1.984375 -0.644531 2.21875 -0.578125 2.5 -0.578125 C 2.726562 -0.578125 2.9375 -0.628906 3.125 -0.734375 C 3.320312 -0.847656 3.484375 -1.015625 3.609375 -1.234375 C 3.742188 -1.453125 3.847656 -1.722656 3.921875 -2.046875 C 3.992188 -2.367188 4.035156 -2.75 4.046875 -3.1875 C 3.984375 -3.039062 3.894531 -2.910156 3.78125 -2.796875 C 3.664062 -2.679688 3.535156 -2.582031 3.390625 -2.5 C 3.242188 -2.414062 3.085938 -2.351562 2.921875 -2.3125 C 2.753906 -2.269531 2.582031 -2.25 2.40625 -2.25 C 2.101562 -2.25 1.832031 -2.300781 1.59375 -2.40625 C 1.351562 -2.519531 1.144531 -2.671875 0.96875 -2.859375 C 0.800781 -3.054688 0.671875 -3.289062 0.578125 -3.5625 C 0.492188 -3.84375 0.453125 -4.148438 0.453125 -4.484375 C 0.453125 -4.816406 0.5 -5.117188 0.59375 -5.390625 C 0.695312 -5.671875 0.84375 -5.90625 1.03125 -6.09375 C 1.21875 -6.289062 1.445312 -6.441406 1.71875 -6.546875 C 1.988281 -6.648438 2.296875 -6.703125 2.640625 -6.703125 C 3.378906 -6.703125 3.9375 -6.425781 4.3125 -5.875 C 4.6875 -5.332031 4.875 -4.519531 4.875 -3.4375 Z M 3.96875 -4.25 C 3.96875 -4.488281 3.9375 -4.71875 3.875 -4.9375 C 3.820312 -5.15625 3.738281 -5.34375 3.625 -5.5 C 3.507812 -5.65625 3.367188 -5.78125 3.203125 -5.875 C 3.035156 -5.96875 2.84375 -6.015625 2.625 -6.015625 C 2.414062 -6.015625 2.226562 -5.976562 2.0625 -5.90625 C 1.90625 -5.832031 1.769531 -5.726562 1.65625 -5.59375 C 1.539062 -5.46875 1.453125 -5.304688 1.390625 -5.109375 C 1.335938 -4.921875 1.3125 -4.710938 1.3125 -4.484375 C 1.3125 -4.253906 1.335938 -4.046875 1.390625 -3.859375 C 1.441406 -3.671875 1.519531 -3.503906 1.625 -3.359375 C 1.738281 -3.222656 1.875 -3.113281 2.03125 -3.03125 C 2.195312 -2.957031 2.390625 -2.921875 2.609375 -2.921875 C 2.765625 -2.921875 2.921875 -2.945312 3.078125 -3 C 3.242188 -3.050781 3.390625 -3.128906 3.515625 -3.234375 C 3.648438 -3.347656 3.757812 -3.488281 3.84375 -3.65625 C 3.925781 -3.820312 3.96875 -4.019531 3.96875 -4.25 Z M 3.96875 -4.25 \"/>\n",
       "</symbol>\n",
       "<symbol overflow=\"visible\" id=\"glyph0-8\">\n",
       "<path style=\"stroke:none;\" d=\"M 0.734375 0 L 0.734375 -0.71875 L 2.40625 -0.71875 L 2.40625 -5.796875 L 0.921875 -4.734375 L 0.921875 -5.53125 L 2.484375 -6.59375 L 3.265625 -6.59375 L 3.265625 -0.71875 L 4.859375 -0.71875 L 4.859375 0 Z M 0.734375 0 \"/>\n",
       "</symbol>\n",
       "<symbol overflow=\"visible\" id=\"glyph0-9\">\n",
       "<path style=\"stroke:none;\" d=\"M 0.484375 0 L 0.484375 -0.59375 C 0.640625 -0.957031 0.832031 -1.28125 1.0625 -1.5625 C 1.289062 -1.84375 1.53125 -2.09375 1.78125 -2.3125 C 2.039062 -2.539062 2.289062 -2.75 2.53125 -2.9375 C 2.78125 -3.132812 3.003906 -3.332031 3.203125 -3.53125 C 3.410156 -3.726562 3.578125 -3.929688 3.703125 -4.140625 C 3.828125 -4.347656 3.890625 -4.585938 3.890625 -4.859375 C 3.890625 -5.046875 3.859375 -5.207031 3.796875 -5.34375 C 3.742188 -5.488281 3.660156 -5.609375 3.546875 -5.703125 C 3.441406 -5.804688 3.316406 -5.878906 3.171875 -5.921875 C 3.023438 -5.972656 2.859375 -6 2.671875 -6 C 2.503906 -6 2.347656 -5.972656 2.203125 -5.921875 C 2.054688 -5.878906 1.925781 -5.8125 1.8125 -5.71875 C 1.695312 -5.625 1.601562 -5.507812 1.53125 -5.375 C 1.457031 -5.238281 1.40625 -5.078125 1.375 -4.890625 L 0.515625 -4.96875 C 0.546875 -5.207031 0.613281 -5.429688 0.71875 -5.640625 C 0.820312 -5.847656 0.960938 -6.03125 1.140625 -6.1875 C 1.328125 -6.34375 1.546875 -6.46875 1.796875 -6.5625 C 2.046875 -6.65625 2.335938 -6.703125 2.671875 -6.703125 C 3.003906 -6.703125 3.296875 -6.660156 3.546875 -6.578125 C 3.804688 -6.503906 4.023438 -6.390625 4.203125 -6.234375 C 4.378906 -6.078125 4.515625 -5.882812 4.609375 -5.65625 C 4.703125 -5.4375 4.75 -5.179688 4.75 -4.890625 C 4.75 -4.671875 4.707031 -4.457031 4.625 -4.25 C 4.550781 -4.050781 4.445312 -3.863281 4.3125 -3.6875 C 4.175781 -3.507812 4.019531 -3.332031 3.84375 -3.15625 C 3.675781 -2.988281 3.492188 -2.820312 3.296875 -2.65625 C 3.109375 -2.5 2.914062 -2.34375 2.71875 -2.1875 C 2.53125 -2.03125 2.347656 -1.867188 2.171875 -1.703125 C 2.003906 -1.546875 1.851562 -1.382812 1.71875 -1.21875 C 1.582031 -1.0625 1.476562 -0.894531 1.40625 -0.71875 L 4.859375 -0.71875 L 4.859375 0 Z M 0.484375 0 \"/>\n",
       "</symbol>\n",
       "<symbol overflow=\"visible\" id=\"glyph0-10\">\n",
       "<path style=\"stroke:none;\" d=\"M 4.90625 -1.828125 C 4.90625 -1.523438 4.859375 -1.253906 4.765625 -1.015625 C 4.671875 -0.773438 4.523438 -0.570312 4.328125 -0.40625 C 4.140625 -0.238281 3.90625 -0.113281 3.625 -0.03125 C 3.351562 0.0507812 3.035156 0.09375 2.671875 0.09375 C 2.265625 0.09375 1.921875 0.046875 1.640625 -0.046875 C 1.359375 -0.148438 1.125 -0.285156 0.9375 -0.453125 C 0.757812 -0.628906 0.625 -0.820312 0.53125 -1.03125 C 0.445312 -1.25 0.390625 -1.472656 0.359375 -1.703125 L 1.234375 -1.78125 C 1.265625 -1.601562 1.3125 -1.441406 1.375 -1.296875 C 1.4375 -1.148438 1.523438 -1.023438 1.640625 -0.921875 C 1.765625 -0.816406 1.910156 -0.738281 2.078125 -0.6875 C 2.242188 -0.632812 2.441406 -0.609375 2.671875 -0.609375 C 3.097656 -0.609375 3.429688 -0.710938 3.671875 -0.921875 C 3.910156 -1.128906 4.03125 -1.4375 4.03125 -1.84375 C 4.03125 -2.09375 3.976562 -2.289062 3.875 -2.4375 C 3.769531 -2.582031 3.632812 -2.695312 3.46875 -2.78125 C 3.3125 -2.863281 3.140625 -2.921875 2.953125 -2.953125 C 2.765625 -2.984375 2.585938 -3 2.421875 -3 L 1.953125 -3 L 1.953125 -3.71875 L 2.40625 -3.71875 C 2.5625 -3.71875 2.722656 -3.734375 2.890625 -3.765625 C 3.066406 -3.804688 3.226562 -3.867188 3.375 -3.953125 C 3.519531 -4.035156 3.632812 -4.148438 3.71875 -4.296875 C 3.8125 -4.441406 3.859375 -4.628906 3.859375 -4.859375 C 3.859375 -5.210938 3.753906 -5.488281 3.546875 -5.6875 C 3.335938 -5.894531 3.03125 -6 2.625 -6 C 2.257812 -6 1.957031 -5.90625 1.71875 -5.71875 C 1.488281 -5.53125 1.359375 -5.257812 1.328125 -4.90625 L 0.484375 -4.984375 C 0.515625 -5.273438 0.59375 -5.523438 0.71875 -5.734375 C 0.84375 -5.953125 1 -6.128906 1.1875 -6.265625 C 1.382812 -6.410156 1.601562 -6.519531 1.84375 -6.59375 C 2.09375 -6.664062 2.359375 -6.703125 2.640625 -6.703125 C 3.003906 -6.703125 3.316406 -6.65625 3.578125 -6.5625 C 3.847656 -6.46875 4.066406 -6.34375 4.234375 -6.1875 C 4.410156 -6.03125 4.535156 -5.84375 4.609375 -5.625 C 4.691406 -5.414062 4.734375 -5.191406 4.734375 -4.953125 C 4.734375 -4.753906 4.707031 -4.570312 4.65625 -4.40625 C 4.601562 -4.238281 4.519531 -4.085938 4.40625 -3.953125 C 4.289062 -3.816406 4.144531 -3.703125 3.96875 -3.609375 C 3.800781 -3.515625 3.59375 -3.441406 3.34375 -3.390625 L 3.34375 -3.375 C 3.613281 -3.34375 3.847656 -3.28125 4.046875 -3.1875 C 4.242188 -3.09375 4.40625 -2.976562 4.53125 -2.84375 C 4.65625 -2.707031 4.75 -2.550781 4.8125 -2.375 C 4.875 -2.195312 4.90625 -2.015625 4.90625 -1.828125 Z M 4.90625 -1.828125 \"/>\n",
       "</symbol>\n",
       "<symbol overflow=\"visible\" id=\"glyph1-0\">\n",
       "<path style=\"stroke:none;\" d=\"M 0.40625 0 L 0.40625 -8 L 3.59375 -8 L 3.59375 0 Z M 0.796875 -0.40625 L 3.1875 -0.40625 L 3.1875 -7.59375 L 0.796875 -7.59375 Z M 0.796875 -0.40625 \"/>\n",
       "</symbol>\n",
       "<symbol overflow=\"visible\" id=\"glyph1-1\">\n",
       "<path style=\"stroke:none;\" d=\"M 6.34375 0 L 1.921875 -7.03125 C 1.929688 -6.84375 1.941406 -6.65625 1.953125 -6.46875 C 1.960938 -6.300781 1.96875 -6.128906 1.96875 -5.953125 C 1.976562 -5.773438 1.984375 -5.617188 1.984375 -5.484375 L 1.984375 0 L 0.984375 0 L 0.984375 -8.25 L 2.28125 -8.25 L 6.75 -1.171875 C 6.738281 -1.367188 6.726562 -1.5625 6.71875 -1.75 C 6.707031 -1.914062 6.695312 -2.09375 6.6875 -2.28125 C 6.6875 -2.476562 6.6875 -2.664062 6.6875 -2.84375 L 6.6875 -8.25 L 7.6875 -8.25 L 7.6875 0 Z M 6.34375 0 \"/>\n",
       "</symbol>\n",
       "<symbol overflow=\"visible\" id=\"glyph1-2\">\n",
       "<path style=\"stroke:none;\" d=\"M 1.625 -2.953125 C 1.625 -2.617188 1.65625 -2.3125 1.71875 -2.03125 C 1.789062 -1.75 1.894531 -1.507812 2.03125 -1.3125 C 2.175781 -1.113281 2.359375 -0.957031 2.578125 -0.84375 C 2.804688 -0.726562 3.078125 -0.671875 3.390625 -0.671875 C 3.847656 -0.671875 4.210938 -0.757812 4.484375 -0.9375 C 4.765625 -1.125 4.953125 -1.359375 5.046875 -1.640625 L 5.96875 -1.390625 C 5.90625 -1.210938 5.8125 -1.035156 5.6875 -0.859375 C 5.570312 -0.679688 5.414062 -0.519531 5.21875 -0.375 C 5.019531 -0.226562 4.769531 -0.109375 4.46875 -0.015625 C 4.164062 0.078125 3.804688 0.125 3.390625 0.125 C 2.453125 0.125 1.738281 -0.15625 1.25 -0.71875 C 0.757812 -1.28125 0.515625 -2.113281 0.515625 -3.21875 C 0.515625 -3.8125 0.585938 -4.3125 0.734375 -4.71875 C 0.878906 -5.132812 1.082031 -5.46875 1.34375 -5.71875 C 1.601562 -5.976562 1.90625 -6.164062 2.25 -6.28125 C 2.59375 -6.394531 2.957031 -6.453125 3.34375 -6.453125 C 3.875 -6.453125 4.316406 -6.363281 4.671875 -6.1875 C 5.035156 -6.019531 5.320312 -5.785156 5.53125 -5.484375 C 5.75 -5.179688 5.90625 -4.820312 6 -4.40625 C 6.09375 -4 6.140625 -3.5625 6.140625 -3.09375 L 6.140625 -2.953125 Z M 5.046875 -3.75 C 4.992188 -4.425781 4.828125 -4.914062 4.546875 -5.21875 C 4.265625 -5.519531 3.859375 -5.671875 3.328125 -5.671875 C 3.148438 -5.671875 2.960938 -5.644531 2.765625 -5.59375 C 2.578125 -5.539062 2.398438 -5.441406 2.234375 -5.296875 C 2.078125 -5.148438 1.941406 -4.953125 1.828125 -4.703125 C 1.710938 -4.453125 1.644531 -4.132812 1.625 -3.75 Z M 5.046875 -3.75 \"/>\n",
       "</symbol>\n",
       "<symbol overflow=\"visible\" id=\"glyph1-3\">\n",
       "<path style=\"stroke:none;\" d=\"M 0.796875 -7.6875 L 0.796875 -8.703125 L 1.859375 -8.703125 L 1.859375 -7.6875 Z M 0.796875 0 L 0.796875 -6.34375 L 1.859375 -6.34375 L 1.859375 0 Z M 0.796875 0 \"/>\n",
       "</symbol>\n",
       "<symbol overflow=\"visible\" id=\"glyph1-4\">\n",
       "<path style=\"stroke:none;\" d=\"M 3.21875 2.484375 C 2.851562 2.484375 2.53125 2.445312 2.25 2.375 C 1.96875 2.300781 1.722656 2.195312 1.515625 2.0625 C 1.316406 1.925781 1.15625 1.757812 1.03125 1.5625 C 0.90625 1.375 0.816406 1.160156 0.765625 0.921875 L 1.828125 0.78125 C 1.898438 1.070312 2.054688 1.296875 2.296875 1.453125 C 2.535156 1.609375 2.847656 1.6875 3.234375 1.6875 C 3.472656 1.6875 3.691406 1.648438 3.890625 1.578125 C 4.085938 1.515625 4.253906 1.410156 4.390625 1.265625 C 4.523438 1.117188 4.628906 0.925781 4.703125 0.6875 C 4.773438 0.457031 4.8125 0.175781 4.8125 -0.15625 L 4.8125 -1.171875 C 4.726562 -1.015625 4.628906 -0.863281 4.515625 -0.71875 C 4.398438 -0.570312 4.257812 -0.441406 4.09375 -0.328125 C 3.925781 -0.210938 3.734375 -0.117188 3.515625 -0.046875 C 3.296875 0.015625 3.046875 0.046875 2.765625 0.046875 C 2.359375 0.046875 2.007812 -0.0195312 1.71875 -0.15625 C 1.4375 -0.289062 1.203125 -0.492188 1.015625 -0.765625 C 0.835938 -1.035156 0.707031 -1.367188 0.625 -1.765625 C 0.539062 -2.171875 0.5 -2.632812 0.5 -3.15625 C 0.5 -3.664062 0.539062 -4.125 0.625 -4.53125 C 0.707031 -4.9375 0.84375 -5.28125 1.03125 -5.5625 C 1.226562 -5.84375 1.476562 -6.054688 1.78125 -6.203125 C 2.082031 -6.359375 2.453125 -6.4375 2.890625 -6.4375 C 3.335938 -6.4375 3.722656 -6.332031 4.046875 -6.125 C 4.378906 -5.925781 4.632812 -5.632812 4.8125 -5.25 L 4.828125 -5.25 C 4.828125 -5.351562 4.828125 -5.460938 4.828125 -5.578125 C 4.835938 -5.703125 4.84375 -5.816406 4.84375 -5.921875 C 4.851562 -6.035156 4.863281 -6.128906 4.875 -6.203125 C 4.882812 -6.285156 4.894531 -6.332031 4.90625 -6.34375 L 5.90625 -6.34375 C 5.894531 -6.300781 5.890625 -6.238281 5.890625 -6.15625 C 5.890625 -6.070312 5.882812 -5.972656 5.875 -5.859375 C 5.875 -5.742188 5.867188 -5.613281 5.859375 -5.46875 C 5.859375 -5.320312 5.859375 -5.175781 5.859375 -5.03125 L 5.859375 -0.1875 C 5.859375 0.707031 5.640625 1.375 5.203125 1.8125 C 4.773438 2.257812 4.113281 2.484375 3.21875 2.484375 Z M 4.8125 -3.171875 C 4.8125 -3.609375 4.765625 -3.984375 4.671875 -4.296875 C 4.578125 -4.617188 4.453125 -4.878906 4.296875 -5.078125 C 4.140625 -5.273438 3.957031 -5.421875 3.75 -5.515625 C 3.550781 -5.609375 3.347656 -5.65625 3.140625 -5.65625 C 2.867188 -5.65625 2.632812 -5.609375 2.4375 -5.515625 C 2.25 -5.421875 2.09375 -5.269531 1.96875 -5.0625 C 1.84375 -4.863281 1.75 -4.609375 1.6875 -4.296875 C 1.625 -3.984375 1.59375 -3.609375 1.59375 -3.171875 C 1.59375 -2.710938 1.625 -2.328125 1.6875 -2.015625 C 1.75 -1.703125 1.84375 -1.453125 1.96875 -1.265625 C 2.09375 -1.078125 2.25 -0.941406 2.4375 -0.859375 C 2.625 -0.773438 2.851562 -0.734375 3.125 -0.734375 C 3.332031 -0.734375 3.535156 -0.773438 3.734375 -0.859375 C 3.941406 -0.953125 4.125 -1.097656 4.28125 -1.296875 C 4.445312 -1.492188 4.578125 -1.742188 4.671875 -2.046875 C 4.765625 -2.359375 4.8125 -2.734375 4.8125 -3.171875 Z M 4.8125 -3.171875 \"/>\n",
       "</symbol>\n",
       "<symbol overflow=\"visible\" id=\"glyph1-5\">\n",
       "<path style=\"stroke:none;\" d=\"M 1.859375 -5.25 C 1.972656 -5.46875 2.097656 -5.648438 2.234375 -5.796875 C 2.367188 -5.953125 2.519531 -6.078125 2.6875 -6.171875 C 2.851562 -6.273438 3.03125 -6.347656 3.21875 -6.390625 C 3.414062 -6.429688 3.640625 -6.453125 3.890625 -6.453125 C 4.296875 -6.453125 4.628906 -6.394531 4.890625 -6.28125 C 5.148438 -6.175781 5.351562 -6.023438 5.5 -5.828125 C 5.644531 -5.628906 5.742188 -5.394531 5.796875 -5.125 C 5.859375 -4.851562 5.890625 -4.550781 5.890625 -4.21875 L 5.890625 0 L 4.828125 0 L 4.828125 -4.015625 C 4.828125 -4.285156 4.8125 -4.519531 4.78125 -4.71875 C 4.75 -4.925781 4.6875 -5.097656 4.59375 -5.234375 C 4.5 -5.367188 4.363281 -5.46875 4.1875 -5.53125 C 4.019531 -5.601562 3.800781 -5.640625 3.53125 -5.640625 C 3.28125 -5.640625 3.050781 -5.59375 2.84375 -5.5 C 2.644531 -5.414062 2.472656 -5.289062 2.328125 -5.125 C 2.191406 -4.957031 2.082031 -4.753906 2 -4.515625 C 1.925781 -4.285156 1.890625 -4.023438 1.890625 -3.734375 L 1.890625 0 L 0.828125 0 L 0.828125 -8.703125 L 1.890625 -8.703125 L 1.890625 -6.4375 C 1.890625 -6.300781 1.882812 -6.171875 1.875 -6.046875 C 1.875 -5.921875 1.867188 -5.800781 1.859375 -5.6875 C 1.859375 -5.582031 1.851562 -5.488281 1.84375 -5.40625 C 1.84375 -5.332031 1.84375 -5.28125 1.84375 -5.25 Z M 1.859375 -5.25 \"/>\n",
       "</symbol>\n",
       "<symbol overflow=\"visible\" id=\"glyph1-6\">\n",
       "<path style=\"stroke:none;\" d=\"M 6.171875 -3.203125 C 6.171875 -0.984375 5.394531 0.125 3.84375 0.125 C 3.363281 0.125 2.960938 0.0351562 2.640625 -0.140625 C 2.316406 -0.316406 2.054688 -0.597656 1.859375 -0.984375 C 1.859375 -0.878906 1.851562 -0.769531 1.84375 -0.65625 C 1.832031 -0.550781 1.820312 -0.453125 1.8125 -0.359375 C 1.8125 -0.265625 1.804688 -0.1875 1.796875 -0.125 C 1.796875 -0.0625 1.796875 -0.0195312 1.796875 0 L 0.78125 0 C 0.78125 -0.03125 0.78125 -0.0859375 0.78125 -0.171875 C 0.789062 -0.265625 0.796875 -0.367188 0.796875 -0.484375 C 0.796875 -0.597656 0.796875 -0.722656 0.796875 -0.859375 C 0.804688 -1.003906 0.8125 -1.15625 0.8125 -1.3125 L 0.8125 -8.703125 L 1.859375 -8.703125 L 1.859375 -6.21875 C 1.859375 -6.101562 1.859375 -5.988281 1.859375 -5.875 C 1.859375 -5.769531 1.859375 -5.675781 1.859375 -5.59375 C 1.847656 -5.5 1.84375 -5.410156 1.84375 -5.328125 L 1.859375 -5.328125 C 2.054688 -5.734375 2.316406 -6.019531 2.640625 -6.1875 C 2.960938 -6.363281 3.363281 -6.453125 3.84375 -6.453125 C 4.644531 -6.453125 5.234375 -6.179688 5.609375 -5.640625 C 5.984375 -5.109375 6.171875 -4.296875 6.171875 -3.203125 Z M 5.0625 -3.171875 C 5.0625 -3.609375 5.035156 -3.984375 4.984375 -4.296875 C 4.929688 -4.609375 4.84375 -4.863281 4.71875 -5.0625 C 4.59375 -5.257812 4.4375 -5.40625 4.25 -5.5 C 4.0625 -5.59375 3.832031 -5.640625 3.5625 -5.640625 C 3.289062 -5.640625 3.046875 -5.59375 2.828125 -5.5 C 2.617188 -5.414062 2.441406 -5.273438 2.296875 -5.078125 C 2.160156 -4.878906 2.050781 -4.613281 1.96875 -4.28125 C 1.894531 -3.957031 1.859375 -3.5625 1.859375 -3.09375 C 1.859375 -2.644531 1.894531 -2.265625 1.96875 -1.953125 C 2.050781 -1.648438 2.160156 -1.398438 2.296875 -1.203125 C 2.441406 -1.015625 2.617188 -0.875 2.828125 -0.78125 C 3.035156 -0.695312 3.28125 -0.65625 3.5625 -0.65625 C 3.8125 -0.65625 4.03125 -0.703125 4.21875 -0.796875 C 4.40625 -0.890625 4.5625 -1.035156 4.6875 -1.234375 C 4.8125 -1.429688 4.90625 -1.6875 4.96875 -2 C 5.03125 -2.320312 5.0625 -2.710938 5.0625 -3.171875 Z M 5.0625 -3.171875 \"/>\n",
       "</symbol>\n",
       "<symbol overflow=\"visible\" id=\"glyph1-7\">\n",
       "<path style=\"stroke:none;\" d=\"M 6.171875 -3.171875 C 6.171875 -2.066406 5.925781 -1.238281 5.4375 -0.6875 C 4.945312 -0.144531 4.238281 0.125 3.3125 0.125 C 2.875 0.125 2.476562 0.0546875 2.125 -0.078125 C 1.78125 -0.210938 1.488281 -0.414062 1.25 -0.6875 C 1.007812 -0.96875 0.820312 -1.3125 0.6875 -1.71875 C 0.5625 -2.132812 0.5 -2.617188 0.5 -3.171875 C 0.5 -5.359375 1.445312 -6.453125 3.34375 -6.453125 C 3.832031 -6.453125 4.253906 -6.382812 4.609375 -6.25 C 4.972656 -6.113281 5.269531 -5.910156 5.5 -5.640625 C 5.726562 -5.367188 5.894531 -5.023438 6 -4.609375 C 6.113281 -4.203125 6.171875 -3.722656 6.171875 -3.171875 Z M 5.0625 -3.171875 C 5.0625 -3.671875 5.019531 -4.078125 4.9375 -4.390625 C 4.863281 -4.710938 4.753906 -4.96875 4.609375 -5.15625 C 4.460938 -5.351562 4.285156 -5.488281 4.078125 -5.5625 C 3.867188 -5.632812 3.628906 -5.671875 3.359375 -5.671875 C 3.085938 -5.671875 2.84375 -5.628906 2.625 -5.546875 C 2.414062 -5.472656 2.234375 -5.335938 2.078125 -5.140625 C 1.929688 -4.953125 1.816406 -4.695312 1.734375 -4.375 C 1.648438 -4.050781 1.609375 -3.648438 1.609375 -3.171875 C 1.609375 -2.679688 1.648438 -2.273438 1.734375 -1.953125 C 1.828125 -1.628906 1.945312 -1.367188 2.09375 -1.171875 C 2.25 -0.984375 2.425781 -0.847656 2.625 -0.765625 C 2.832031 -0.691406 3.054688 -0.65625 3.296875 -0.65625 C 3.566406 -0.65625 3.8125 -0.691406 4.03125 -0.765625 C 4.25 -0.847656 4.429688 -0.984375 4.578125 -1.171875 C 4.734375 -1.367188 4.851562 -1.628906 4.9375 -1.953125 C 5.019531 -2.273438 5.0625 -2.679688 5.0625 -3.171875 Z M 5.0625 -3.171875 \"/>\n",
       "</symbol>\n",
       "<symbol overflow=\"visible\" id=\"glyph1-8\">\n",
       "<path style=\"stroke:none;\" d=\"M 0.828125 0 L 0.828125 -4.859375 C 0.828125 -4.992188 0.828125 -5.128906 0.828125 -5.265625 C 0.828125 -5.410156 0.820312 -5.546875 0.8125 -5.671875 C 0.8125 -5.796875 0.804688 -5.914062 0.796875 -6.03125 C 0.796875 -6.144531 0.796875 -6.25 0.796875 -6.34375 L 1.796875 -6.34375 C 1.796875 -6.25 1.796875 -6.144531 1.796875 -6.03125 C 1.804688 -5.914062 1.8125 -5.796875 1.8125 -5.671875 C 1.820312 -5.554688 1.828125 -5.441406 1.828125 -5.328125 C 1.835938 -5.210938 1.84375 -5.117188 1.84375 -5.046875 L 1.859375 -5.046875 C 1.929688 -5.285156 2.007812 -5.492188 2.09375 -5.671875 C 2.1875 -5.847656 2.285156 -5.992188 2.390625 -6.109375 C 2.503906 -6.222656 2.640625 -6.304688 2.796875 -6.359375 C 2.953125 -6.421875 3.144531 -6.453125 3.375 -6.453125 C 3.457031 -6.453125 3.535156 -6.445312 3.609375 -6.4375 C 3.691406 -6.425781 3.753906 -6.414062 3.796875 -6.40625 L 3.796875 -5.4375 C 3.722656 -5.457031 3.640625 -5.46875 3.546875 -5.46875 C 3.453125 -5.476562 3.347656 -5.484375 3.234375 -5.484375 C 2.992188 -5.484375 2.785156 -5.425781 2.609375 -5.3125 C 2.441406 -5.207031 2.304688 -5.054688 2.203125 -4.859375 C 2.097656 -4.671875 2.019531 -4.441406 1.96875 -4.171875 C 1.914062 -3.910156 1.890625 -3.625 1.890625 -3.3125 L 1.890625 0 Z M 0.828125 0 \"/>\n",
       "</symbol>\n",
       "<symbol overflow=\"visible\" id=\"glyph1-9\">\n",
       "<path style=\"stroke:none;\" d=\"M 5.5625 -1.75 C 5.5625 -1.457031 5.503906 -1.191406 5.390625 -0.953125 C 5.273438 -0.722656 5.109375 -0.53125 4.890625 -0.375 C 4.671875 -0.21875 4.398438 -0.09375 4.078125 0 C 3.765625 0.0820312 3.40625 0.125 3 0.125 C 2.625 0.125 2.289062 0.09375 2 0.03125 C 1.707031 -0.0195312 1.445312 -0.109375 1.21875 -0.234375 C 1 -0.359375 0.8125 -0.523438 0.65625 -0.734375 C 0.507812 -0.941406 0.398438 -1.191406 0.328125 -1.484375 L 1.265625 -1.671875 C 1.359375 -1.328125 1.546875 -1.078125 1.828125 -0.921875 C 2.109375 -0.765625 2.5 -0.6875 3 -0.6875 C 3.21875 -0.6875 3.421875 -0.703125 3.609375 -0.734375 C 3.804688 -0.765625 3.972656 -0.816406 4.109375 -0.890625 C 4.242188 -0.972656 4.347656 -1.078125 4.421875 -1.203125 C 4.503906 -1.328125 4.546875 -1.484375 4.546875 -1.671875 C 4.546875 -1.859375 4.5 -2.015625 4.40625 -2.140625 C 4.3125 -2.265625 4.1875 -2.367188 4.03125 -2.453125 C 3.875 -2.535156 3.679688 -2.601562 3.453125 -2.65625 C 3.222656 -2.71875 2.972656 -2.785156 2.703125 -2.859375 C 2.441406 -2.929688 2.1875 -3.007812 1.9375 -3.09375 C 1.6875 -3.175781 1.460938 -3.28125 1.265625 -3.40625 C 1.066406 -3.539062 0.90625 -3.707031 0.78125 -3.90625 C 0.65625 -4.113281 0.59375 -4.367188 0.59375 -4.671875 C 0.59375 -5.242188 0.796875 -5.679688 1.203125 -5.984375 C 1.617188 -6.285156 2.21875 -6.4375 3 -6.4375 C 3.707031 -6.4375 4.265625 -6.3125 4.671875 -6.0625 C 5.085938 -5.820312 5.347656 -5.429688 5.453125 -4.890625 L 4.5 -4.765625 C 4.46875 -4.929688 4.40625 -5.066406 4.3125 -5.171875 C 4.21875 -5.285156 4.101562 -5.378906 3.96875 -5.453125 C 3.84375 -5.523438 3.695312 -5.570312 3.53125 -5.59375 C 3.363281 -5.625 3.1875 -5.640625 3 -5.640625 C 2.53125 -5.640625 2.179688 -5.566406 1.953125 -5.421875 C 1.722656 -5.273438 1.609375 -5.054688 1.609375 -4.765625 C 1.609375 -4.597656 1.648438 -4.457031 1.734375 -4.34375 C 1.816406 -4.226562 1.929688 -4.132812 2.078125 -4.0625 C 2.234375 -3.988281 2.414062 -3.921875 2.625 -3.859375 C 2.84375 -3.804688 3.078125 -3.75 3.328125 -3.6875 C 3.492188 -3.644531 3.664062 -3.597656 3.84375 -3.546875 C 4.019531 -3.492188 4.191406 -3.429688 4.359375 -3.359375 C 4.523438 -3.296875 4.679688 -3.21875 4.828125 -3.125 C 4.972656 -3.039062 5.097656 -2.929688 5.203125 -2.796875 C 5.316406 -2.671875 5.40625 -2.519531 5.46875 -2.34375 C 5.53125 -2.175781 5.5625 -1.976562 5.5625 -1.75 Z M 5.5625 -1.75 \"/>\n",
       "</symbol>\n",
       "<symbol overflow=\"visible\" id=\"glyph2-0\">\n",
       "<path style=\"stroke:none;\" d=\"M 0 -0.40625 L -8 -0.40625 L -8 -3.59375 L 0 -3.59375 Z M -0.40625 -0.796875 L -0.40625 -3.1875 L -7.59375 -3.1875 L -7.59375 -0.796875 Z M -0.40625 -0.796875 \"/>\n",
       "</symbol>\n",
       "<symbol overflow=\"visible\" id=\"glyph2-1\">\n",
       "<path style=\"stroke:none;\" d=\"M 0 -6.84375 L -2.421875 -5.890625 L -2.421875 -2.140625 L 0 -1.1875 L 0 -0.03125 L -8.25 -3.390625 L -8.25 -4.671875 L 0 -7.984375 Z M -6.015625 -4.5 C -6.171875 -4.4375 -6.328125 -4.375 -6.484375 -4.3125 C -6.648438 -4.257812 -6.796875 -4.210938 -6.921875 -4.171875 C -7.054688 -4.128906 -7.164062 -4.09375 -7.25 -4.0625 C -7.34375 -4.03125 -7.394531 -4.015625 -7.40625 -4.015625 C -7.394531 -4.003906 -7.34375 -3.984375 -7.25 -3.953125 C -7.15625 -3.929688 -7.039062 -3.894531 -6.90625 -3.84375 C -6.78125 -3.800781 -6.632812 -3.75 -6.46875 -3.6875 C -6.3125 -3.632812 -6.15625 -3.582031 -6 -3.53125 L -3.28125 -2.46875 L -3.28125 -5.5625 Z M -6.015625 -4.5 \"/>\n",
       "</symbol>\n",
       "<symbol overflow=\"visible\" id=\"glyph2-2\">\n",
       "<path style=\"stroke:none;\" d=\"M -3.203125 -1.609375 C -2.835938 -1.609375 -2.5 -1.632812 -2.1875 -1.6875 C -1.882812 -1.738281 -1.625 -1.828125 -1.40625 -1.953125 C -1.1875 -2.078125 -1.015625 -2.242188 -0.890625 -2.453125 C -0.773438 -2.660156 -0.71875 -2.914062 -0.71875 -3.21875 C -0.71875 -3.59375 -0.816406 -3.90625 -1.015625 -4.15625 C -1.222656 -4.40625 -1.535156 -4.5625 -1.953125 -4.625 L -1.890625 -5.6875 C -1.628906 -5.644531 -1.375 -5.566406 -1.125 -5.453125 C -0.882812 -5.335938 -0.671875 -5.175781 -0.484375 -4.96875 C -0.304688 -4.769531 -0.160156 -4.523438 -0.046875 -4.234375 C 0.0664062 -3.953125 0.125 -3.617188 0.125 -3.234375 C 0.125 -2.742188 0.0390625 -2.320312 -0.125 -1.96875 C -0.300781 -1.625 -0.535156 -1.34375 -0.828125 -1.125 C -1.117188 -0.90625 -1.460938 -0.75 -1.859375 -0.65625 C -2.265625 -0.5625 -2.703125 -0.515625 -3.171875 -0.515625 C -3.597656 -0.515625 -3.972656 -0.546875 -4.296875 -0.609375 C -4.628906 -0.679688 -4.914062 -0.78125 -5.15625 -0.90625 C -5.40625 -1.039062 -5.613281 -1.191406 -5.78125 -1.359375 C -5.945312 -1.535156 -6.078125 -1.722656 -6.171875 -1.921875 C -6.273438 -2.117188 -6.347656 -2.328125 -6.390625 -2.546875 C -6.429688 -2.773438 -6.453125 -3.003906 -6.453125 -3.234375 C -6.453125 -3.585938 -6.40625 -3.898438 -6.3125 -4.171875 C -6.21875 -4.453125 -6.082031 -4.691406 -5.90625 -4.890625 C -5.738281 -5.097656 -5.539062 -5.265625 -5.3125 -5.390625 C -5.082031 -5.515625 -4.832031 -5.601562 -4.5625 -5.65625 L -4.484375 -4.5625 C -4.835938 -4.507812 -5.113281 -4.367188 -5.3125 -4.140625 C -5.519531 -3.921875 -5.625 -3.609375 -5.625 -3.203125 C -5.625 -2.898438 -5.570312 -2.644531 -5.46875 -2.4375 C -5.375 -2.238281 -5.226562 -2.078125 -5.03125 -1.953125 C -4.832031 -1.828125 -4.578125 -1.738281 -4.265625 -1.6875 C -3.960938 -1.632812 -3.609375 -1.609375 -3.203125 -1.609375 Z M -3.203125 -1.609375 \"/>\n",
       "</symbol>\n",
       "<symbol overflow=\"visible\" id=\"glyph2-3\">\n",
       "<path style=\"stroke:none;\" d=\"M -6.34375 -1.84375 L -2.328125 -1.84375 C -2.015625 -1.84375 -1.753906 -1.863281 -1.546875 -1.90625 C -1.335938 -1.945312 -1.171875 -2.019531 -1.046875 -2.125 C -0.921875 -2.226562 -0.832031 -2.363281 -0.78125 -2.53125 C -0.726562 -2.695312 -0.703125 -2.898438 -0.703125 -3.140625 C -0.703125 -3.390625 -0.742188 -3.613281 -0.828125 -3.8125 C -0.921875 -4.019531 -1.046875 -4.191406 -1.203125 -4.328125 C -1.367188 -4.472656 -1.570312 -4.582031 -1.8125 -4.65625 C -2.0625 -4.738281 -2.347656 -4.78125 -2.671875 -4.78125 L -6.34375 -4.78125 L -6.34375 -5.84375 L -1.359375 -5.84375 C -1.222656 -5.84375 -1.082031 -5.84375 -0.9375 -5.84375 C -0.789062 -5.84375 -0.648438 -5.84375 -0.515625 -5.84375 C -0.390625 -5.851562 -0.28125 -5.859375 -0.1875 -5.859375 C -0.09375 -5.867188 -0.03125 -5.875 0 -5.875 L 0 -4.875 C -0.0195312 -4.875 -0.0703125 -4.867188 -0.15625 -4.859375 C -0.238281 -4.859375 -0.335938 -4.851562 -0.453125 -4.84375 C -0.566406 -4.84375 -0.679688 -4.835938 -0.796875 -4.828125 C -0.910156 -4.828125 -1.003906 -4.828125 -1.078125 -4.828125 L -1.078125 -4.8125 C -0.898438 -4.71875 -0.734375 -4.609375 -0.578125 -4.484375 C -0.429688 -4.359375 -0.304688 -4.21875 -0.203125 -4.0625 C -0.0976562 -3.90625 -0.0195312 -3.722656 0.03125 -3.515625 C 0.09375 -3.304688 0.125 -3.066406 0.125 -2.796875 C 0.125 -2.441406 0.0820312 -2.132812 0 -1.875 C -0.09375 -1.625 -0.226562 -1.414062 -0.40625 -1.25 C -0.59375 -1.09375 -0.828125 -0.972656 -1.109375 -0.890625 C -1.390625 -0.816406 -1.722656 -0.78125 -2.109375 -0.78125 L -6.34375 -0.78125 Z M -6.34375 -1.84375 \"/>\n",
       "</symbol>\n",
       "<symbol overflow=\"visible\" id=\"glyph2-4\">\n",
       "<path style=\"stroke:none;\" d=\"M 0 -0.828125 L -4.859375 -0.828125 C -4.992188 -0.828125 -5.128906 -0.828125 -5.265625 -0.828125 C -5.410156 -0.828125 -5.546875 -0.820312 -5.671875 -0.8125 C -5.796875 -0.8125 -5.914062 -0.804688 -6.03125 -0.796875 C -6.144531 -0.796875 -6.25 -0.796875 -6.34375 -0.796875 L -6.34375 -1.796875 C -6.25 -1.796875 -6.144531 -1.796875 -6.03125 -1.796875 C -5.914062 -1.804688 -5.796875 -1.8125 -5.671875 -1.8125 C -5.554688 -1.820312 -5.441406 -1.828125 -5.328125 -1.828125 C -5.210938 -1.835938 -5.117188 -1.84375 -5.046875 -1.84375 L -5.046875 -1.859375 C -5.285156 -1.929688 -5.492188 -2.007812 -5.671875 -2.09375 C -5.847656 -2.1875 -5.992188 -2.285156 -6.109375 -2.390625 C -6.222656 -2.503906 -6.304688 -2.640625 -6.359375 -2.796875 C -6.421875 -2.953125 -6.453125 -3.144531 -6.453125 -3.375 C -6.453125 -3.457031 -6.445312 -3.535156 -6.4375 -3.609375 C -6.425781 -3.691406 -6.414062 -3.753906 -6.40625 -3.796875 L -5.4375 -3.796875 C -5.457031 -3.722656 -5.46875 -3.640625 -5.46875 -3.546875 C -5.476562 -3.453125 -5.484375 -3.347656 -5.484375 -3.234375 C -5.484375 -2.992188 -5.425781 -2.785156 -5.3125 -2.609375 C -5.207031 -2.441406 -5.054688 -2.304688 -4.859375 -2.203125 C -4.671875 -2.097656 -4.441406 -2.019531 -4.171875 -1.96875 C -3.910156 -1.914062 -3.625 -1.890625 -3.3125 -1.890625 L 0 -1.890625 Z M 0 -0.828125 \"/>\n",
       "</symbol>\n",
       "<symbol overflow=\"visible\" id=\"glyph2-5\">\n",
       "<path style=\"stroke:none;\" d=\"M 0.125 -2.421875 C 0.125 -1.785156 -0.0390625 -1.304688 -0.375 -0.984375 C -0.71875 -0.671875 -1.179688 -0.515625 -1.765625 -0.515625 C -2.179688 -0.515625 -2.523438 -0.59375 -2.796875 -0.75 C -3.066406 -0.90625 -3.273438 -1.109375 -3.421875 -1.359375 C -3.578125 -1.617188 -3.679688 -1.910156 -3.734375 -2.234375 C -3.796875 -2.566406 -3.832031 -2.90625 -3.84375 -3.25 L -3.875 -4.671875 L -4.21875 -4.671875 C -4.476562 -4.671875 -4.695312 -4.640625 -4.875 -4.578125 C -5.0625 -4.523438 -5.210938 -4.441406 -5.328125 -4.328125 C -5.441406 -4.222656 -5.523438 -4.082031 -5.578125 -3.90625 C -5.628906 -3.738281 -5.65625 -3.539062 -5.65625 -3.3125 C -5.65625 -3.101562 -5.640625 -2.914062 -5.609375 -2.75 C -5.578125 -2.59375 -5.523438 -2.453125 -5.453125 -2.328125 C -5.378906 -2.210938 -5.273438 -2.113281 -5.140625 -2.03125 C -5.015625 -1.957031 -4.847656 -1.910156 -4.640625 -1.890625 L -4.75 -0.796875 C -5 -0.828125 -5.226562 -0.894531 -5.4375 -1 C -5.644531 -1.113281 -5.820312 -1.269531 -5.96875 -1.46875 C -6.125 -1.675781 -6.242188 -1.929688 -6.328125 -2.234375 C -6.410156 -2.535156 -6.453125 -2.898438 -6.453125 -3.328125 C -6.453125 -4.128906 -6.269531 -4.726562 -5.90625 -5.125 C -5.539062 -5.53125 -5.015625 -5.734375 -4.328125 -5.734375 L -1.59375 -5.734375 C -1.28125 -5.734375 -1.046875 -5.773438 -0.890625 -5.859375 C -0.734375 -5.941406 -0.65625 -6.097656 -0.65625 -6.328125 C -0.65625 -6.390625 -0.65625 -6.445312 -0.65625 -6.5 C -0.664062 -6.5625 -0.675781 -6.617188 -0.6875 -6.671875 L -0.03125 -6.671875 C 0 -6.535156 0.0195312 -6.398438 0.03125 -6.265625 C 0.0507812 -6.140625 0.0625 -6.003906 0.0625 -5.859375 C 0.0625 -5.660156 0.0351562 -5.488281 -0.015625 -5.34375 C -0.0664062 -5.207031 -0.144531 -5.09375 -0.25 -5 C -0.363281 -4.90625 -0.5 -4.832031 -0.65625 -4.78125 C -0.8125 -4.738281 -1 -4.710938 -1.21875 -4.703125 L -1.21875 -4.671875 C -1.007812 -4.554688 -0.820312 -4.429688 -0.65625 -4.296875 C -0.5 -4.160156 -0.363281 -4.003906 -0.25 -3.828125 C -0.132812 -3.648438 -0.046875 -3.445312 0.015625 -3.21875 C 0.0859375 -2.988281 0.125 -2.722656 0.125 -2.421875 Z M -0.671875 -2.671875 C -0.671875 -3.003906 -0.734375 -3.296875 -0.859375 -3.546875 C -0.984375 -3.796875 -1.140625 -4.003906 -1.328125 -4.171875 C -1.523438 -4.335938 -1.734375 -4.460938 -1.953125 -4.546875 C -2.179688 -4.628906 -2.398438 -4.671875 -2.609375 -4.671875 L -3.125 -4.671875 L -3.109375 -3.515625 C -3.097656 -3.253906 -3.078125 -3.007812 -3.046875 -2.78125 C -3.015625 -2.550781 -2.945312 -2.347656 -2.84375 -2.171875 C -2.75 -1.992188 -2.613281 -1.851562 -2.4375 -1.75 C -2.269531 -1.644531 -2.039062 -1.59375 -1.75 -1.59375 C -1.40625 -1.59375 -1.140625 -1.6875 -0.953125 -1.875 C -0.765625 -2.0625 -0.671875 -2.328125 -0.671875 -2.671875 Z M -0.671875 -2.671875 \"/>\n",
       "</symbol>\n",
       "<symbol overflow=\"visible\" id=\"glyph2-6\">\n",
       "<path style=\"stroke:none;\" d=\"M 0 -3.546875 C 0.382812 -3.390625 0.726562 -3.234375 1.03125 -3.078125 C 1.34375 -2.929688 1.601562 -2.757812 1.8125 -2.5625 C 2.03125 -2.375 2.195312 -2.160156 2.3125 -1.921875 C 2.425781 -1.691406 2.484375 -1.425781 2.484375 -1.125 C 2.484375 -0.988281 2.476562 -0.863281 2.46875 -0.75 C 2.46875 -0.632812 2.453125 -0.515625 2.421875 -0.390625 L 1.640625 -0.390625 C 1.648438 -0.460938 1.65625 -0.546875 1.65625 -0.640625 C 1.664062 -0.734375 1.671875 -0.816406 1.671875 -0.890625 C 1.671875 -1.191406 1.554688 -1.472656 1.328125 -1.734375 C 1.097656 -2.003906 0.726562 -2.238281 0.21875 -2.4375 L -0.03125 -2.546875 L -6.34375 -0.03125 L -6.34375 -1.15625 L -2.84375 -2.484375 C -2.726562 -2.523438 -2.582031 -2.578125 -2.40625 -2.640625 C -2.238281 -2.703125 -2.066406 -2.757812 -1.890625 -2.8125 C -1.710938 -2.875 -1.550781 -2.925781 -1.40625 -2.96875 C -1.269531 -3.019531 -1.1875 -3.050781 -1.15625 -3.0625 C -1.195312 -3.070312 -1.28125 -3.097656 -1.40625 -3.140625 C -1.53125 -3.191406 -1.671875 -3.242188 -1.828125 -3.296875 C -1.984375 -3.359375 -2.140625 -3.414062 -2.296875 -3.46875 C -2.460938 -3.53125 -2.601562 -3.582031 -2.71875 -3.625 L -6.34375 -4.859375 L -6.34375 -5.984375 Z M 0 -3.546875 \"/>\n",
       "</symbol>\n",
       "<symbol overflow=\"visible\" id=\"glyph3-0\">\n",
       "<path style=\"stroke:none;\" d=\"M 0.484375 0 L 0.484375 -9.609375 L 4.3125 -9.609375 L 4.3125 0 Z M 0.953125 -0.484375 L 3.828125 -0.484375 L 3.828125 -9.125 L 0.953125 -9.125 Z M 0.953125 -0.484375 \"/>\n",
       "</symbol>\n",
       "<symbol overflow=\"visible\" id=\"glyph3-1\">\n",
       "<path style=\"stroke:none;\" d=\"M 8.203125 0 L 7.078125 -2.890625 L 2.5625 -2.890625 L 1.421875 0 L 0.03125 0 L 4.078125 -9.90625 L 5.59375 -9.90625 L 9.578125 0 Z M 5.40625 -7.21875 C 5.332031 -7.40625 5.257812 -7.59375 5.1875 -7.78125 C 5.113281 -7.976562 5.050781 -8.15625 5 -8.3125 C 4.957031 -8.46875 4.914062 -8.597656 4.875 -8.703125 C 4.84375 -8.804688 4.820312 -8.867188 4.8125 -8.890625 C 4.800781 -8.867188 4.78125 -8.804688 4.75 -8.703125 C 4.71875 -8.597656 4.675781 -8.460938 4.625 -8.296875 C 4.570312 -8.140625 4.507812 -7.960938 4.4375 -7.765625 C 4.375 -7.578125 4.304688 -7.390625 4.234375 -7.203125 L 2.96875 -3.953125 L 6.671875 -3.953125 Z M 5.40625 -7.21875 \"/>\n",
       "</symbol>\n",
       "<symbol overflow=\"visible\" id=\"glyph3-2\">\n",
       "<path style=\"stroke:none;\" d=\"M 1.9375 -3.84375 C 1.9375 -3.40625 1.96875 -3.003906 2.03125 -2.640625 C 2.09375 -2.273438 2.195312 -1.957031 2.34375 -1.6875 C 2.5 -1.425781 2.695312 -1.222656 2.9375 -1.078125 C 3.1875 -0.929688 3.492188 -0.859375 3.859375 -0.859375 C 4.304688 -0.859375 4.679688 -0.976562 4.984375 -1.21875 C 5.285156 -1.46875 5.472656 -1.84375 5.546875 -2.34375 L 6.828125 -2.265625 C 6.785156 -1.953125 6.691406 -1.648438 6.546875 -1.359375 C 6.410156 -1.066406 6.21875 -0.8125 5.96875 -0.59375 C 5.726562 -0.375 5.4375 -0.195312 5.09375 -0.0625 C 4.75 0.0703125 4.347656 0.140625 3.890625 0.140625 C 3.296875 0.140625 2.789062 0.0390625 2.375 -0.15625 C 1.957031 -0.363281 1.617188 -0.644531 1.359375 -1 C 1.097656 -1.351562 0.90625 -1.769531 0.78125 -2.25 C 0.664062 -2.726562 0.609375 -3.25 0.609375 -3.8125 C 0.609375 -4.320312 0.648438 -4.769531 0.734375 -5.15625 C 0.816406 -5.550781 0.9375 -5.894531 1.09375 -6.1875 C 1.25 -6.488281 1.425781 -6.738281 1.625 -6.9375 C 1.832031 -7.132812 2.054688 -7.289062 2.296875 -7.40625 C 2.546875 -7.53125 2.800781 -7.617188 3.0625 -7.671875 C 3.332031 -7.722656 3.601562 -7.75 3.875 -7.75 C 4.300781 -7.75 4.679688 -7.691406 5.015625 -7.578125 C 5.347656 -7.460938 5.632812 -7.300781 5.875 -7.09375 C 6.113281 -6.882812 6.304688 -6.640625 6.453125 -6.359375 C 6.609375 -6.085938 6.71875 -5.796875 6.78125 -5.484375 L 5.484375 -5.375 C 5.410156 -5.800781 5.238281 -6.140625 4.96875 -6.390625 C 4.707031 -6.640625 4.332031 -6.765625 3.84375 -6.765625 C 3.476562 -6.765625 3.175781 -6.703125 2.9375 -6.578125 C 2.695312 -6.460938 2.5 -6.28125 2.34375 -6.03125 C 2.195312 -5.789062 2.09375 -5.488281 2.03125 -5.125 C 1.96875 -4.757812 1.9375 -4.332031 1.9375 -3.84375 Z M 1.9375 -3.84375 \"/>\n",
       "</symbol>\n",
       "<symbol overflow=\"visible\" id=\"glyph3-3\">\n",
       "<path style=\"stroke:none;\" d=\"M 2.203125 -7.609375 L 2.203125 -2.78125 C 2.203125 -2.414062 2.226562 -2.109375 2.28125 -1.859375 C 2.34375 -1.609375 2.429688 -1.40625 2.546875 -1.25 C 2.671875 -1.101562 2.832031 -1 3.03125 -0.9375 C 3.226562 -0.875 3.476562 -0.84375 3.78125 -0.84375 C 4.082031 -0.84375 4.351562 -0.894531 4.59375 -1 C 4.832031 -1.101562 5.035156 -1.253906 5.203125 -1.453125 C 5.378906 -1.648438 5.515625 -1.894531 5.609375 -2.1875 C 5.703125 -2.476562 5.75 -2.816406 5.75 -3.203125 L 5.75 -7.609375 L 7.015625 -7.609375 L 7.015625 -1.625 C 7.015625 -1.46875 7.015625 -1.300781 7.015625 -1.125 C 7.015625 -0.945312 7.015625 -0.78125 7.015625 -0.625 C 7.023438 -0.46875 7.03125 -0.332031 7.03125 -0.21875 C 7.039062 -0.101562 7.050781 -0.03125 7.0625 0 L 5.859375 0 C 5.859375 -0.0195312 5.851562 -0.0820312 5.84375 -0.1875 C 5.84375 -0.289062 5.835938 -0.410156 5.828125 -0.546875 C 5.816406 -0.679688 5.804688 -0.816406 5.796875 -0.953125 C 5.796875 -1.085938 5.796875 -1.203125 5.796875 -1.296875 L 5.78125 -1.296875 C 5.65625 -1.078125 5.519531 -0.878906 5.375 -0.703125 C 5.226562 -0.523438 5.0625 -0.375 4.875 -0.25 C 4.6875 -0.125 4.46875 -0.03125 4.21875 0.03125 C 3.96875 0.101562 3.675781 0.140625 3.34375 0.140625 C 2.925781 0.140625 2.5625 0.0859375 2.25 -0.015625 C 1.945312 -0.117188 1.695312 -0.273438 1.5 -0.484375 C 1.300781 -0.703125 1.15625 -0.976562 1.0625 -1.3125 C 0.976562 -1.65625 0.9375 -2.066406 0.9375 -2.546875 L 0.9375 -7.609375 Z M 2.203125 -7.609375 \"/>\n",
       "</symbol>\n",
       "<symbol overflow=\"visible\" id=\"glyph3-4\">\n",
       "<path style=\"stroke:none;\" d=\"M 1 0 L 1 -5.84375 C 1 -6 0.992188 -6.160156 0.984375 -6.328125 C 0.984375 -6.492188 0.984375 -6.65625 0.984375 -6.8125 C 0.984375 -6.96875 0.976562 -7.113281 0.96875 -7.25 C 0.96875 -7.382812 0.960938 -7.503906 0.953125 -7.609375 L 2.15625 -7.609375 C 2.15625 -7.503906 2.160156 -7.378906 2.171875 -7.234375 C 2.179688 -7.097656 2.1875 -6.957031 2.1875 -6.8125 C 2.195312 -6.664062 2.203125 -6.523438 2.203125 -6.390625 C 2.203125 -6.265625 2.203125 -6.15625 2.203125 -6.0625 L 2.234375 -6.0625 C 2.328125 -6.351562 2.421875 -6.601562 2.515625 -6.8125 C 2.617188 -7.019531 2.738281 -7.191406 2.875 -7.328125 C 3.007812 -7.472656 3.171875 -7.578125 3.359375 -7.640625 C 3.546875 -7.710938 3.773438 -7.75 4.046875 -7.75 C 4.148438 -7.75 4.25 -7.738281 4.34375 -7.71875 C 4.4375 -7.707031 4.507812 -7.695312 4.5625 -7.6875 L 4.5625 -6.515625 C 4.476562 -6.546875 4.378906 -6.566406 4.265625 -6.578125 C 4.148438 -6.585938 4.023438 -6.59375 3.890625 -6.59375 C 3.597656 -6.59375 3.347656 -6.523438 3.140625 -6.390625 C 2.929688 -6.265625 2.765625 -6.082031 2.640625 -5.84375 C 2.515625 -5.613281 2.421875 -5.335938 2.359375 -5.015625 C 2.296875 -4.691406 2.265625 -4.34375 2.265625 -3.96875 L 2.265625 0 Z M 1 0 \"/>\n",
       "</symbol>\n",
       "<symbol overflow=\"visible\" id=\"glyph3-5\">\n",
       "<path style=\"stroke:none;\" d=\"M 2.90625 0.140625 C 2.144531 0.140625 1.570312 -0.0546875 1.1875 -0.453125 C 0.800781 -0.859375 0.609375 -1.414062 0.609375 -2.125 C 0.609375 -2.625 0.703125 -3.035156 0.890625 -3.359375 C 1.085938 -3.679688 1.335938 -3.929688 1.640625 -4.109375 C 1.953125 -4.296875 2.300781 -4.421875 2.6875 -4.484375 C 3.082031 -4.554688 3.484375 -4.597656 3.890625 -4.609375 L 5.609375 -4.640625 L 5.609375 -5.0625 C 5.609375 -5.375 5.570312 -5.640625 5.5 -5.859375 C 5.4375 -6.078125 5.335938 -6.253906 5.203125 -6.390625 C 5.066406 -6.523438 4.894531 -6.625 4.6875 -6.6875 C 4.488281 -6.75 4.25 -6.78125 3.96875 -6.78125 C 3.726562 -6.78125 3.507812 -6.765625 3.3125 -6.734375 C 3.113281 -6.703125 2.941406 -6.640625 2.796875 -6.546875 C 2.648438 -6.453125 2.53125 -6.328125 2.4375 -6.171875 C 2.351562 -6.015625 2.296875 -5.816406 2.265625 -5.578125 L 0.953125 -5.703125 C 0.992188 -5.992188 1.078125 -6.265625 1.203125 -6.515625 C 1.335938 -6.773438 1.523438 -6.992188 1.765625 -7.171875 C 2.015625 -7.359375 2.320312 -7.5 2.6875 -7.59375 C 3.050781 -7.695312 3.488281 -7.75 4 -7.75 C 4.957031 -7.75 5.675781 -7.53125 6.15625 -7.09375 C 6.644531 -6.65625 6.890625 -6.019531 6.890625 -5.1875 L 6.890625 -1.90625 C 6.890625 -1.53125 6.9375 -1.25 7.03125 -1.0625 C 7.132812 -0.875 7.320312 -0.78125 7.59375 -0.78125 C 7.664062 -0.78125 7.734375 -0.785156 7.796875 -0.796875 C 7.867188 -0.804688 7.941406 -0.816406 8.015625 -0.828125 L 8.015625 -0.046875 C 7.847656 -0.00390625 7.6875 0.0234375 7.53125 0.046875 C 7.375 0.0664062 7.207031 0.078125 7.03125 0.078125 C 6.789062 0.078125 6.582031 0.046875 6.40625 -0.015625 C 6.238281 -0.0859375 6.101562 -0.1875 6 -0.3125 C 5.894531 -0.4375 5.8125 -0.59375 5.75 -0.78125 C 5.695312 -0.976562 5.664062 -1.203125 5.65625 -1.453125 L 5.609375 -1.453125 C 5.472656 -1.210938 5.320312 -0.992188 5.15625 -0.796875 C 5 -0.597656 4.8125 -0.425781 4.59375 -0.28125 C 4.375 -0.144531 4.128906 -0.0390625 3.859375 0.03125 C 3.585938 0.101562 3.269531 0.140625 2.90625 0.140625 Z M 3.203125 -0.8125 C 3.609375 -0.8125 3.960938 -0.882812 4.265625 -1.03125 C 4.566406 -1.175781 4.816406 -1.363281 5.015625 -1.59375 C 5.210938 -1.820312 5.359375 -2.070312 5.453125 -2.34375 C 5.554688 -2.613281 5.609375 -2.875 5.609375 -3.125 L 5.609375 -3.75 L 4.21875 -3.734375 C 3.90625 -3.722656 3.609375 -3.695312 3.328125 -3.65625 C 3.054688 -3.625 2.8125 -3.546875 2.59375 -3.421875 C 2.382812 -3.304688 2.21875 -3.140625 2.09375 -2.921875 C 1.96875 -2.710938 1.90625 -2.441406 1.90625 -2.109375 C 1.90625 -1.691406 2.015625 -1.367188 2.234375 -1.140625 C 2.460938 -0.921875 2.785156 -0.8125 3.203125 -0.8125 Z M 3.203125 -0.8125 \"/>\n",
       "</symbol>\n",
       "<symbol overflow=\"visible\" id=\"glyph3-6\">\n",
       "<path style=\"stroke:none;\" d=\"M 4.25 0 C 4.070312 0.457031 3.890625 0.867188 3.703125 1.234375 C 3.515625 1.609375 3.304688 1.925781 3.078125 2.1875 C 2.847656 2.445312 2.59375 2.644531 2.3125 2.78125 C 2.03125 2.914062 1.707031 2.984375 1.34375 2.984375 C 1.1875 2.984375 1.039062 2.976562 0.90625 2.96875 C 0.769531 2.96875 0.625 2.945312 0.46875 2.90625 L 0.46875 1.96875 C 0.5625 1.976562 0.660156 1.984375 0.765625 1.984375 C 0.878906 1.992188 0.976562 2 1.0625 2 C 1.4375 2 1.78125 1.859375 2.09375 1.578125 C 2.414062 1.304688 2.695312 0.867188 2.9375 0.265625 L 3.046875 -0.03125 L 0.03125 -7.609375 L 1.390625 -7.609375 L 2.984375 -3.40625 C 3.035156 -3.28125 3.097656 -3.109375 3.171875 -2.890625 C 3.242188 -2.679688 3.316406 -2.472656 3.390625 -2.265625 C 3.460938 -2.054688 3.523438 -1.863281 3.578125 -1.6875 C 3.640625 -1.519531 3.671875 -1.414062 3.671875 -1.375 C 3.691406 -1.425781 3.726562 -1.523438 3.78125 -1.671875 C 3.832031 -1.828125 3.890625 -2 3.953125 -2.1875 C 4.023438 -2.375 4.097656 -2.5625 4.171875 -2.75 C 4.242188 -2.945312 4.300781 -3.117188 4.34375 -3.265625 L 5.84375 -7.609375 L 7.171875 -7.609375 Z M 4.25 0 \"/>\n",
       "</symbol>\n",
       "<symbol overflow=\"visible\" id=\"glyph3-7\">\n",
       "<path style=\"stroke:none;\" d=\"\"/>\n",
       "</symbol>\n",
       "<symbol overflow=\"visible\" id=\"glyph3-8\">\n",
       "<path style=\"stroke:none;\" d=\"M 7.40625 -3.8125 C 7.40625 -2.476562 7.113281 -1.484375 6.53125 -0.828125 C 5.945312 -0.179688 5.09375 0.140625 3.96875 0.140625 C 3.4375 0.140625 2.960938 0.0625 2.546875 -0.09375 C 2.128906 -0.257812 1.773438 -0.503906 1.484375 -0.828125 C 1.203125 -1.160156 0.984375 -1.570312 0.828125 -2.0625 C 0.679688 -2.5625 0.609375 -3.144531 0.609375 -3.8125 C 0.609375 -6.4375 1.742188 -7.75 4.015625 -7.75 C 4.609375 -7.75 5.117188 -7.664062 5.546875 -7.5 C 5.972656 -7.34375 6.320312 -7.097656 6.59375 -6.765625 C 6.875 -6.441406 7.078125 -6.03125 7.203125 -5.53125 C 7.335938 -5.039062 7.40625 -4.46875 7.40625 -3.8125 Z M 6.078125 -3.8125 C 6.078125 -4.40625 6.03125 -4.894531 5.9375 -5.28125 C 5.84375 -5.664062 5.707031 -5.972656 5.53125 -6.203125 C 5.363281 -6.429688 5.148438 -6.585938 4.890625 -6.671875 C 4.640625 -6.765625 4.351562 -6.8125 4.03125 -6.8125 C 3.707031 -6.8125 3.414062 -6.765625 3.15625 -6.671875 C 2.894531 -6.578125 2.671875 -6.410156 2.484375 -6.171875 C 2.304688 -5.941406 2.171875 -5.632812 2.078125 -5.25 C 1.984375 -4.863281 1.9375 -4.382812 1.9375 -3.8125 C 1.9375 -3.21875 1.988281 -2.726562 2.09375 -2.34375 C 2.195312 -1.957031 2.335938 -1.648438 2.515625 -1.421875 C 2.691406 -1.191406 2.90625 -1.03125 3.15625 -0.9375 C 3.40625 -0.84375 3.671875 -0.796875 3.953125 -0.796875 C 4.285156 -0.796875 4.582031 -0.835938 4.84375 -0.921875 C 5.101562 -1.015625 5.320312 -1.175781 5.5 -1.40625 C 5.6875 -1.644531 5.828125 -1.957031 5.921875 -2.34375 C 6.023438 -2.726562 6.078125 -3.21875 6.078125 -3.8125 Z M 6.078125 -3.8125 \"/>\n",
       "</symbol>\n",
       "<symbol overflow=\"visible\" id=\"glyph3-9\">\n",
       "<path style=\"stroke:none;\" d=\"M 2.546875 -6.6875 L 2.546875 0 L 1.265625 0 L 1.265625 -6.6875 L 0.203125 -6.6875 L 0.203125 -7.609375 L 1.265625 -7.609375 L 1.265625 -8.46875 C 1.265625 -8.75 1.289062 -9.003906 1.34375 -9.234375 C 1.394531 -9.472656 1.488281 -9.679688 1.625 -9.859375 C 1.769531 -10.035156 1.960938 -10.171875 2.203125 -10.265625 C 2.441406 -10.367188 2.75 -10.421875 3.125 -10.421875 C 3.28125 -10.421875 3.4375 -10.410156 3.59375 -10.390625 C 3.757812 -10.378906 3.90625 -10.363281 4.03125 -10.34375 L 4.03125 -9.375 C 3.945312 -9.382812 3.851562 -9.394531 3.75 -9.40625 C 3.644531 -9.425781 3.546875 -9.4375 3.453125 -9.4375 C 3.265625 -9.4375 3.113281 -9.410156 3 -9.359375 C 2.882812 -9.304688 2.789062 -9.226562 2.71875 -9.125 C 2.644531 -9.03125 2.597656 -8.910156 2.578125 -8.765625 C 2.554688 -8.628906 2.546875 -8.472656 2.546875 -8.296875 L 2.546875 -7.609375 L 4.03125 -7.609375 L 4.03125 -6.6875 Z M 2.546875 -6.6875 \"/>\n",
       "</symbol>\n",
       "<symbol overflow=\"visible\" id=\"glyph3-10\">\n",
       "<path style=\"stroke:none;\" d=\"M 3.890625 -0.0625 C 3.703125 -0.0078125 3.507812 0.03125 3.3125 0.0625 C 3.113281 0.09375 2.878906 0.109375 2.609375 0.109375 C 1.597656 0.109375 1.09375 -0.460938 1.09375 -1.609375 L 1.09375 -6.6875 L 0.21875 -6.6875 L 0.21875 -7.609375 L 1.140625 -7.609375 L 1.515625 -9.3125 L 2.359375 -9.3125 L 2.359375 -7.609375 L 3.765625 -7.609375 L 3.765625 -6.6875 L 2.359375 -6.6875 L 2.359375 -1.890625 C 2.359375 -1.523438 2.414062 -1.265625 2.53125 -1.109375 C 2.65625 -0.960938 2.867188 -0.890625 3.171875 -0.890625 C 3.285156 -0.890625 3.398438 -0.898438 3.515625 -0.921875 C 3.628906 -0.941406 3.753906 -0.960938 3.890625 -0.984375 Z M 3.890625 -0.0625 \"/>\n",
       "</symbol>\n",
       "<symbol overflow=\"visible\" id=\"glyph3-11\">\n",
       "<path style=\"stroke:none;\" d=\"M 2.234375 -6.3125 C 2.367188 -6.570312 2.519531 -6.789062 2.6875 -6.96875 C 2.851562 -7.144531 3.035156 -7.289062 3.234375 -7.40625 C 3.429688 -7.53125 3.644531 -7.617188 3.875 -7.671875 C 4.113281 -7.722656 4.375 -7.75 4.65625 -7.75 C 5.144531 -7.75 5.546875 -7.679688 5.859375 -7.546875 C 6.171875 -7.421875 6.414062 -7.238281 6.59375 -7 C 6.78125 -6.757812 6.90625 -6.472656 6.96875 -6.140625 C 7.039062 -5.816406 7.078125 -5.460938 7.078125 -5.078125 L 7.078125 0 L 5.796875 0 L 5.796875 -4.828125 C 5.796875 -5.148438 5.773438 -5.429688 5.734375 -5.671875 C 5.703125 -5.921875 5.628906 -6.125 5.515625 -6.28125 C 5.398438 -6.445312 5.238281 -6.570312 5.03125 -6.65625 C 4.832031 -6.738281 4.566406 -6.78125 4.234375 -6.78125 C 3.929688 -6.78125 3.660156 -6.722656 3.421875 -6.609375 C 3.179688 -6.503906 2.972656 -6.351562 2.796875 -6.15625 C 2.628906 -5.957031 2.5 -5.71875 2.40625 -5.4375 C 2.3125 -5.15625 2.265625 -4.835938 2.265625 -4.484375 L 2.265625 0 L 1 0 L 1 -10.4375 L 2.265625 -10.4375 L 2.265625 -7.71875 C 2.265625 -7.5625 2.257812 -7.40625 2.25 -7.25 C 2.25 -7.101562 2.242188 -6.960938 2.234375 -6.828125 C 2.234375 -6.703125 2.226562 -6.59375 2.21875 -6.5 C 2.21875 -6.40625 2.210938 -6.34375 2.203125 -6.3125 Z M 2.234375 -6.3125 \"/>\n",
       "</symbol>\n",
       "<symbol overflow=\"visible\" id=\"glyph3-12\">\n",
       "<path style=\"stroke:none;\" d=\"M 1.9375 -3.53125 C 1.9375 -3.132812 1.976562 -2.769531 2.0625 -2.4375 C 2.144531 -2.101562 2.269531 -1.8125 2.4375 -1.5625 C 2.613281 -1.320312 2.832031 -1.132812 3.09375 -1 C 3.363281 -0.875 3.6875 -0.8125 4.0625 -0.8125 C 4.613281 -0.8125 5.050781 -0.921875 5.375 -1.140625 C 5.707031 -1.359375 5.9375 -1.640625 6.0625 -1.984375 L 7.171875 -1.65625 C 7.085938 -1.445312 6.972656 -1.234375 6.828125 -1.015625 C 6.691406 -0.804688 6.503906 -0.613281 6.265625 -0.4375 C 6.023438 -0.269531 5.722656 -0.128906 5.359375 -0.015625 C 5.003906 0.0859375 4.570312 0.140625 4.0625 0.140625 C 2.9375 0.140625 2.078125 -0.191406 1.484375 -0.859375 C 0.898438 -1.535156 0.609375 -2.535156 0.609375 -3.859375 C 0.609375 -4.566406 0.695312 -5.164062 0.875 -5.65625 C 1.050781 -6.15625 1.296875 -6.5625 1.609375 -6.875 C 1.921875 -7.1875 2.28125 -7.410156 2.6875 -7.546875 C 3.101562 -7.679688 3.546875 -7.75 4.015625 -7.75 C 4.648438 -7.75 5.179688 -7.644531 5.609375 -7.4375 C 6.046875 -7.226562 6.394531 -6.941406 6.65625 -6.578125 C 6.914062 -6.222656 7.097656 -5.796875 7.203125 -5.296875 C 7.316406 -4.804688 7.375 -4.273438 7.375 -3.703125 L 7.375 -3.53125 Z M 6.0625 -4.515625 C 5.988281 -5.316406 5.78125 -5.898438 5.4375 -6.265625 C 5.101562 -6.628906 4.625 -6.8125 4 -6.8125 C 3.78125 -6.8125 3.554688 -6.773438 3.328125 -6.703125 C 3.097656 -6.640625 2.882812 -6.519531 2.6875 -6.34375 C 2.488281 -6.175781 2.320312 -5.941406 2.1875 -5.640625 C 2.050781 -5.347656 1.972656 -4.972656 1.953125 -4.515625 Z M 6.0625 -4.515625 \"/>\n",
       "</symbol>\n",
       "<symbol overflow=\"visible\" id=\"glyph3-13\">\n",
       "<path style=\"stroke:none;\" d=\"M 0.96875 0 L 0.96875 -10.4375 L 2.234375 -10.4375 L 2.234375 0 Z M 0.96875 0 \"/>\n",
       "</symbol>\n",
       "<symbol overflow=\"visible\" id=\"glyph3-14\">\n",
       "<path style=\"stroke:none;\" d=\"M 6.6875 -2.109375 C 6.6875 -1.742188 6.613281 -1.421875 6.46875 -1.140625 C 6.332031 -0.867188 6.132812 -0.632812 5.875 -0.4375 C 5.613281 -0.25 5.289062 -0.101562 4.90625 0 C 4.519531 0.09375 4.082031 0.140625 3.59375 0.140625 C 3.15625 0.140625 2.757812 0.101562 2.40625 0.03125 C 2.050781 -0.03125 1.738281 -0.132812 1.46875 -0.28125 C 1.195312 -0.4375 0.972656 -0.632812 0.796875 -0.875 C 0.617188 -1.125 0.488281 -1.425781 0.40625 -1.78125 L 1.515625 -2 C 1.628906 -1.59375 1.851562 -1.296875 2.1875 -1.109375 C 2.519531 -0.921875 2.988281 -0.828125 3.59375 -0.828125 C 3.863281 -0.828125 4.113281 -0.84375 4.34375 -0.875 C 4.570312 -0.914062 4.765625 -0.976562 4.921875 -1.0625 C 5.085938 -1.15625 5.21875 -1.28125 5.3125 -1.4375 C 5.40625 -1.59375 5.453125 -1.78125 5.453125 -2 C 5.453125 -2.226562 5.394531 -2.414062 5.28125 -2.5625 C 5.175781 -2.71875 5.023438 -2.84375 4.828125 -2.9375 C 4.640625 -3.039062 4.410156 -3.128906 4.140625 -3.203125 C 3.867188 -3.273438 3.566406 -3.351562 3.234375 -3.4375 C 2.929688 -3.519531 2.628906 -3.609375 2.328125 -3.703125 C 2.023438 -3.804688 1.753906 -3.9375 1.515625 -4.09375 C 1.273438 -4.257812 1.078125 -4.460938 0.921875 -4.703125 C 0.773438 -4.941406 0.703125 -5.238281 0.703125 -5.59375 C 0.703125 -6.289062 0.945312 -6.820312 1.4375 -7.1875 C 1.9375 -7.550781 2.660156 -7.734375 3.609375 -7.734375 C 4.453125 -7.734375 5.117188 -7.582031 5.609375 -7.28125 C 6.109375 -6.988281 6.421875 -6.515625 6.546875 -5.859375 L 5.40625 -5.71875 C 5.363281 -5.914062 5.285156 -6.082031 5.171875 -6.21875 C 5.066406 -6.351562 4.929688 -6.460938 4.765625 -6.546875 C 4.609375 -6.628906 4.429688 -6.6875 4.234375 -6.71875 C 4.035156 -6.757812 3.828125 -6.78125 3.609375 -6.78125 C 3.035156 -6.78125 2.613281 -6.691406 2.34375 -6.515625 C 2.070312 -6.335938 1.9375 -6.070312 1.9375 -5.71875 C 1.9375 -5.519531 1.984375 -5.351562 2.078125 -5.21875 C 2.179688 -5.082031 2.320312 -4.96875 2.5 -4.875 C 2.6875 -4.78125 2.90625 -4.695312 3.15625 -4.625 C 3.40625 -4.5625 3.6875 -4.492188 4 -4.421875 C 4.195312 -4.367188 4.398438 -4.3125 4.609375 -4.25 C 4.828125 -4.195312 5.035156 -4.128906 5.234375 -4.046875 C 5.429688 -3.960938 5.617188 -3.863281 5.796875 -3.75 C 5.972656 -3.644531 6.125 -3.515625 6.25 -3.359375 C 6.382812 -3.203125 6.488281 -3.019531 6.5625 -2.8125 C 6.644531 -2.613281 6.6875 -2.378906 6.6875 -2.109375 Z M 6.6875 -2.109375 \"/>\n",
       "</symbol>\n",
       "<symbol overflow=\"visible\" id=\"glyph3-15\">\n",
       "<path style=\"stroke:none;\" d=\"M 0.96875 -9.234375 L 0.96875 -10.4375 L 2.234375 -10.4375 L 2.234375 -9.234375 Z M 0.96875 0 L 0.96875 -7.609375 L 2.234375 -7.609375 L 2.234375 0 Z M 0.96875 0 \"/>\n",
       "</symbol>\n",
       "<symbol overflow=\"visible\" id=\"glyph3-16\">\n",
       "<path style=\"stroke:none;\" d=\"M 5.796875 0 L 5.796875 -4.828125 C 5.796875 -5.191406 5.769531 -5.5 5.71875 -5.75 C 5.664062 -6 5.578125 -6.195312 5.453125 -6.34375 C 5.335938 -6.5 5.175781 -6.609375 4.96875 -6.671875 C 4.769531 -6.742188 4.523438 -6.78125 4.234375 -6.78125 C 3.929688 -6.78125 3.660156 -6.722656 3.421875 -6.609375 C 3.179688 -6.503906 2.972656 -6.351562 2.796875 -6.15625 C 2.628906 -5.957031 2.5 -5.710938 2.40625 -5.421875 C 2.3125 -5.128906 2.265625 -4.789062 2.265625 -4.40625 L 2.265625 0 L 1 0 L 1 -5.984375 C 1 -6.140625 0.992188 -6.304688 0.984375 -6.484375 C 0.984375 -6.660156 0.984375 -6.828125 0.984375 -6.984375 C 0.984375 -7.140625 0.976562 -7.273438 0.96875 -7.390625 C 0.96875 -7.503906 0.960938 -7.578125 0.953125 -7.609375 L 2.15625 -7.609375 C 2.15625 -7.585938 2.15625 -7.523438 2.15625 -7.421875 C 2.164062 -7.316406 2.171875 -7.195312 2.171875 -7.0625 C 2.179688 -6.925781 2.1875 -6.789062 2.1875 -6.65625 C 2.195312 -6.519531 2.203125 -6.40625 2.203125 -6.3125 L 2.234375 -6.3125 C 2.347656 -6.53125 2.476562 -6.726562 2.625 -6.90625 C 2.769531 -7.082031 2.9375 -7.234375 3.125 -7.359375 C 3.320312 -7.484375 3.546875 -7.578125 3.796875 -7.640625 C 4.046875 -7.710938 4.332031 -7.75 4.65625 -7.75 C 5.082031 -7.75 5.445312 -7.695312 5.75 -7.59375 C 6.0625 -7.488281 6.3125 -7.328125 6.5 -7.109375 C 6.695312 -6.898438 6.84375 -6.625 6.9375 -6.28125 C 7.03125 -5.945312 7.078125 -5.546875 7.078125 -5.078125 L 7.078125 0 Z M 5.796875 0 \"/>\n",
       "</symbol>\n",
       "<symbol overflow=\"visible\" id=\"glyph3-17\">\n",
       "<path style=\"stroke:none;\" d=\"M 5.40625 0 L 5.40625 -4.828125 C 5.40625 -5.191406 5.378906 -5.5 5.328125 -5.75 C 5.285156 -6 5.207031 -6.195312 5.09375 -6.34375 C 4.988281 -6.5 4.84375 -6.609375 4.65625 -6.671875 C 4.476562 -6.742188 4.265625 -6.78125 4.015625 -6.78125 C 3.742188 -6.78125 3.5 -6.722656 3.28125 -6.609375 C 3.070312 -6.503906 2.890625 -6.351562 2.734375 -6.15625 C 2.578125 -5.957031 2.457031 -5.710938 2.375 -5.421875 C 2.300781 -5.128906 2.265625 -4.789062 2.265625 -4.40625 L 2.265625 0 L 1 0 L 1 -5.984375 C 1 -6.140625 0.992188 -6.304688 0.984375 -6.484375 C 0.984375 -6.660156 0.984375 -6.828125 0.984375 -6.984375 C 0.984375 -7.140625 0.976562 -7.273438 0.96875 -7.390625 C 0.96875 -7.503906 0.960938 -7.578125 0.953125 -7.609375 L 2.15625 -7.609375 C 2.15625 -7.585938 2.15625 -7.523438 2.15625 -7.421875 C 2.164062 -7.316406 2.171875 -7.195312 2.171875 -7.0625 C 2.179688 -6.925781 2.1875 -6.789062 2.1875 -6.65625 C 2.195312 -6.519531 2.203125 -6.40625 2.203125 -6.3125 L 2.234375 -6.3125 C 2.347656 -6.53125 2.46875 -6.726562 2.59375 -6.90625 C 2.726562 -7.082031 2.878906 -7.234375 3.046875 -7.359375 C 3.222656 -7.484375 3.425781 -7.578125 3.65625 -7.640625 C 3.882812 -7.710938 4.148438 -7.75 4.453125 -7.75 C 5.023438 -7.75 5.476562 -7.632812 5.8125 -7.40625 C 6.15625 -7.175781 6.390625 -6.8125 6.515625 -6.3125 L 6.546875 -6.3125 C 6.648438 -6.53125 6.769531 -6.726562 6.90625 -6.90625 C 7.050781 -7.082031 7.21875 -7.234375 7.40625 -7.359375 C 7.601562 -7.484375 7.816406 -7.578125 8.046875 -7.640625 C 8.285156 -7.710938 8.550781 -7.75 8.84375 -7.75 C 9.226562 -7.75 9.5625 -7.695312 9.84375 -7.59375 C 10.125 -7.488281 10.351562 -7.328125 10.53125 -7.109375 C 10.707031 -6.898438 10.835938 -6.625 10.921875 -6.28125 C 11.003906 -5.945312 11.046875 -5.546875 11.046875 -5.078125 L 11.046875 0 L 9.796875 0 L 9.796875 -4.828125 C 9.796875 -5.191406 9.769531 -5.5 9.71875 -5.75 C 9.675781 -6 9.597656 -6.195312 9.484375 -6.34375 C 9.378906 -6.5 9.238281 -6.609375 9.0625 -6.671875 C 8.882812 -6.742188 8.664062 -6.78125 8.40625 -6.78125 C 8.132812 -6.78125 7.890625 -6.726562 7.671875 -6.625 C 7.460938 -6.519531 7.28125 -6.367188 7.125 -6.171875 C 6.976562 -5.972656 6.863281 -5.726562 6.78125 -5.4375 C 6.695312 -5.144531 6.65625 -4.800781 6.65625 -4.40625 L 6.65625 0 Z M 5.40625 0 \"/>\n",
       "</symbol>\n",
       "<symbol overflow=\"visible\" id=\"glyph3-18\">\n",
       "<path style=\"stroke:none;\" d=\"M 5.78125 -1.21875 C 5.539062 -0.738281 5.226562 -0.390625 4.84375 -0.171875 C 4.457031 0.0351562 3.976562 0.140625 3.40625 0.140625 C 2.445312 0.140625 1.738281 -0.179688 1.28125 -0.828125 C 0.832031 -1.472656 0.609375 -2.453125 0.609375 -3.765625 C 0.609375 -6.421875 1.539062 -7.75 3.40625 -7.75 C 3.976562 -7.75 4.457031 -7.644531 4.84375 -7.4375 C 5.226562 -7.226562 5.539062 -6.890625 5.78125 -6.421875 L 5.796875 -6.421875 C 5.796875 -6.472656 5.789062 -6.546875 5.78125 -6.640625 C 5.78125 -6.742188 5.78125 -6.847656 5.78125 -6.953125 C 5.78125 -7.066406 5.78125 -7.171875 5.78125 -7.265625 C 5.78125 -7.367188 5.78125 -7.441406 5.78125 -7.484375 L 5.78125 -10.4375 L 7.046875 -10.4375 L 7.046875 -1.5625 C 7.046875 -1.382812 7.046875 -1.207031 7.046875 -1.03125 C 7.046875 -0.863281 7.046875 -0.707031 7.046875 -0.5625 C 7.054688 -0.425781 7.0625 -0.304688 7.0625 -0.203125 C 7.070312 -0.109375 7.078125 -0.0390625 7.078125 0 L 5.875 0 C 5.863281 -0.0507812 5.851562 -0.117188 5.84375 -0.203125 C 5.84375 -0.285156 5.835938 -0.382812 5.828125 -0.5 C 5.816406 -0.613281 5.804688 -0.734375 5.796875 -0.859375 C 5.796875 -0.984375 5.796875 -1.101562 5.796875 -1.21875 Z M 1.9375 -3.8125 C 1.9375 -3.289062 1.96875 -2.84375 2.03125 -2.46875 C 2.09375 -2.09375 2.195312 -1.78125 2.34375 -1.53125 C 2.488281 -1.289062 2.675781 -1.113281 2.90625 -1 C 3.132812 -0.894531 3.410156 -0.84375 3.734375 -0.84375 C 4.066406 -0.84375 4.359375 -0.894531 4.609375 -1 C 4.867188 -1.101562 5.082031 -1.273438 5.25 -1.515625 C 5.425781 -1.765625 5.554688 -2.082031 5.640625 -2.46875 C 5.734375 -2.851562 5.78125 -3.328125 5.78125 -3.890625 C 5.78125 -4.429688 5.734375 -4.890625 5.640625 -5.265625 C 5.554688 -5.640625 5.425781 -5.941406 5.25 -6.171875 C 5.070312 -6.398438 4.859375 -6.5625 4.609375 -6.65625 C 4.359375 -6.757812 4.070312 -6.8125 3.75 -6.8125 C 3.4375 -6.8125 3.164062 -6.757812 2.9375 -6.65625 C 2.71875 -6.550781 2.53125 -6.378906 2.375 -6.140625 C 2.226562 -5.898438 2.117188 -5.585938 2.046875 -5.203125 C 1.972656 -4.816406 1.9375 -4.351562 1.9375 -3.8125 Z M 1.9375 -3.8125 \"/>\n",
       "</symbol>\n",
       "<symbol overflow=\"visible\" id=\"glyph3-19\">\n",
       "<path style=\"stroke:none;\" d=\"M 4.3125 0 L 2.8125 0 L 0.046875 -7.609375 L 1.40625 -7.609375 L 3.078125 -2.65625 C 3.109375 -2.550781 3.144531 -2.425781 3.1875 -2.28125 C 3.226562 -2.132812 3.269531 -1.976562 3.3125 -1.8125 C 3.363281 -1.65625 3.410156 -1.503906 3.453125 -1.359375 C 3.492188 -1.210938 3.53125 -1.085938 3.5625 -0.984375 C 3.59375 -1.085938 3.628906 -1.210938 3.671875 -1.359375 C 3.710938 -1.503906 3.753906 -1.65625 3.796875 -1.8125 C 3.847656 -1.96875 3.898438 -2.117188 3.953125 -2.265625 C 4.003906 -2.410156 4.046875 -2.535156 4.078125 -2.640625 L 5.8125 -7.609375 L 7.15625 -7.609375 Z M 4.3125 0 \"/>\n",
       "</symbol>\n",
       "<symbol overflow=\"visible\" id=\"glyph3-20\">\n",
       "<path style=\"stroke:none;\" d=\"M 5.734375 0 L 3.171875 -3.46875 L 2.234375 -2.703125 L 2.234375 0 L 0.96875 0 L 0.96875 -10.4375 L 2.234375 -10.4375 L 2.234375 -3.921875 L 5.578125 -7.609375 L 7.0625 -7.609375 L 3.96875 -4.34375 L 7.21875 0 Z M 5.734375 0 \"/>\n",
       "</symbol>\n",
       "</g>\n",
       "<clipPath id=\"clip1\">\n",
       "  <path d=\"M 38.152344 23.957031 L 498.523438 23.957031 L 498.523438 469.847656 L 38.152344 469.847656 Z M 38.152344 23.957031 \"/>\n",
       "</clipPath>\n",
       "<clipPath id=\"clip2\">\n",
       "  <path d=\"M 38.152344 402 L 498.523438 402 L 498.523438 403 L 38.152344 403 Z M 38.152344 402 \"/>\n",
       "</clipPath>\n",
       "<clipPath id=\"clip3\">\n",
       "  <path d=\"M 38.152344 310 L 498.523438 310 L 498.523438 312 L 38.152344 312 Z M 38.152344 310 \"/>\n",
       "</clipPath>\n",
       "<clipPath id=\"clip4\">\n",
       "  <path d=\"M 38.152344 219 L 498.523438 219 L 498.523438 220 L 38.152344 220 Z M 38.152344 219 \"/>\n",
       "</clipPath>\n",
       "<clipPath id=\"clip5\">\n",
       "  <path d=\"M 38.152344 127 L 498.523438 127 L 498.523438 129 L 38.152344 129 Z M 38.152344 127 \"/>\n",
       "</clipPath>\n",
       "<clipPath id=\"clip6\">\n",
       "  <path d=\"M 38.152344 36 L 498.523438 36 L 498.523438 37 L 38.152344 37 Z M 38.152344 36 \"/>\n",
       "</clipPath>\n",
       "<clipPath id=\"clip7\">\n",
       "  <path d=\"M 116 23.957031 L 118 23.957031 L 118 469.847656 L 116 469.847656 Z M 116 23.957031 \"/>\n",
       "</clipPath>\n",
       "<clipPath id=\"clip8\">\n",
       "  <path d=\"M 260 23.957031 L 262 23.957031 L 262 469.847656 L 260 469.847656 Z M 260 23.957031 \"/>\n",
       "</clipPath>\n",
       "<clipPath id=\"clip9\">\n",
       "  <path d=\"M 405 23.957031 L 406 23.957031 L 406 469.847656 L 405 469.847656 Z M 405 23.957031 \"/>\n",
       "</clipPath>\n",
       "<clipPath id=\"clip10\">\n",
       "  <path d=\"M 38.152344 447 L 498.523438 447 L 498.523438 449 L 38.152344 449 Z M 38.152344 447 \"/>\n",
       "</clipPath>\n",
       "<clipPath id=\"clip11\">\n",
       "  <path d=\"M 38.152344 356 L 498.523438 356 L 498.523438 358 L 38.152344 358 Z M 38.152344 356 \"/>\n",
       "</clipPath>\n",
       "<clipPath id=\"clip12\">\n",
       "  <path d=\"M 38.152344 264 L 498.523438 264 L 498.523438 266 L 38.152344 266 Z M 38.152344 264 \"/>\n",
       "</clipPath>\n",
       "<clipPath id=\"clip13\">\n",
       "  <path d=\"M 38.152344 173 L 498.523438 173 L 498.523438 175 L 38.152344 175 Z M 38.152344 173 \"/>\n",
       "</clipPath>\n",
       "<clipPath id=\"clip14\">\n",
       "  <path d=\"M 38.152344 81 L 498.523438 81 L 498.523438 83 L 38.152344 83 Z M 38.152344 81 \"/>\n",
       "</clipPath>\n",
       "<clipPath id=\"clip15\">\n",
       "  <path d=\"M 44 23.957031 L 46 23.957031 L 46 469.847656 L 44 469.847656 Z M 44 23.957031 \"/>\n",
       "</clipPath>\n",
       "<clipPath id=\"clip16\">\n",
       "  <path d=\"M 188 23.957031 L 190 23.957031 L 190 469.847656 L 188 469.847656 Z M 188 23.957031 \"/>\n",
       "</clipPath>\n",
       "<clipPath id=\"clip17\">\n",
       "  <path d=\"M 332 23.957031 L 334 23.957031 L 334 469.847656 L 332 469.847656 Z M 332 23.957031 \"/>\n",
       "</clipPath>\n",
       "<clipPath id=\"clip18\">\n",
       "  <path d=\"M 477 23.957031 L 479 23.957031 L 479 469.847656 L 477 469.847656 Z M 477 23.957031 \"/>\n",
       "</clipPath>\n",
       "</defs>\n",
       "<g id=\"surface1004\">\n",
       "<rect x=\"0\" y=\"0\" width=\"504\" height=\"504\" style=\"fill:rgb(100%,100%,100%);fill-opacity:1;stroke:none;\"/>\n",
       "<rect x=\"0\" y=\"0\" width=\"504\" height=\"504\" style=\"fill:rgb(100%,100%,100%);fill-opacity:1;stroke:none;\"/>\n",
       "<path style=\"fill:none;stroke-width:1.066978;stroke-linecap:round;stroke-linejoin:round;stroke:rgb(100%,100%,100%);stroke-opacity:1;stroke-miterlimit:10;\" d=\"M 0 504 L 504 504 L 504 0 L 0 0 Z M 0 504 \"/>\n",
       "<g clip-path=\"url(#clip1)\" clip-rule=\"nonzero\">\n",
       "<path style=\" stroke:none;fill-rule:nonzero;fill:rgb(92.156863%,92.156863%,92.156863%);fill-opacity:1;\" d=\"M 38.152344 469.847656 L 498.523438 469.847656 L 498.523438 23.957031 L 38.152344 23.957031 Z M 38.152344 469.847656 \"/>\n",
       "</g>\n",
       "<g clip-path=\"url(#clip2)\" clip-rule=\"nonzero\">\n",
       "<path style=\"fill:none;stroke-width:0.533489;stroke-linecap:butt;stroke-linejoin:round;stroke:rgb(100%,100%,100%);stroke-opacity:1;stroke-miterlimit:10;\" d=\"M 38.152344 402.636719 L 498.519531 402.636719 \"/>\n",
       "</g>\n",
       "<g clip-path=\"url(#clip3)\" clip-rule=\"nonzero\">\n",
       "<path style=\"fill:none;stroke-width:0.533489;stroke-linecap:butt;stroke-linejoin:round;stroke:rgb(100%,100%,100%);stroke-opacity:1;stroke-miterlimit:10;\" d=\"M 38.152344 311.042969 L 498.519531 311.042969 \"/>\n",
       "</g>\n",
       "<g clip-path=\"url(#clip4)\" clip-rule=\"nonzero\">\n",
       "<path style=\"fill:none;stroke-width:0.533489;stroke-linecap:butt;stroke-linejoin:round;stroke:rgb(100%,100%,100%);stroke-opacity:1;stroke-miterlimit:10;\" d=\"M 38.152344 219.453125 L 498.519531 219.453125 \"/>\n",
       "</g>\n",
       "<g clip-path=\"url(#clip5)\" clip-rule=\"nonzero\">\n",
       "<path style=\"fill:none;stroke-width:0.533489;stroke-linecap:butt;stroke-linejoin:round;stroke:rgb(100%,100%,100%);stroke-opacity:1;stroke-miterlimit:10;\" d=\"M 38.152344 127.863281 L 498.519531 127.863281 \"/>\n",
       "</g>\n",
       "<g clip-path=\"url(#clip6)\" clip-rule=\"nonzero\">\n",
       "<path style=\"fill:none;stroke-width:0.533489;stroke-linecap:butt;stroke-linejoin:round;stroke:rgb(100%,100%,100%);stroke-opacity:1;stroke-miterlimit:10;\" d=\"M 38.152344 36.269531 L 498.519531 36.269531 \"/>\n",
       "</g>\n",
       "<g clip-path=\"url(#clip7)\" clip-rule=\"nonzero\">\n",
       "<path style=\"fill:none;stroke-width:0.533489;stroke-linecap:butt;stroke-linejoin:round;stroke:rgb(100%,100%,100%);stroke-opacity:1;stroke-miterlimit:10;\" d=\"M 116.804688 469.847656 L 116.804688 23.957031 \"/>\n",
       "</g>\n",
       "<g clip-path=\"url(#clip8)\" clip-rule=\"nonzero\">\n",
       "<path style=\"fill:none;stroke-width:0.533489;stroke-linecap:butt;stroke-linejoin:round;stroke:rgb(100%,100%,100%);stroke-opacity:1;stroke-miterlimit:10;\" d=\"M 261.121094 469.847656 L 261.121094 23.957031 \"/>\n",
       "</g>\n",
       "<g clip-path=\"url(#clip9)\" clip-rule=\"nonzero\">\n",
       "<path style=\"fill:none;stroke-width:0.533489;stroke-linecap:butt;stroke-linejoin:round;stroke:rgb(100%,100%,100%);stroke-opacity:1;stroke-miterlimit:10;\" d=\"M 405.4375 469.847656 L 405.4375 23.957031 \"/>\n",
       "</g>\n",
       "<g clip-path=\"url(#clip10)\" clip-rule=\"nonzero\">\n",
       "<path style=\"fill:none;stroke-width:1.066978;stroke-linecap:butt;stroke-linejoin:round;stroke:rgb(100%,100%,100%);stroke-opacity:1;stroke-miterlimit:10;\" d=\"M 38.152344 448.429688 L 498.519531 448.429688 \"/>\n",
       "</g>\n",
       "<g clip-path=\"url(#clip11)\" clip-rule=\"nonzero\">\n",
       "<path style=\"fill:none;stroke-width:1.066978;stroke-linecap:butt;stroke-linejoin:round;stroke:rgb(100%,100%,100%);stroke-opacity:1;stroke-miterlimit:10;\" d=\"M 38.152344 356.839844 L 498.519531 356.839844 \"/>\n",
       "</g>\n",
       "<g clip-path=\"url(#clip12)\" clip-rule=\"nonzero\">\n",
       "<path style=\"fill:none;stroke-width:1.066978;stroke-linecap:butt;stroke-linejoin:round;stroke:rgb(100%,100%,100%);stroke-opacity:1;stroke-miterlimit:10;\" d=\"M 38.152344 265.25 L 498.519531 265.25 \"/>\n",
       "</g>\n",
       "<g clip-path=\"url(#clip13)\" clip-rule=\"nonzero\">\n",
       "<path style=\"fill:none;stroke-width:1.066978;stroke-linecap:butt;stroke-linejoin:round;stroke:rgb(100%,100%,100%);stroke-opacity:1;stroke-miterlimit:10;\" d=\"M 38.152344 173.65625 L 498.519531 173.65625 \"/>\n",
       "</g>\n",
       "<g clip-path=\"url(#clip14)\" clip-rule=\"nonzero\">\n",
       "<path style=\"fill:none;stroke-width:1.066978;stroke-linecap:butt;stroke-linejoin:round;stroke:rgb(100%,100%,100%);stroke-opacity:1;stroke-miterlimit:10;\" d=\"M 38.152344 82.066406 L 498.519531 82.066406 \"/>\n",
       "</g>\n",
       "<g clip-path=\"url(#clip15)\" clip-rule=\"nonzero\">\n",
       "<path style=\"fill:none;stroke-width:1.066978;stroke-linecap:butt;stroke-linejoin:round;stroke:rgb(100%,100%,100%);stroke-opacity:1;stroke-miterlimit:10;\" d=\"M 44.644531 469.847656 L 44.644531 23.957031 \"/>\n",
       "</g>\n",
       "<g clip-path=\"url(#clip16)\" clip-rule=\"nonzero\">\n",
       "<path style=\"fill:none;stroke-width:1.066978;stroke-linecap:butt;stroke-linejoin:round;stroke:rgb(100%,100%,100%);stroke-opacity:1;stroke-miterlimit:10;\" d=\"M 188.960938 469.847656 L 188.960938 23.957031 \"/>\n",
       "</g>\n",
       "<g clip-path=\"url(#clip17)\" clip-rule=\"nonzero\">\n",
       "<path style=\"fill:none;stroke-width:1.066978;stroke-linecap:butt;stroke-linejoin:round;stroke:rgb(100%,100%,100%);stroke-opacity:1;stroke-miterlimit:10;\" d=\"M 333.277344 469.847656 L 333.277344 23.957031 \"/>\n",
       "</g>\n",
       "<g clip-path=\"url(#clip18)\" clip-rule=\"nonzero\">\n",
       "<path style=\"fill:none;stroke-width:1.066978;stroke-linecap:butt;stroke-linejoin:round;stroke:rgb(100%,100%,100%);stroke-opacity:1;stroke-miterlimit:10;\" d=\"M 477.59375 469.847656 L 477.59375 23.957031 \"/>\n",
       "</g>\n",
       "<path style=\"fill-rule:nonzero;fill:rgb(0%,0%,0%);fill-opacity:1;stroke-width:0.708661;stroke-linecap:round;stroke-linejoin:round;stroke:rgb(0%,0%,0%);stroke-opacity:1;stroke-miterlimit:10;\" d=\"M 61.03125 44.226562 C 61.03125 46.832031 57.121094 46.832031 57.121094 44.226562 C 57.121094 41.621094 61.03125 41.621094 61.03125 44.226562 \"/>\n",
       "<path style=\"fill-rule:nonzero;fill:rgb(0%,0%,0%);fill-opacity:1;stroke-width:0.708661;stroke-linecap:round;stroke-linejoin:round;stroke:rgb(0%,0%,0%);stroke-opacity:1;stroke-miterlimit:10;\" d=\"M 75.464844 44.226562 C 75.464844 46.832031 71.554688 46.832031 71.554688 44.226562 C 71.554688 41.621094 75.464844 41.621094 75.464844 44.226562 \"/>\n",
       "<path style=\"fill-rule:nonzero;fill:rgb(0%,0%,0%);fill-opacity:1;stroke-width:0.708661;stroke-linecap:round;stroke-linejoin:round;stroke:rgb(0%,0%,0%);stroke-opacity:1;stroke-miterlimit:10;\" d=\"M 89.894531 224.445312 C 89.894531 227.050781 85.984375 227.050781 85.984375 224.445312 C 85.984375 221.839844 89.894531 221.839844 89.894531 224.445312 \"/>\n",
       "<path style=\"fill-rule:nonzero;fill:rgb(0%,0%,0%);fill-opacity:1;stroke-width:0.708661;stroke-linecap:round;stroke-linejoin:round;stroke:rgb(0%,0%,0%);stroke-opacity:1;stroke-miterlimit:10;\" d=\"M 104.328125 243.488281 C 104.328125 246.09375 100.417969 246.09375 100.417969 243.488281 C 100.417969 240.882812 104.328125 240.882812 104.328125 243.488281 \"/>\n",
       "<path style=\"fill-rule:nonzero;fill:rgb(0%,0%,0%);fill-opacity:1;stroke-width:0.708661;stroke-linecap:round;stroke-linejoin:round;stroke:rgb(0%,0%,0%);stroke-opacity:1;stroke-miterlimit:10;\" d=\"M 118.757812 377.847656 C 118.757812 380.453125 114.847656 380.453125 114.847656 377.847656 C 114.847656 375.242188 118.757812 375.242188 118.757812 377.847656 \"/>\n",
       "<path style=\"fill-rule:nonzero;fill:rgb(0%,0%,0%);fill-opacity:1;stroke-width:0.708661;stroke-linecap:round;stroke-linejoin:round;stroke:rgb(0%,0%,0%);stroke-opacity:1;stroke-miterlimit:10;\" d=\"M 133.191406 380.097656 C 133.191406 382.703125 129.28125 382.703125 129.28125 380.097656 C 129.28125 377.488281 133.191406 377.488281 133.191406 380.097656 \"/>\n",
       "<path style=\"fill-rule:nonzero;fill:rgb(0%,0%,0%);fill-opacity:1;stroke-width:0.708661;stroke-linecap:round;stroke-linejoin:round;stroke:rgb(0%,0%,0%);stroke-opacity:1;stroke-miterlimit:10;\" d=\"M 147.621094 384.691406 C 147.621094 387.300781 143.710938 387.300781 143.710938 384.691406 C 143.710938 382.085938 147.621094 382.085938 147.621094 384.691406 \"/>\n",
       "<path style=\"fill-rule:nonzero;fill:rgb(0%,0%,0%);fill-opacity:1;stroke-width:0.708661;stroke-linecap:round;stroke-linejoin:round;stroke:rgb(0%,0%,0%);stroke-opacity:1;stroke-miterlimit:10;\" d=\"M 162.054688 401.503906 C 162.054688 404.109375 158.144531 404.109375 158.144531 401.503906 C 158.144531 398.894531 162.054688 398.894531 162.054688 401.503906 \"/>\n",
       "<path style=\"fill-rule:nonzero;fill:rgb(0%,0%,0%);fill-opacity:1;stroke-width:0.708661;stroke-linecap:round;stroke-linejoin:round;stroke:rgb(0%,0%,0%);stroke-opacity:1;stroke-miterlimit:10;\" d=\"M 176.484375 400.441406 C 176.484375 403.046875 172.574219 403.046875 172.574219 400.441406 C 172.574219 397.832031 176.484375 397.832031 176.484375 400.441406 \"/>\n",
       "<path style=\"fill-rule:nonzero;fill:rgb(0%,0%,0%);fill-opacity:1;stroke-width:0.708661;stroke-linecap:round;stroke-linejoin:round;stroke:rgb(0%,0%,0%);stroke-opacity:1;stroke-miterlimit:10;\" d=\"M 190.917969 408.28125 C 190.917969 410.886719 187.007812 410.886719 187.007812 408.28125 C 187.007812 405.671875 190.917969 405.671875 190.917969 408.28125 \"/>\n",
       "<path style=\"fill-rule:nonzero;fill:rgb(0%,0%,0%);fill-opacity:1;stroke-width:0.708661;stroke-linecap:round;stroke-linejoin:round;stroke:rgb(0%,0%,0%);stroke-opacity:1;stroke-miterlimit:10;\" d=\"M 205.347656 423.855469 C 205.347656 426.464844 201.4375 426.464844 201.4375 423.855469 C 201.4375 421.25 205.347656 421.25 205.347656 423.855469 \"/>\n",
       "<path style=\"fill-rule:nonzero;fill:rgb(0%,0%,0%);fill-opacity:1;stroke-width:0.708661;stroke-linecap:round;stroke-linejoin:round;stroke:rgb(0%,0%,0%);stroke-opacity:1;stroke-miterlimit:10;\" d=\"M 219.78125 423.828125 C 219.78125 426.4375 215.871094 426.4375 215.871094 423.828125 C 215.871094 421.222656 219.78125 421.222656 219.78125 423.828125 \"/>\n",
       "<path style=\"fill-rule:nonzero;fill:rgb(0%,0%,0%);fill-opacity:1;stroke-width:0.708661;stroke-linecap:round;stroke-linejoin:round;stroke:rgb(0%,0%,0%);stroke-opacity:1;stroke-miterlimit:10;\" d=\"M 234.210938 429.476562 C 234.210938 432.082031 230.300781 432.082031 230.300781 429.476562 C 230.300781 426.867188 234.210938 426.867188 234.210938 429.476562 \"/>\n",
       "<path style=\"fill-rule:nonzero;fill:rgb(0%,0%,0%);fill-opacity:1;stroke-width:0.708661;stroke-linecap:round;stroke-linejoin:round;stroke:rgb(0%,0%,0%);stroke-opacity:1;stroke-miterlimit:10;\" d=\"M 248.644531 428.394531 C 248.644531 431 244.734375 431 244.734375 428.394531 C 244.734375 425.785156 248.644531 425.785156 248.644531 428.394531 \"/>\n",
       "<path style=\"fill-rule:nonzero;fill:rgb(0%,0%,0%);fill-opacity:1;stroke-width:0.708661;stroke-linecap:round;stroke-linejoin:round;stroke:rgb(0%,0%,0%);stroke-opacity:1;stroke-miterlimit:10;\" d=\"M 263.074219 413.878906 C 263.074219 416.484375 259.164062 416.484375 259.164062 413.878906 C 259.164062 411.273438 263.074219 411.273438 263.074219 413.878906 \"/>\n",
       "<path style=\"fill-rule:nonzero;fill:rgb(0%,0%,0%);fill-opacity:1;stroke-width:0.708661;stroke-linecap:round;stroke-linejoin:round;stroke:rgb(0%,0%,0%);stroke-opacity:1;stroke-miterlimit:10;\" d=\"M 277.507812 405.984375 C 277.507812 408.589844 273.597656 408.589844 273.597656 405.984375 C 273.597656 403.378906 277.507812 403.378906 277.507812 405.984375 \"/>\n",
       "<path style=\"fill-rule:nonzero;fill:rgb(0%,0%,0%);fill-opacity:1;stroke-width:0.708661;stroke-linecap:round;stroke-linejoin:round;stroke:rgb(0%,0%,0%);stroke-opacity:1;stroke-miterlimit:10;\" d=\"M 291.9375 405.976562 C 291.9375 408.585938 288.027344 408.585938 288.027344 405.976562 C 288.027344 403.371094 291.9375 403.371094 291.9375 405.976562 \"/>\n",
       "<path style=\"fill-rule:nonzero;fill:rgb(0%,0%,0%);fill-opacity:1;stroke-width:0.708661;stroke-linecap:round;stroke-linejoin:round;stroke:rgb(0%,0%,0%);stroke-opacity:1;stroke-miterlimit:10;\" d=\"M 306.371094 415.003906 C 306.371094 417.609375 302.460938 417.609375 302.460938 415.003906 C 302.460938 412.394531 306.371094 412.394531 306.371094 415.003906 \"/>\n",
       "<path style=\"fill-rule:nonzero;fill:rgb(0%,0%,0%);fill-opacity:1;stroke-width:0.708661;stroke-linecap:round;stroke-linejoin:round;stroke:rgb(0%,0%,0%);stroke-opacity:1;stroke-miterlimit:10;\" d=\"M 320.800781 428.386719 C 320.800781 430.992188 316.890625 430.992188 316.890625 428.386719 C 316.890625 425.78125 320.800781 425.78125 320.800781 428.386719 \"/>\n",
       "<path style=\"fill-rule:nonzero;fill:rgb(0%,0%,0%);fill-opacity:1;stroke-width:0.708661;stroke-linecap:round;stroke-linejoin:round;stroke:rgb(0%,0%,0%);stroke-opacity:1;stroke-miterlimit:10;\" d=\"M 335.234375 425.027344 C 335.234375 427.632812 331.324219 427.632812 331.324219 425.027344 C 331.324219 422.421875 335.234375 422.421875 335.234375 425.027344 \"/>\n",
       "<path style=\"fill-rule:nonzero;fill:rgb(0%,0%,0%);fill-opacity:1;stroke-width:0.708661;stroke-linecap:round;stroke-linejoin:round;stroke:rgb(0%,0%,0%);stroke-opacity:1;stroke-miterlimit:10;\" d=\"M 349.664062 427.269531 C 349.664062 429.875 345.753906 429.875 345.753906 427.269531 C 345.753906 424.664062 349.664062 424.664062 349.664062 427.269531 \"/>\n",
       "<path style=\"fill-rule:nonzero;fill:rgb(0%,0%,0%);fill-opacity:1;stroke-width:0.708661;stroke-linecap:round;stroke-linejoin:round;stroke:rgb(0%,0%,0%);stroke-opacity:1;stroke-miterlimit:10;\" d=\"M 364.097656 432.8125 C 364.097656 435.417969 360.1875 435.417969 360.1875 432.8125 C 360.1875 430.207031 364.097656 430.207031 364.097656 432.8125 \"/>\n",
       "<path style=\"fill-rule:nonzero;fill:rgb(0%,0%,0%);fill-opacity:1;stroke-width:0.708661;stroke-linecap:round;stroke-linejoin:round;stroke:rgb(0%,0%,0%);stroke-opacity:1;stroke-miterlimit:10;\" d=\"M 378.527344 437.289062 C 378.527344 439.894531 374.617188 439.894531 374.617188 437.289062 C 374.617188 434.679688 378.527344 434.679688 378.527344 437.289062 \"/>\n",
       "<path style=\"fill-rule:nonzero;fill:rgb(0%,0%,0%);fill-opacity:1;stroke-width:0.708661;stroke-linecap:round;stroke-linejoin:round;stroke:rgb(0%,0%,0%);stroke-opacity:1;stroke-miterlimit:10;\" d=\"M 392.960938 445.101562 C 392.960938 447.707031 389.050781 447.707031 389.050781 445.101562 C 389.050781 442.492188 392.960938 442.492188 392.960938 445.101562 \"/>\n",
       "<path style=\"fill-rule:nonzero;fill:rgb(0%,0%,0%);fill-opacity:1;stroke-width:0.708661;stroke-linecap:round;stroke-linejoin:round;stroke:rgb(0%,0%,0%);stroke-opacity:1;stroke-miterlimit:10;\" d=\"M 407.390625 447.308594 C 407.390625 449.914062 403.480469 449.914062 403.480469 447.308594 C 403.480469 444.699219 407.390625 444.699219 407.390625 447.308594 \"/>\n",
       "<path style=\"fill-rule:nonzero;fill:rgb(0%,0%,0%);fill-opacity:1;stroke-width:0.708661;stroke-linecap:round;stroke-linejoin:round;stroke:rgb(0%,0%,0%);stroke-opacity:1;stroke-miterlimit:10;\" d=\"M 421.824219 449.582031 C 421.824219 452.1875 417.914062 452.1875 417.914062 449.582031 C 417.914062 446.976562 421.824219 446.976562 421.824219 449.582031 \"/>\n",
       "<path style=\"fill-rule:nonzero;fill:rgb(0%,0%,0%);fill-opacity:1;stroke-width:0.708661;stroke-linecap:round;stroke-linejoin:round;stroke:rgb(0%,0%,0%);stroke-opacity:1;stroke-miterlimit:10;\" d=\"M 436.253906 439.480469 C 436.253906 442.085938 432.34375 442.085938 432.34375 439.480469 C 432.34375 436.875 436.253906 436.875 436.253906 439.480469 \"/>\n",
       "<path style=\"fill-rule:nonzero;fill:rgb(0%,0%,0%);fill-opacity:1;stroke-width:0.708661;stroke-linecap:round;stroke-linejoin:round;stroke:rgb(0%,0%,0%);stroke-opacity:1;stroke-miterlimit:10;\" d=\"M 450.6875 438.390625 C 450.6875 440.996094 446.777344 440.996094 446.777344 438.390625 C 446.777344 435.785156 450.6875 435.785156 450.6875 438.390625 \"/>\n",
       "<path style=\"fill-rule:nonzero;fill:rgb(0%,0%,0%);fill-opacity:1;stroke-width:0.708661;stroke-linecap:round;stroke-linejoin:round;stroke:rgb(0%,0%,0%);stroke-opacity:1;stroke-miterlimit:10;\" d=\"M 465.117188 432.777344 C 465.117188 435.386719 461.207031 435.386719 461.207031 432.777344 C 461.207031 430.171875 465.117188 430.171875 465.117188 432.777344 \"/>\n",
       "<path style=\"fill-rule:nonzero;fill:rgb(0%,0%,0%);fill-opacity:1;stroke-width:0.708661;stroke-linecap:round;stroke-linejoin:round;stroke:rgb(0%,0%,0%);stroke-opacity:1;stroke-miterlimit:10;\" d=\"M 479.550781 440.585938 C 479.550781 443.191406 475.640625 443.191406 475.640625 440.585938 C 475.640625 437.976562 479.550781 437.976562 479.550781 440.585938 \"/>\n",
       "<path style=\"fill:none;stroke-width:1.066978;stroke-linecap:butt;stroke-linejoin:round;stroke:rgb(0%,0%,0%);stroke-opacity:1;stroke-miterlimit:10;\" d=\"M 59.078125 44.226562 L 73.507812 44.226562 L 87.941406 224.445312 L 102.371094 243.488281 L 116.804688 377.847656 L 131.234375 380.097656 L 145.667969 384.691406 L 160.097656 401.503906 L 174.53125 400.441406 L 188.960938 408.28125 L 203.394531 423.855469 L 217.824219 423.828125 L 232.257812 429.476562 L 246.6875 428.394531 L 261.121094 413.878906 L 275.550781 405.984375 L 289.984375 405.976562 L 304.414062 415.003906 L 318.847656 428.386719 L 333.277344 425.027344 L 347.710938 427.269531 L 362.140625 432.8125 L 376.574219 437.289062 L 391.003906 445.101562 L 405.4375 447.308594 L 419.867188 449.582031 L 434.300781 439.480469 L 448.730469 438.390625 L 463.164062 432.777344 L 477.59375 440.585938 \"/>\n",
       "<g style=\"fill:rgb(30.196078%,30.196078%,30.196078%);fill-opacity:1;\">\n",
       "  <use xlink:href=\"#glyph0-1\" x=\"20.21875\" y=\"451.619141\"/>\n",
       "  <use xlink:href=\"#glyph0-2\" x=\"25.21875\" y=\"451.619141\"/>\n",
       "  <use xlink:href=\"#glyph0-3\" x=\"28.21875\" y=\"451.619141\"/>\n",
       "</g>\n",
       "<g style=\"fill:rgb(30.196078%,30.196078%,30.196078%);fill-opacity:1;\">\n",
       "  <use xlink:href=\"#glyph0-1\" x=\"20.21875\" y=\"360.029297\"/>\n",
       "  <use xlink:href=\"#glyph0-2\" x=\"25.21875\" y=\"360.029297\"/>\n",
       "  <use xlink:href=\"#glyph0-4\" x=\"28.21875\" y=\"360.029297\"/>\n",
       "</g>\n",
       "<g style=\"fill:rgb(30.196078%,30.196078%,30.196078%);fill-opacity:1;\">\n",
       "  <use xlink:href=\"#glyph0-1\" x=\"20.21875\" y=\"268.439453\"/>\n",
       "  <use xlink:href=\"#glyph0-2\" x=\"25.21875\" y=\"268.439453\"/>\n",
       "  <use xlink:href=\"#glyph0-5\" x=\"28.21875\" y=\"268.439453\"/>\n",
       "</g>\n",
       "<g style=\"fill:rgb(30.196078%,30.196078%,30.196078%);fill-opacity:1;\">\n",
       "  <use xlink:href=\"#glyph0-1\" x=\"20.21875\" y=\"176.845703\"/>\n",
       "  <use xlink:href=\"#glyph0-2\" x=\"25.21875\" y=\"176.845703\"/>\n",
       "  <use xlink:href=\"#glyph0-6\" x=\"28.21875\" y=\"176.845703\"/>\n",
       "</g>\n",
       "<g style=\"fill:rgb(30.196078%,30.196078%,30.196078%);fill-opacity:1;\">\n",
       "  <use xlink:href=\"#glyph0-1\" x=\"20.21875\" y=\"85.255859\"/>\n",
       "  <use xlink:href=\"#glyph0-2\" x=\"25.21875\" y=\"85.255859\"/>\n",
       "  <use xlink:href=\"#glyph0-7\" x=\"28.21875\" y=\"85.255859\"/>\n",
       "</g>\n",
       "<path style=\"fill:none;stroke-width:1.066978;stroke-linecap:butt;stroke-linejoin:round;stroke:rgb(20%,20%,20%);stroke-opacity:1;stroke-miterlimit:10;\" d=\"M 35.410156 448.429688 L 38.152344 448.429688 \"/>\n",
       "<path style=\"fill:none;stroke-width:1.066978;stroke-linecap:butt;stroke-linejoin:round;stroke:rgb(20%,20%,20%);stroke-opacity:1;stroke-miterlimit:10;\" d=\"M 35.410156 356.839844 L 38.152344 356.839844 \"/>\n",
       "<path style=\"fill:none;stroke-width:1.066978;stroke-linecap:butt;stroke-linejoin:round;stroke:rgb(20%,20%,20%);stroke-opacity:1;stroke-miterlimit:10;\" d=\"M 35.410156 265.25 L 38.152344 265.25 \"/>\n",
       "<path style=\"fill:none;stroke-width:1.066978;stroke-linecap:butt;stroke-linejoin:round;stroke:rgb(20%,20%,20%);stroke-opacity:1;stroke-miterlimit:10;\" d=\"M 35.410156 173.65625 L 38.152344 173.65625 \"/>\n",
       "<path style=\"fill:none;stroke-width:1.066978;stroke-linecap:butt;stroke-linejoin:round;stroke:rgb(20%,20%,20%);stroke-opacity:1;stroke-miterlimit:10;\" d=\"M 35.410156 82.066406 L 38.152344 82.066406 \"/>\n",
       "<path style=\"fill:none;stroke-width:1.066978;stroke-linecap:butt;stroke-linejoin:round;stroke:rgb(20%,20%,20%);stroke-opacity:1;stroke-miterlimit:10;\" d=\"M 44.644531 472.589844 L 44.644531 469.847656 \"/>\n",
       "<path style=\"fill:none;stroke-width:1.066978;stroke-linecap:butt;stroke-linejoin:round;stroke:rgb(20%,20%,20%);stroke-opacity:1;stroke-miterlimit:10;\" d=\"M 188.960938 472.589844 L 188.960938 469.847656 \"/>\n",
       "<path style=\"fill:none;stroke-width:1.066978;stroke-linecap:butt;stroke-linejoin:round;stroke:rgb(20%,20%,20%);stroke-opacity:1;stroke-miterlimit:10;\" d=\"M 333.277344 472.589844 L 333.277344 469.847656 \"/>\n",
       "<path style=\"fill:none;stroke-width:1.066978;stroke-linecap:butt;stroke-linejoin:round;stroke:rgb(20%,20%,20%);stroke-opacity:1;stroke-miterlimit:10;\" d=\"M 477.59375 472.589844 L 477.59375 469.847656 \"/>\n",
       "<g style=\"fill:rgb(30.196078%,30.196078%,30.196078%);fill-opacity:1;\">\n",
       "  <use xlink:href=\"#glyph0-1\" x=\"42.144531\" y=\"481.470703\"/>\n",
       "</g>\n",
       "<g style=\"fill:rgb(30.196078%,30.196078%,30.196078%);fill-opacity:1;\">\n",
       "  <use xlink:href=\"#glyph0-8\" x=\"183.960938\" y=\"481.470703\"/>\n",
       "  <use xlink:href=\"#glyph0-1\" x=\"188.960938\" y=\"481.470703\"/>\n",
       "</g>\n",
       "<g style=\"fill:rgb(30.196078%,30.196078%,30.196078%);fill-opacity:1;\">\n",
       "  <use xlink:href=\"#glyph0-9\" x=\"328.277344\" y=\"481.470703\"/>\n",
       "  <use xlink:href=\"#glyph0-1\" x=\"333.277344\" y=\"481.470703\"/>\n",
       "</g>\n",
       "<g style=\"fill:rgb(30.196078%,30.196078%,30.196078%);fill-opacity:1;\">\n",
       "  <use xlink:href=\"#glyph0-10\" x=\"472.59375\" y=\"481.470703\"/>\n",
       "  <use xlink:href=\"#glyph0-1\" x=\"477.59375\" y=\"481.470703\"/>\n",
       "</g>\n",
       "<g style=\"fill:rgb(0%,0%,0%);fill-opacity:1;\">\n",
       "  <use xlink:href=\"#glyph1-1\" x=\"239.835938\" y=\"495.382812\"/>\n",
       "  <use xlink:href=\"#glyph1-2\" x=\"248.835938\" y=\"495.382812\"/>\n",
       "  <use xlink:href=\"#glyph1-3\" x=\"255.835938\" y=\"495.382812\"/>\n",
       "  <use xlink:href=\"#glyph1-4\" x=\"258.835938\" y=\"495.382812\"/>\n",
       "  <use xlink:href=\"#glyph1-5\" x=\"265.835938\" y=\"495.382812\"/>\n",
       "  <use xlink:href=\"#glyph1-6\" x=\"272.835938\" y=\"495.382812\"/>\n",
       "  <use xlink:href=\"#glyph1-7\" x=\"279.835938\" y=\"495.382812\"/>\n",
       "  <use xlink:href=\"#glyph1-8\" x=\"286.835938\" y=\"495.382812\"/>\n",
       "  <use xlink:href=\"#glyph1-9\" x=\"290.835938\" y=\"495.382812\"/>\n",
       "</g>\n",
       "<g style=\"fill:rgb(0%,0%,0%);fill-opacity:1;\">\n",
       "  <use xlink:href=\"#glyph2-1\" x=\"14.34375\" y=\"271.902344\"/>\n",
       "  <use xlink:href=\"#glyph2-2\" x=\"14.34375\" y=\"263.902344\"/>\n",
       "  <use xlink:href=\"#glyph2-2\" x=\"14.34375\" y=\"257.902344\"/>\n",
       "  <use xlink:href=\"#glyph2-3\" x=\"14.34375\" y=\"251.902344\"/>\n",
       "  <use xlink:href=\"#glyph2-4\" x=\"14.34375\" y=\"244.902344\"/>\n",
       "  <use xlink:href=\"#glyph2-5\" x=\"14.34375\" y=\"240.902344\"/>\n",
       "  <use xlink:href=\"#glyph2-2\" x=\"14.34375\" y=\"233.902344\"/>\n",
       "  <use xlink:href=\"#glyph2-6\" x=\"14.34375\" y=\"227.902344\"/>\n",
       "</g>\n",
       "<g style=\"fill:rgb(0%,0%,0%);fill-opacity:1;\">\n",
       "  <use xlink:href=\"#glyph3-1\" x=\"38.152344\" y=\"14.515625\"/>\n",
       "  <use xlink:href=\"#glyph3-2\" x=\"48.152344\" y=\"14.515625\"/>\n",
       "  <use xlink:href=\"#glyph3-2\" x=\"55.152344\" y=\"14.515625\"/>\n",
       "  <use xlink:href=\"#glyph3-3\" x=\"62.152344\" y=\"14.515625\"/>\n",
       "  <use xlink:href=\"#glyph3-4\" x=\"70.152344\" y=\"14.515625\"/>\n",
       "  <use xlink:href=\"#glyph3-5\" x=\"75.152344\" y=\"14.515625\"/>\n",
       "  <use xlink:href=\"#glyph3-2\" x=\"83.152344\" y=\"14.515625\"/>\n",
       "  <use xlink:href=\"#glyph3-6\" x=\"90.152344\" y=\"14.515625\"/>\n",
       "  <use xlink:href=\"#glyph3-7\" x=\"97.152344\" y=\"14.515625\"/>\n",
       "  <use xlink:href=\"#glyph3-8\" x=\"101.152344\" y=\"14.515625\"/>\n",
       "  <use xlink:href=\"#glyph3-9\" x=\"109.152344\" y=\"14.515625\"/>\n",
       "  <use xlink:href=\"#glyph3-7\" x=\"113.152344\" y=\"14.515625\"/>\n",
       "  <use xlink:href=\"#glyph3-10\" x=\"117.152344\" y=\"14.515625\"/>\n",
       "  <use xlink:href=\"#glyph3-11\" x=\"121.152344\" y=\"14.515625\"/>\n",
       "  <use xlink:href=\"#glyph3-12\" x=\"129.152344\" y=\"14.515625\"/>\n",
       "  <use xlink:href=\"#glyph3-7\" x=\"137.152344\" y=\"14.515625\"/>\n",
       "  <use xlink:href=\"#glyph3-2\" x=\"141.152344\" y=\"14.515625\"/>\n",
       "  <use xlink:href=\"#glyph3-13\" x=\"148.152344\" y=\"14.515625\"/>\n",
       "  <use xlink:href=\"#glyph3-5\" x=\"151.152344\" y=\"14.515625\"/>\n",
       "  <use xlink:href=\"#glyph3-14\" x=\"159.152344\" y=\"14.515625\"/>\n",
       "  <use xlink:href=\"#glyph3-14\" x=\"166.152344\" y=\"14.515625\"/>\n",
       "  <use xlink:href=\"#glyph3-15\" x=\"173.152344\" y=\"14.515625\"/>\n",
       "  <use xlink:href=\"#glyph3-9\" x=\"176.152344\" y=\"14.515625\"/>\n",
       "  <use xlink:href=\"#glyph3-15\" x=\"180.152344\" y=\"14.515625\"/>\n",
       "  <use xlink:href=\"#glyph3-2\" x=\"183.152344\" y=\"14.515625\"/>\n",
       "  <use xlink:href=\"#glyph3-5\" x=\"190.152344\" y=\"14.515625\"/>\n",
       "  <use xlink:href=\"#glyph3-10\" x=\"198.152344\" y=\"14.515625\"/>\n",
       "  <use xlink:href=\"#glyph3-15\" x=\"202.152344\" y=\"14.515625\"/>\n",
       "  <use xlink:href=\"#glyph3-8\" x=\"205.152344\" y=\"14.515625\"/>\n",
       "  <use xlink:href=\"#glyph3-16\" x=\"213.152344\" y=\"14.515625\"/>\n",
       "  <use xlink:href=\"#glyph3-7\" x=\"221.152344\" y=\"14.515625\"/>\n",
       "  <use xlink:href=\"#glyph3-17\" x=\"225.152344\" y=\"14.515625\"/>\n",
       "  <use xlink:href=\"#glyph3-8\" x=\"237.152344\" y=\"14.515625\"/>\n",
       "  <use xlink:href=\"#glyph3-18\" x=\"245.152344\" y=\"14.515625\"/>\n",
       "  <use xlink:href=\"#glyph3-12\" x=\"253.152344\" y=\"14.515625\"/>\n",
       "  <use xlink:href=\"#glyph3-13\" x=\"261.152344\" y=\"14.515625\"/>\n",
       "  <use xlink:href=\"#glyph3-7\" x=\"264.152344\" y=\"14.515625\"/>\n",
       "  <use xlink:href=\"#glyph3-15\" x=\"268.152344\" y=\"14.515625\"/>\n",
       "  <use xlink:href=\"#glyph3-16\" x=\"271.152344\" y=\"14.515625\"/>\n",
       "  <use xlink:href=\"#glyph3-7\" x=\"279.152344\" y=\"14.515625\"/>\n",
       "  <use xlink:href=\"#glyph3-4\" x=\"283.152344\" y=\"14.515625\"/>\n",
       "  <use xlink:href=\"#glyph3-12\" x=\"288.152344\" y=\"14.515625\"/>\n",
       "  <use xlink:href=\"#glyph3-13\" x=\"296.152344\" y=\"14.515625\"/>\n",
       "  <use xlink:href=\"#glyph3-5\" x=\"299.152344\" y=\"14.515625\"/>\n",
       "  <use xlink:href=\"#glyph3-10\" x=\"307.152344\" y=\"14.515625\"/>\n",
       "  <use xlink:href=\"#glyph3-15\" x=\"311.152344\" y=\"14.515625\"/>\n",
       "  <use xlink:href=\"#glyph3-8\" x=\"314.152344\" y=\"14.515625\"/>\n",
       "  <use xlink:href=\"#glyph3-16\" x=\"322.152344\" y=\"14.515625\"/>\n",
       "  <use xlink:href=\"#glyph3-7\" x=\"330.152344\" y=\"14.515625\"/>\n",
       "  <use xlink:href=\"#glyph3-10\" x=\"334.152344\" y=\"14.515625\"/>\n",
       "  <use xlink:href=\"#glyph3-8\" x=\"338.152344\" y=\"14.515625\"/>\n",
       "  <use xlink:href=\"#glyph3-7\" x=\"346.152344\" y=\"14.515625\"/>\n",
       "  <use xlink:href=\"#glyph3-10\" x=\"350.152344\" y=\"14.515625\"/>\n",
       "  <use xlink:href=\"#glyph3-11\" x=\"354.152344\" y=\"14.515625\"/>\n",
       "  <use xlink:href=\"#glyph3-12\" x=\"362.152344\" y=\"14.515625\"/>\n",
       "  <use xlink:href=\"#glyph3-7\" x=\"370.152344\" y=\"14.515625\"/>\n",
       "  <use xlink:href=\"#glyph3-19\" x=\"374.152344\" y=\"14.515625\"/>\n",
       "  <use xlink:href=\"#glyph3-5\" x=\"381.152344\" y=\"14.515625\"/>\n",
       "  <use xlink:href=\"#glyph3-13\" x=\"389.152344\" y=\"14.515625\"/>\n",
       "  <use xlink:href=\"#glyph3-3\" x=\"392.152344\" y=\"14.515625\"/>\n",
       "  <use xlink:href=\"#glyph3-12\" x=\"400.152344\" y=\"14.515625\"/>\n",
       "  <use xlink:href=\"#glyph3-7\" x=\"408.152344\" y=\"14.515625\"/>\n",
       "  <use xlink:href=\"#glyph3-8\" x=\"412.152344\" y=\"14.515625\"/>\n",
       "  <use xlink:href=\"#glyph3-9\" x=\"420.152344\" y=\"14.515625\"/>\n",
       "  <use xlink:href=\"#glyph3-7\" x=\"424.152344\" y=\"14.515625\"/>\n",
       "  <use xlink:href=\"#glyph3-20\" x=\"428.152344\" y=\"14.515625\"/>\n",
       "</g>\n",
       "</g>\n",
       "</svg>\n"
      ],
      "text/plain": [
       "plot without title"
      ]
     },
     "metadata": {
      "application/pdf": {
       "height": 420,
       "width": 420
      },
      "image/jpeg": {
       "height": 420,
       "width": 420
      },
      "image/png": {
       "height": 420,
       "width": 420
      },
      "image/svg+xml": {
       "height": 420,
       "isolated": true,
       "width": 420
      }
     },
     "output_type": "display_data"
    }
   ],
   "source": [
    "which_k <- hd_accuracies |>\n",
    "           ggplot(aes(x = neighbors, y = mean)) +\n",
    "           geom_point() +\n",
    "           geom_line() +\n",
    "           labs(x = \"Neighbors\", y = \"Accuracy\") + \n",
    "           ggtitle(\"Accuracy of the classification model in relation to the value of k\") +\n",
    "           theme(text = element_text(size = 12))\n",
    "which_k"
   ]
  },
  {
   "cell_type": "markdown",
   "id": "3e867a96-7b9a-47c7-b72e-0ab1d8336b88",
   "metadata": {},
   "source": [
    "**In the graph presented above, a huge drop in accuracy can be observed as the chosen value of k increases past 2. **"
   ]
  },
  {
   "cell_type": "code",
   "execution_count": 42,
   "id": "1f5796f6-8a03-4e39-ada5-d604d5a31c70",
   "metadata": {
    "tags": [],
    "vscode": {
     "languageId": "r"
    }
   },
   "outputs": [
    {
     "data": {
      "text/html": [
       "<table class=\"dataframe\">\n",
       "<caption>A tibble: 1 × 3</caption>\n",
       "<thead>\n",
       "\t<tr><th scope=col>.metric</th><th scope=col>.estimator</th><th scope=col>.estimate</th></tr>\n",
       "\t<tr><th scope=col>&lt;chr&gt;</th><th scope=col>&lt;chr&gt;</th><th scope=col>&lt;dbl&gt;</th></tr>\n",
       "</thead>\n",
       "<tbody>\n",
       "\t<tr><td>accuracy</td><td>multiclass</td><td>0.9565217</td></tr>\n",
       "</tbody>\n",
       "</table>\n"
      ],
      "text/latex": [
       "A tibble: 1 × 3\n",
       "\\begin{tabular}{lll}\n",
       " .metric & .estimator & .estimate\\\\\n",
       " <chr> & <chr> & <dbl>\\\\\n",
       "\\hline\n",
       "\t accuracy & multiclass & 0.9565217\\\\\n",
       "\\end{tabular}\n"
      ],
      "text/markdown": [
       "\n",
       "A tibble: 1 × 3\n",
       "\n",
       "| .metric &lt;chr&gt; | .estimator &lt;chr&gt; | .estimate &lt;dbl&gt; |\n",
       "|---|---|---|\n",
       "| accuracy | multiclass | 0.9565217 |\n",
       "\n"
      ],
      "text/plain": [
       "  .metric  .estimator .estimate\n",
       "1 accuracy multiclass 0.9565217"
      ]
     },
     "metadata": {},
     "output_type": "display_data"
    },
    {
     "data": {
      "text/plain": [
       "          Truth\n",
       "Prediction  0  1  2  3\n",
       "         0 93  0  0  3\n",
       "         1  6 31  0  0\n",
       "         2  0  0 57  0\n",
       "         3  0  0  0 17"
      ]
     },
     "metadata": {},
     "output_type": "display_data"
    }
   ],
   "source": [
    "hd_spec_best <- nearest_neighbor(weight_func = \"rectangular\", neighbors = 1) |>\n",
    "           set_engine(\"kknn\") |>\n",
    "           set_mode(\"classification\")\n",
    "\n",
    "hd_fit_best <- workflow() |>\n",
    "          add_recipe(hd_recipe) |>\n",
    "          add_model(hd_spec_best) |>\n",
    "          fit(data = hd_train)\n",
    "\n",
    "hd_predictions_best <- predict(hd_fit_best, hd_test) |>\n",
    "                  bind_cols(hd_test)\n",
    "\n",
    "hd_accuracy_best <- hd_predictions_best |>\n",
    "               metrics(truth = chest_pain_type, estimate = .pred_class) |>\n",
    "               filter(.metric == \"accuracy\")\n",
    "\n",
    "matrix_best <- hd_predictions_best |>\n",
    "    conf_mat(truth = chest_pain_type, estimate = .pred_class)\n",
    "\n",
    "hd_accuracy_best\n",
    "matrix_best"
   ]
  },
  {
   "cell_type": "markdown",
   "id": "4cad6451-e9dc-42da-ad5e-2b6146a09bc8",
   "metadata": {},
   "source": [
    "#### **k) Determine the importance of each predictor in predicting the chest pain type.**"
   ]
  },
  {
   "cell_type": "code",
   "execution_count": 65,
   "id": "8f21ce32-06bf-4064-9f02-83627991b8c2",
   "metadata": {
    "tags": [],
    "vscode": {
     "languageId": "r"
    }
   },
   "outputs": [
    {
     "data": {
      "text/plain": [
       "          Truth\n",
       "Prediction  0  1  2  3\n",
       "         0 96 28 44 19\n",
       "         1  3  3  6  0\n",
       "         2  0  0  7  0\n",
       "         3  0  0  0  1"
      ]
     },
     "metadata": {},
     "output_type": "display_data"
    }
   ],
   "source": [
    "test_spec <- nearest_neighbor(weight_func = \"rectangular\", neighbors = 10) |>\n",
    "           set_engine(\"kknn\") |>\n",
    "           set_mode(\"classification\")\n",
    "\n",
    "# age\n",
    "age_recipe <- recipe(chest_pain_type ~ age, data = hd_train)\n",
    "\n",
    "age_fit <- workflow() |>\n",
    "          add_recipe(age_recipe) |>\n",
    "          add_model(test_spec) |>\n",
    "          fit(data = hd_train)\n",
    "\n",
    "age_predictions <- predict(age_fit, hd_test) |>\n",
    "                  bind_cols(hd_test)\n",
    "\n",
    "age_matrix <- age_predictions |>\n",
    "    conf_mat(truth = chest_pain_type, estimate = .pred_class)\n",
    "\n",
    "age_matrix"
   ]
  },
  {
   "cell_type": "code",
   "execution_count": 62,
   "id": "a1b26673-02b6-4605-a62f-a15c81039e38",
   "metadata": {
    "tags": [],
    "vscode": {
     "languageId": "r"
    }
   },
   "outputs": [
    {
     "data": {
      "text/plain": [
       "          Truth\n",
       "Prediction  0  1  2  3\n",
       "         0 96 28 52 19\n",
       "         1  3  2  0  0\n",
       "         2  0  0  2  0\n",
       "         3  0  1  3  1"
      ]
     },
     "metadata": {},
     "output_type": "display_data"
    }
   ],
   "source": [
    "# resting_bp\n",
    "resting_bp_recipe <- recipe(chest_pain_type ~ resting_bp, data = hd_train)\n",
    "\n",
    "resting_bp_fit <- workflow() |>\n",
    "          add_recipe(resting_bp_recipe) |>\n",
    "          add_model(test_spec) |>\n",
    "          fit(data = hd_train)\n",
    "\n",
    "resting_bp_predictions <- predict(resting_bp_fit, hd_test) |>\n",
    "                  bind_cols(hd_test)\n",
    "\n",
    "resting_bp_matrix <- resting_bp_predictions |>\n",
    "    conf_mat(truth = chest_pain_type, estimate = .pred_class)\n",
    "\n",
    "resting_bp_matrix"
   ]
  },
  {
   "cell_type": "code",
   "execution_count": 63,
   "id": "9fdeba6b-587c-4c6f-8eae-df99aa064ecc",
   "metadata": {
    "tags": [],
    "vscode": {
     "languageId": "r"
    }
   },
   "outputs": [
    {
     "data": {
      "text/plain": [
       "          Truth\n",
       "Prediction  0  1  2  3\n",
       "         0 85 15 27  9\n",
       "         1  4 12  7  5\n",
       "         2 10  4 20  6\n",
       "         3  0  0  3  0"
      ]
     },
     "metadata": {},
     "output_type": "display_data"
    }
   ],
   "source": [
    "# serum_cholesterol\n",
    "serum_cholesterol_recipe <- recipe(chest_pain_type ~ serum_cholesterol, data = hd_train)\n",
    "\n",
    "serum_cholesterol_fit <- workflow() |>\n",
    "          add_recipe(serum_cholesterol_recipe) |>\n",
    "          add_model(test_spec) |>\n",
    "          fit(data = hd_train)\n",
    "\n",
    "serum_cholesterol_recipe_predictions <- predict(serum_cholesterol_fit, hd_test) |>\n",
    "                  bind_cols(hd_test)\n",
    "\n",
    "serum_cholesterol_fit_matrix <- serum_cholesterol_recipe_predictions |>\n",
    "    conf_mat(truth = chest_pain_type, estimate = .pred_class)\n",
    "\n",
    "serum_cholesterol_fit_matrix"
   ]
  },
  {
   "cell_type": "code",
   "execution_count": 64,
   "id": "7468c630-9b84-4102-9ff6-08b4df533146",
   "metadata": {
    "tags": [],
    "vscode": {
     "languageId": "r"
    }
   },
   "outputs": [
    {
     "data": {
      "text/plain": [
       "          Truth\n",
       "Prediction  0  1  2  3\n",
       "         0 80 18 36 13\n",
       "         1  2  5  6  3\n",
       "         2 10  5 14  0\n",
       "         3  7  3  1  4"
      ]
     },
     "metadata": {},
     "output_type": "display_data"
    }
   ],
   "source": [
    "# max_heart_rate\n",
    "max_heart_rate_recipe <- recipe(chest_pain_type ~ max_heart_rate, data = hd_train)\n",
    "\n",
    "max_heart_rate_fit <- workflow() |>\n",
    "          add_recipe(max_heart_rate_recipe) |>\n",
    "          add_model(test_spec) |>\n",
    "          fit(data = hd_train)\n",
    "\n",
    "max_heart_rate_predictions <- predict(max_heart_rate_fit, hd_test) |>\n",
    "                  bind_cols(hd_test)\n",
    "\n",
    "max_heart_rate_matrix <- max_heart_rate_predictions |>\n",
    "    conf_mat(truth = chest_pain_type, estimate = .pred_class)\n",
    "\n",
    "max_heart_rate_matrix"
   ]
  },
  {
   "cell_type": "markdown",
   "id": "53569bc0-d44a-420f-b87e-1ad1a5548b46",
   "metadata": {},
   "source": [
    "## 3) Discussion"
   ]
  },
  {
   "cell_type": "markdown",
   "id": "aa414da0-1ec1-4f20-ba20-240fba022790",
   "metadata": {},
   "source": [
    "#### **a) Results**"
   ]
  },
  {
   "cell_type": "markdown",
   "id": "92b1bd62-cfdc-408a-b55c-8268db7e2a2b",
   "metadata": {},
   "source": []
  },
  {
   "cell_type": "markdown",
   "id": "d94d6b6f-213a-4e80-892c-4355f7f91dd1",
   "metadata": {},
   "source": [
    "#### **b) Was this what was expected?**"
   ]
  },
  {
   "cell_type": "markdown",
   "id": "d66013fb-c46b-4af0-9884-f0699a0109dd",
   "metadata": {},
   "source": []
  },
  {
   "cell_type": "markdown",
   "id": "f5a3af44-fa30-4a96-8c29-17794b0247aa",
   "metadata": {},
   "source": [
    "#### **c) What impact can these findings have?**"
   ]
  },
  {
   "cell_type": "markdown",
   "id": "3b504af6-8f03-42fd-82cc-9703b77149ef",
   "metadata": {},
   "source": []
  },
  {
   "cell_type": "markdown",
   "id": "35db3ec8-effa-4e12-9edf-d04358ce57ae",
   "metadata": {},
   "source": [
    "#### **d) What are some future questions this analysis may lead to?**"
   ]
  },
  {
   "cell_type": "markdown",
   "id": "ee88ab21-fd74-46bf-ba45-954feeeca552",
   "metadata": {},
   "source": []
  },
  {
   "cell_type": "markdown",
   "id": "43c51ef5-f914-4cc6-bcaf-135183eb937a",
   "metadata": {},
   "source": [
    "## 4) References"
   ]
  },
  {
   "cell_type": "markdown",
   "id": "4315b10a-3873-4be2-a9e1-20a232f77b4a",
   "metadata": {},
   "source": [
    "Centers for Disease Control and Prevention. (2021, July 19). Coronary artery disease. Centers for Disease Control and Prevention. https://www.cdc.gov/heartdisease/coronary_ad.htm#:~:text=Print-,Coronary%20Artery%20Disease,This%20process%20is%20called%20atherosclerosis. \n",
    "\n",
    "NHS. (n.d.). Heart Attack. NHS choices. \n",
    "https://www.nhs.uk/conditions/heart-attack/symptoms/ "
   ]
  }
 ],
 "metadata": {
  "kernelspec": {
   "display_name": "R",
   "language": "R",
   "name": "ir"
  },
  "language_info": {
   "codemirror_mode": "r",
   "file_extension": ".r",
   "mimetype": "text/x-r-source",
   "name": "R",
   "pygments_lexer": "r",
   "version": "4.2.2"
  }
 },
 "nbformat": 4,
 "nbformat_minor": 5
}
