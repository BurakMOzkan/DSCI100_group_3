{
 "cells": [
  {
   "cell_type": "markdown",
   "id": "3bfa3089-0c94-4645-a146-14ff84c5f32b",
   "metadata": {},
   "source": [
    "# Group 3 Project Proposal"
   ]
  },
  {
   "cell_type": "markdown",
   "id": "35ecfb90",
   "metadata": {},
   "source": [
    "# Title : Diagnostic model for Chest Pain using medical indicators"
   ]
  },
  {
   "cell_type": "markdown",
   "id": "6be7823e",
   "metadata": {},
   "source": [
    "# Introduction:\n",
    " - Provide some relevant background information on the topic so that someone unfamiliar with it will be prepared to understand the rest of your proposal\n",
    "\n",
    "  \n",
    "\n",
    " - Clearly state the question you will try to answer with your project\n",
    "\n",
    "   We are using medical indicators which the general public will be able understand and building a model which will give a preliminary diagnosis on \"What kind of Chest Pain\" they have. \n",
    "\n",
    " - Identify and describe the dataset that will be used to answer the question\n",
    "   \n",
    "   We are using the \"Heart Disease Dataset\" which contains combined information from 4 different databases. We are using data from the Cleveland database for our model. This is highly accredited and cited dataset which was donated in 1998. There are 76 attributes, but all published experiments refer to using a subset of 14 of them. Of theses 14 attributes, we are using a smaller subset which we filtered based on if the data can be understood by the general public and if it can perform well on a KNN engine based model."
   ]
  },
  {
   "cell_type": "markdown",
   "id": "c4a468b8",
   "metadata": {},
   "source": [
    "# Preliminary exploratory data analysis:\n",
    " - Demonstrate that the dataset can be read from the web into R \n",
    " - Clean and wrangle your data into a tidy format\n",
    " - Using only training data, summarize the data in at least one table (this is exploratory data analysis). An example of a useful table could be one that reports the number of observations in each class, the means of the predictor variables you plan to use in your analysis and how many rows have missing data. \n",
    " - Using only training data, visualize the data with at least one plot relevant to the analysis you plan to do (this is exploratory data analysis). An example of a useful visualization could be one that compares the distributions of each of the predictor variables you plan to use in your analysis."
   ]
  },
  {
   "cell_type": "markdown",
   "id": "bd9d859a",
   "metadata": {},
   "source": [
    "# Methods:\n",
    " - Explain how you will conduct either your data analysis and which variables/columns you will use. Note - you do not need to use all variables/columns that exist in the raw data set. In fact, that's often not a good idea. For each variable think: is this a useful variable for prediction?\n",
    " - Describe at least one way that you will visualize the results"
   ]
  },
  {
   "cell_type": "markdown",
   "id": "87875b73",
   "metadata": {},
   "source": [
    "# Expected outcomes and significance:\n",
    " - What do you expect to find?\n",
    "\n",
    "   We are hoping to find a relation between simple medical indicators which the public are aware of and the type of chest pain. \n",
    " - What impact could such findings have?\n",
    " \n",
    "   The general public could hope to have a preliminary diagnosis based on their model to guide them in a general idea of what kind of chest pain they could have and if it is severe enough to visit a doctr. DISCLAIMER: we are only aiming to give a preliminary diagnosis and don't explain to replace a medical diagnosis by a professional.\n",
    " - What future questions could this lead to?"
   ]
  }
 ],
 "metadata": {
  "kernelspec": {
   "display_name": "Python 3 (ipykernel)",
   "language": "python",
   "name": "python3"
  },
  "language_info": {
   "codemirror_mode": {
    "name": "ipython",
    "version": 3
   },
   "file_extension": ".py",
   "mimetype": "text/x-python",
   "name": "python",
   "nbconvert_exporter": "python",
   "pygments_lexer": "ipython3",
   "version": "3.10.8"
  }
 },
 "nbformat": 4,
 "nbformat_minor": 5
}
