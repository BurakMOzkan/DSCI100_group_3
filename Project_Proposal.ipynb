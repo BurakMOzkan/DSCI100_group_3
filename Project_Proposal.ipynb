{
 "cells": [
  {
   "cell_type": "markdown",
   "id": "3bfa3089-0c94-4645-a146-14ff84c5f32b",
   "metadata": {},
   "source": [
    "# Group 3 Project Proposal"
   ]
  },
  {
   "cell_type": "code",
   "execution_count": null,
   "id": "49c3acfa-fec5-47c2-b7f4-e50b7b074c83",
   "metadata": {},
   "outputs": [],
   "source": []
  }
 ],
 "metadata": {
  "kernelspec": {
   "display_name": "Python 3 (ipykernel)",
   "language": "python",
   "name": "python3"
  },
  "language_info": {
   "codemirror_mode": {
    "name": "ipython",
    "version": 3
   },
   "file_extension": ".py",
   "mimetype": "text/x-python",
   "name": "python",
   "nbconvert_exporter": "python",
   "pygments_lexer": "ipython3",
   "version": "3.10.8"
  }
 },
 "nbformat": 4,
 "nbformat_minor": 5
}
